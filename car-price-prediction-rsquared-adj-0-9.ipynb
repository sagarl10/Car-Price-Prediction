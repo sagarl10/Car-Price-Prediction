{
 "cells": [
  {
   "cell_type": "markdown",
   "id": "e37c0f13",
   "metadata": {
    "papermill": {
     "duration": 0.032998,
     "end_time": "2022-12-13T10:49:24.099123",
     "exception": false,
     "start_time": "2022-12-13T10:49:24.066125",
     "status": "completed"
    },
    "tags": []
   },
   "source": [
    "# Imoprt the necessary libraries"
   ]
  },
  {
   "cell_type": "markdown",
   "id": "86e8fc10",
   "metadata": {
    "papermill": {
     "duration": 0.034137,
     "end_time": "2022-12-13T10:49:24.164620",
     "exception": false,
     "start_time": "2022-12-13T10:49:24.130483",
     "status": "completed"
    },
    "tags": []
   },
   "source": [
    "<div style=\"color:black;\n",
    "           display:fill;\n",
    "           border-radius:5px;\n",
    "           background-color:yellow;\n",
    "           font-size:150%;\n",
    "           font-family:Verdana;\n",
    "           letter-spacing:0.5px\">\n",
    "\n",
    "<p >Import the necessary libraries</p>\n",
    "\n",
    "</div>"
   ]
  },
  {
   "cell_type": "code",
   "execution_count": 1,
   "id": "8d49ec2c",
   "metadata": {
    "execution": {
     "iopub.execute_input": "2022-12-13T10:49:24.227638Z",
     "iopub.status.busy": "2022-12-13T10:49:24.227022Z",
     "iopub.status.idle": "2022-12-13T10:49:25.566491Z",
     "shell.execute_reply": "2022-12-13T10:49:25.565255Z"
    },
    "papermill": {
     "duration": 1.372373,
     "end_time": "2022-12-13T10:49:25.569318",
     "exception": false,
     "start_time": "2022-12-13T10:49:24.196945",
     "status": "completed"
    },
    "tags": []
   },
   "outputs": [],
   "source": [
    "import pandas as pd\n",
    "import numpy as np\n",
    "import matplotlib.pyplot as plt\n",
    "import seaborn as sns\n",
    "from sklearn.model_selection import train_test_split\n",
    "from sklearn.linear_model import LinearRegression\n",
    "from sklearn.preprocessing import StandardScaler\n",
    "from sklearn import metrics\n",
    "from sklearn.metrics import mean_absolute_error,mean_squared_error"
   ]
  },
  {
   "cell_type": "markdown",
   "id": "266e0902",
   "metadata": {
    "papermill": {
     "duration": 0.026308,
     "end_time": "2022-12-13T10:49:25.622321",
     "exception": false,
     "start_time": "2022-12-13T10:49:25.596013",
     "status": "completed"
    },
    "tags": []
   },
   "source": [
    "**Read the car data**"
   ]
  },
  {
   "cell_type": "code",
   "execution_count": 2,
   "id": "1316e03e",
   "metadata": {
    "execution": {
     "iopub.execute_input": "2022-12-13T10:49:25.676890Z",
     "iopub.status.busy": "2022-12-13T10:49:25.676121Z",
     "iopub.status.idle": "2022-12-13T10:49:25.700662Z",
     "shell.execute_reply": "2022-12-13T10:49:25.699826Z"
    },
    "papermill": {
     "duration": 0.054828,
     "end_time": "2022-12-13T10:49:25.703294",
     "exception": false,
     "start_time": "2022-12-13T10:49:25.648466",
     "status": "completed"
    },
    "tags": []
   },
   "outputs": [],
   "source": [
    "df=pd.read_csv(\"/kaggle/input/car-data/CarPrice_Assignment.csv\")"
   ]
  },
  {
   "cell_type": "code",
   "execution_count": 3,
   "id": "4a0e7c61",
   "metadata": {
    "execution": {
     "iopub.execute_input": "2022-12-13T10:49:25.758646Z",
     "iopub.status.busy": "2022-12-13T10:49:25.757856Z",
     "iopub.status.idle": "2022-12-13T10:49:25.801948Z",
     "shell.execute_reply": "2022-12-13T10:49:25.800966Z"
    },
    "papermill": {
     "duration": 0.075236,
     "end_time": "2022-12-13T10:49:25.805355",
     "exception": false,
     "start_time": "2022-12-13T10:49:25.730119",
     "status": "completed"
    },
    "tags": []
   },
   "outputs": [
    {
     "data": {
      "text/html": [
       "<div>\n",
       "<style scoped>\n",
       "    .dataframe tbody tr th:only-of-type {\n",
       "        vertical-align: middle;\n",
       "    }\n",
       "\n",
       "    .dataframe tbody tr th {\n",
       "        vertical-align: top;\n",
       "    }\n",
       "\n",
       "    .dataframe thead th {\n",
       "        text-align: right;\n",
       "    }\n",
       "</style>\n",
       "<table border=\"1\" class=\"dataframe\">\n",
       "  <thead>\n",
       "    <tr style=\"text-align: right;\">\n",
       "      <th></th>\n",
       "      <th>car_ID</th>\n",
       "      <th>symboling</th>\n",
       "      <th>CarName</th>\n",
       "      <th>fueltype</th>\n",
       "      <th>aspiration</th>\n",
       "      <th>doornumber</th>\n",
       "      <th>carbody</th>\n",
       "      <th>drivewheel</th>\n",
       "      <th>enginelocation</th>\n",
       "      <th>wheelbase</th>\n",
       "      <th>...</th>\n",
       "      <th>enginesize</th>\n",
       "      <th>fuelsystem</th>\n",
       "      <th>boreratio</th>\n",
       "      <th>stroke</th>\n",
       "      <th>compressionratio</th>\n",
       "      <th>horsepower</th>\n",
       "      <th>peakrpm</th>\n",
       "      <th>citympg</th>\n",
       "      <th>highwaympg</th>\n",
       "      <th>price</th>\n",
       "    </tr>\n",
       "  </thead>\n",
       "  <tbody>\n",
       "    <tr>\n",
       "      <th>0</th>\n",
       "      <td>1</td>\n",
       "      <td>3</td>\n",
       "      <td>alfa-romero giulia</td>\n",
       "      <td>gas</td>\n",
       "      <td>std</td>\n",
       "      <td>two</td>\n",
       "      <td>convertible</td>\n",
       "      <td>rwd</td>\n",
       "      <td>front</td>\n",
       "      <td>88.6</td>\n",
       "      <td>...</td>\n",
       "      <td>130</td>\n",
       "      <td>mpfi</td>\n",
       "      <td>3.47</td>\n",
       "      <td>2.68</td>\n",
       "      <td>9.0</td>\n",
       "      <td>111</td>\n",
       "      <td>5000</td>\n",
       "      <td>21</td>\n",
       "      <td>27</td>\n",
       "      <td>13495.0</td>\n",
       "    </tr>\n",
       "    <tr>\n",
       "      <th>1</th>\n",
       "      <td>2</td>\n",
       "      <td>3</td>\n",
       "      <td>alfa-romero stelvio</td>\n",
       "      <td>gas</td>\n",
       "      <td>std</td>\n",
       "      <td>two</td>\n",
       "      <td>convertible</td>\n",
       "      <td>rwd</td>\n",
       "      <td>front</td>\n",
       "      <td>88.6</td>\n",
       "      <td>...</td>\n",
       "      <td>130</td>\n",
       "      <td>mpfi</td>\n",
       "      <td>3.47</td>\n",
       "      <td>2.68</td>\n",
       "      <td>9.0</td>\n",
       "      <td>111</td>\n",
       "      <td>5000</td>\n",
       "      <td>21</td>\n",
       "      <td>27</td>\n",
       "      <td>16500.0</td>\n",
       "    </tr>\n",
       "    <tr>\n",
       "      <th>2</th>\n",
       "      <td>3</td>\n",
       "      <td>1</td>\n",
       "      <td>alfa-romero Quadrifoglio</td>\n",
       "      <td>gas</td>\n",
       "      <td>std</td>\n",
       "      <td>two</td>\n",
       "      <td>hatchback</td>\n",
       "      <td>rwd</td>\n",
       "      <td>front</td>\n",
       "      <td>94.5</td>\n",
       "      <td>...</td>\n",
       "      <td>152</td>\n",
       "      <td>mpfi</td>\n",
       "      <td>2.68</td>\n",
       "      <td>3.47</td>\n",
       "      <td>9.0</td>\n",
       "      <td>154</td>\n",
       "      <td>5000</td>\n",
       "      <td>19</td>\n",
       "      <td>26</td>\n",
       "      <td>16500.0</td>\n",
       "    </tr>\n",
       "    <tr>\n",
       "      <th>3</th>\n",
       "      <td>4</td>\n",
       "      <td>2</td>\n",
       "      <td>audi 100 ls</td>\n",
       "      <td>gas</td>\n",
       "      <td>std</td>\n",
       "      <td>four</td>\n",
       "      <td>sedan</td>\n",
       "      <td>fwd</td>\n",
       "      <td>front</td>\n",
       "      <td>99.8</td>\n",
       "      <td>...</td>\n",
       "      <td>109</td>\n",
       "      <td>mpfi</td>\n",
       "      <td>3.19</td>\n",
       "      <td>3.40</td>\n",
       "      <td>10.0</td>\n",
       "      <td>102</td>\n",
       "      <td>5500</td>\n",
       "      <td>24</td>\n",
       "      <td>30</td>\n",
       "      <td>13950.0</td>\n",
       "    </tr>\n",
       "    <tr>\n",
       "      <th>4</th>\n",
       "      <td>5</td>\n",
       "      <td>2</td>\n",
       "      <td>audi 100ls</td>\n",
       "      <td>gas</td>\n",
       "      <td>std</td>\n",
       "      <td>four</td>\n",
       "      <td>sedan</td>\n",
       "      <td>4wd</td>\n",
       "      <td>front</td>\n",
       "      <td>99.4</td>\n",
       "      <td>...</td>\n",
       "      <td>136</td>\n",
       "      <td>mpfi</td>\n",
       "      <td>3.19</td>\n",
       "      <td>3.40</td>\n",
       "      <td>8.0</td>\n",
       "      <td>115</td>\n",
       "      <td>5500</td>\n",
       "      <td>18</td>\n",
       "      <td>22</td>\n",
       "      <td>17450.0</td>\n",
       "    </tr>\n",
       "    <tr>\n",
       "      <th>...</th>\n",
       "      <td>...</td>\n",
       "      <td>...</td>\n",
       "      <td>...</td>\n",
       "      <td>...</td>\n",
       "      <td>...</td>\n",
       "      <td>...</td>\n",
       "      <td>...</td>\n",
       "      <td>...</td>\n",
       "      <td>...</td>\n",
       "      <td>...</td>\n",
       "      <td>...</td>\n",
       "      <td>...</td>\n",
       "      <td>...</td>\n",
       "      <td>...</td>\n",
       "      <td>...</td>\n",
       "      <td>...</td>\n",
       "      <td>...</td>\n",
       "      <td>...</td>\n",
       "      <td>...</td>\n",
       "      <td>...</td>\n",
       "      <td>...</td>\n",
       "    </tr>\n",
       "    <tr>\n",
       "      <th>200</th>\n",
       "      <td>201</td>\n",
       "      <td>-1</td>\n",
       "      <td>volvo 145e (sw)</td>\n",
       "      <td>gas</td>\n",
       "      <td>std</td>\n",
       "      <td>four</td>\n",
       "      <td>sedan</td>\n",
       "      <td>rwd</td>\n",
       "      <td>front</td>\n",
       "      <td>109.1</td>\n",
       "      <td>...</td>\n",
       "      <td>141</td>\n",
       "      <td>mpfi</td>\n",
       "      <td>3.78</td>\n",
       "      <td>3.15</td>\n",
       "      <td>9.5</td>\n",
       "      <td>114</td>\n",
       "      <td>5400</td>\n",
       "      <td>23</td>\n",
       "      <td>28</td>\n",
       "      <td>16845.0</td>\n",
       "    </tr>\n",
       "    <tr>\n",
       "      <th>201</th>\n",
       "      <td>202</td>\n",
       "      <td>-1</td>\n",
       "      <td>volvo 144ea</td>\n",
       "      <td>gas</td>\n",
       "      <td>turbo</td>\n",
       "      <td>four</td>\n",
       "      <td>sedan</td>\n",
       "      <td>rwd</td>\n",
       "      <td>front</td>\n",
       "      <td>109.1</td>\n",
       "      <td>...</td>\n",
       "      <td>141</td>\n",
       "      <td>mpfi</td>\n",
       "      <td>3.78</td>\n",
       "      <td>3.15</td>\n",
       "      <td>8.7</td>\n",
       "      <td>160</td>\n",
       "      <td>5300</td>\n",
       "      <td>19</td>\n",
       "      <td>25</td>\n",
       "      <td>19045.0</td>\n",
       "    </tr>\n",
       "    <tr>\n",
       "      <th>202</th>\n",
       "      <td>203</td>\n",
       "      <td>-1</td>\n",
       "      <td>volvo 244dl</td>\n",
       "      <td>gas</td>\n",
       "      <td>std</td>\n",
       "      <td>four</td>\n",
       "      <td>sedan</td>\n",
       "      <td>rwd</td>\n",
       "      <td>front</td>\n",
       "      <td>109.1</td>\n",
       "      <td>...</td>\n",
       "      <td>173</td>\n",
       "      <td>mpfi</td>\n",
       "      <td>3.58</td>\n",
       "      <td>2.87</td>\n",
       "      <td>8.8</td>\n",
       "      <td>134</td>\n",
       "      <td>5500</td>\n",
       "      <td>18</td>\n",
       "      <td>23</td>\n",
       "      <td>21485.0</td>\n",
       "    </tr>\n",
       "    <tr>\n",
       "      <th>203</th>\n",
       "      <td>204</td>\n",
       "      <td>-1</td>\n",
       "      <td>volvo 246</td>\n",
       "      <td>diesel</td>\n",
       "      <td>turbo</td>\n",
       "      <td>four</td>\n",
       "      <td>sedan</td>\n",
       "      <td>rwd</td>\n",
       "      <td>front</td>\n",
       "      <td>109.1</td>\n",
       "      <td>...</td>\n",
       "      <td>145</td>\n",
       "      <td>idi</td>\n",
       "      <td>3.01</td>\n",
       "      <td>3.40</td>\n",
       "      <td>23.0</td>\n",
       "      <td>106</td>\n",
       "      <td>4800</td>\n",
       "      <td>26</td>\n",
       "      <td>27</td>\n",
       "      <td>22470.0</td>\n",
       "    </tr>\n",
       "    <tr>\n",
       "      <th>204</th>\n",
       "      <td>205</td>\n",
       "      <td>-1</td>\n",
       "      <td>volvo 264gl</td>\n",
       "      <td>gas</td>\n",
       "      <td>turbo</td>\n",
       "      <td>four</td>\n",
       "      <td>sedan</td>\n",
       "      <td>rwd</td>\n",
       "      <td>front</td>\n",
       "      <td>109.1</td>\n",
       "      <td>...</td>\n",
       "      <td>141</td>\n",
       "      <td>mpfi</td>\n",
       "      <td>3.78</td>\n",
       "      <td>3.15</td>\n",
       "      <td>9.5</td>\n",
       "      <td>114</td>\n",
       "      <td>5400</td>\n",
       "      <td>19</td>\n",
       "      <td>25</td>\n",
       "      <td>22625.0</td>\n",
       "    </tr>\n",
       "  </tbody>\n",
       "</table>\n",
       "<p>205 rows × 26 columns</p>\n",
       "</div>"
      ],
      "text/plain": [
       "     car_ID  symboling                   CarName fueltype aspiration  \\\n",
       "0         1          3        alfa-romero giulia      gas        std   \n",
       "1         2          3       alfa-romero stelvio      gas        std   \n",
       "2         3          1  alfa-romero Quadrifoglio      gas        std   \n",
       "3         4          2               audi 100 ls      gas        std   \n",
       "4         5          2                audi 100ls      gas        std   \n",
       "..      ...        ...                       ...      ...        ...   \n",
       "200     201         -1           volvo 145e (sw)      gas        std   \n",
       "201     202         -1               volvo 144ea      gas      turbo   \n",
       "202     203         -1               volvo 244dl      gas        std   \n",
       "203     204         -1                 volvo 246   diesel      turbo   \n",
       "204     205         -1               volvo 264gl      gas      turbo   \n",
       "\n",
       "    doornumber      carbody drivewheel enginelocation  wheelbase  ...  \\\n",
       "0          two  convertible        rwd          front       88.6  ...   \n",
       "1          two  convertible        rwd          front       88.6  ...   \n",
       "2          two    hatchback        rwd          front       94.5  ...   \n",
       "3         four        sedan        fwd          front       99.8  ...   \n",
       "4         four        sedan        4wd          front       99.4  ...   \n",
       "..         ...          ...        ...            ...        ...  ...   \n",
       "200       four        sedan        rwd          front      109.1  ...   \n",
       "201       four        sedan        rwd          front      109.1  ...   \n",
       "202       four        sedan        rwd          front      109.1  ...   \n",
       "203       four        sedan        rwd          front      109.1  ...   \n",
       "204       four        sedan        rwd          front      109.1  ...   \n",
       "\n",
       "     enginesize  fuelsystem  boreratio  stroke compressionratio horsepower  \\\n",
       "0           130        mpfi       3.47    2.68              9.0        111   \n",
       "1           130        mpfi       3.47    2.68              9.0        111   \n",
       "2           152        mpfi       2.68    3.47              9.0        154   \n",
       "3           109        mpfi       3.19    3.40             10.0        102   \n",
       "4           136        mpfi       3.19    3.40              8.0        115   \n",
       "..          ...         ...        ...     ...              ...        ...   \n",
       "200         141        mpfi       3.78    3.15              9.5        114   \n",
       "201         141        mpfi       3.78    3.15              8.7        160   \n",
       "202         173        mpfi       3.58    2.87              8.8        134   \n",
       "203         145         idi       3.01    3.40             23.0        106   \n",
       "204         141        mpfi       3.78    3.15              9.5        114   \n",
       "\n",
       "     peakrpm citympg  highwaympg    price  \n",
       "0       5000      21          27  13495.0  \n",
       "1       5000      21          27  16500.0  \n",
       "2       5000      19          26  16500.0  \n",
       "3       5500      24          30  13950.0  \n",
       "4       5500      18          22  17450.0  \n",
       "..       ...     ...         ...      ...  \n",
       "200     5400      23          28  16845.0  \n",
       "201     5300      19          25  19045.0  \n",
       "202     5500      18          23  21485.0  \n",
       "203     4800      26          27  22470.0  \n",
       "204     5400      19          25  22625.0  \n",
       "\n",
       "[205 rows x 26 columns]"
      ]
     },
     "execution_count": 3,
     "metadata": {},
     "output_type": "execute_result"
    }
   ],
   "source": [
    "df"
   ]
  },
  {
   "cell_type": "markdown",
   "id": "d6f8024e",
   "metadata": {
    "papermill": {
     "duration": 0.02704,
     "end_time": "2022-12-13T10:49:25.860057",
     "exception": false,
     "start_time": "2022-12-13T10:49:25.833017",
     "status": "completed"
    },
    "tags": []
   },
   "source": [
    "**Lets check the shape of dataset**"
   ]
  },
  {
   "cell_type": "code",
   "execution_count": 4,
   "id": "60cb98cf",
   "metadata": {
    "execution": {
     "iopub.execute_input": "2022-12-13T10:49:25.916229Z",
     "iopub.status.busy": "2022-12-13T10:49:25.915393Z",
     "iopub.status.idle": "2022-12-13T10:49:25.922772Z",
     "shell.execute_reply": "2022-12-13T10:49:25.921624Z"
    },
    "papermill": {
     "duration": 0.03824,
     "end_time": "2022-12-13T10:49:25.925107",
     "exception": false,
     "start_time": "2022-12-13T10:49:25.886867",
     "status": "completed"
    },
    "tags": []
   },
   "outputs": [
    {
     "data": {
      "text/plain": [
       "(205, 26)"
      ]
     },
     "execution_count": 4,
     "metadata": {},
     "output_type": "execute_result"
    }
   ],
   "source": [
    "df.shape"
   ]
  },
  {
   "cell_type": "code",
   "execution_count": 5,
   "id": "dc387c5a",
   "metadata": {
    "execution": {
     "iopub.execute_input": "2022-12-13T10:49:25.981995Z",
     "iopub.status.busy": "2022-12-13T10:49:25.981225Z",
     "iopub.status.idle": "2022-12-13T10:49:26.009980Z",
     "shell.execute_reply": "2022-12-13T10:49:26.008721Z"
    },
    "papermill": {
     "duration": 0.060678,
     "end_time": "2022-12-13T10:49:26.012796",
     "exception": false,
     "start_time": "2022-12-13T10:49:25.952118",
     "status": "completed"
    },
    "tags": []
   },
   "outputs": [
    {
     "data": {
      "text/html": [
       "<div>\n",
       "<style scoped>\n",
       "    .dataframe tbody tr th:only-of-type {\n",
       "        vertical-align: middle;\n",
       "    }\n",
       "\n",
       "    .dataframe tbody tr th {\n",
       "        vertical-align: top;\n",
       "    }\n",
       "\n",
       "    .dataframe thead th {\n",
       "        text-align: right;\n",
       "    }\n",
       "</style>\n",
       "<table border=\"1\" class=\"dataframe\">\n",
       "  <thead>\n",
       "    <tr style=\"text-align: right;\">\n",
       "      <th></th>\n",
       "      <th>car_ID</th>\n",
       "      <th>symboling</th>\n",
       "      <th>wheelbase</th>\n",
       "      <th>carlength</th>\n",
       "      <th>carwidth</th>\n",
       "      <th>carheight</th>\n",
       "      <th>curbweight</th>\n",
       "      <th>enginesize</th>\n",
       "      <th>boreratio</th>\n",
       "      <th>stroke</th>\n",
       "      <th>compressionratio</th>\n",
       "      <th>horsepower</th>\n",
       "      <th>peakrpm</th>\n",
       "      <th>citympg</th>\n",
       "      <th>highwaympg</th>\n",
       "      <th>price</th>\n",
       "    </tr>\n",
       "  </thead>\n",
       "  <tbody>\n",
       "    <tr>\n",
       "      <th>car_ID</th>\n",
       "      <td>1.000000</td>\n",
       "      <td>-0.151621</td>\n",
       "      <td>0.129729</td>\n",
       "      <td>0.170636</td>\n",
       "      <td>0.052387</td>\n",
       "      <td>0.255960</td>\n",
       "      <td>0.071962</td>\n",
       "      <td>-0.033930</td>\n",
       "      <td>0.260064</td>\n",
       "      <td>-0.160824</td>\n",
       "      <td>0.150276</td>\n",
       "      <td>-0.015006</td>\n",
       "      <td>-0.203789</td>\n",
       "      <td>0.015940</td>\n",
       "      <td>0.011255</td>\n",
       "      <td>-0.109093</td>\n",
       "    </tr>\n",
       "    <tr>\n",
       "      <th>symboling</th>\n",
       "      <td>-0.151621</td>\n",
       "      <td>1.000000</td>\n",
       "      <td>-0.531954</td>\n",
       "      <td>-0.357612</td>\n",
       "      <td>-0.232919</td>\n",
       "      <td>-0.541038</td>\n",
       "      <td>-0.227691</td>\n",
       "      <td>-0.105790</td>\n",
       "      <td>-0.130051</td>\n",
       "      <td>-0.008735</td>\n",
       "      <td>-0.178515</td>\n",
       "      <td>0.070873</td>\n",
       "      <td>0.273606</td>\n",
       "      <td>-0.035823</td>\n",
       "      <td>0.034606</td>\n",
       "      <td>-0.079978</td>\n",
       "    </tr>\n",
       "    <tr>\n",
       "      <th>wheelbase</th>\n",
       "      <td>0.129729</td>\n",
       "      <td>-0.531954</td>\n",
       "      <td>1.000000</td>\n",
       "      <td>0.874587</td>\n",
       "      <td>0.795144</td>\n",
       "      <td>0.589435</td>\n",
       "      <td>0.776386</td>\n",
       "      <td>0.569329</td>\n",
       "      <td>0.488750</td>\n",
       "      <td>0.160959</td>\n",
       "      <td>0.249786</td>\n",
       "      <td>0.353294</td>\n",
       "      <td>-0.360469</td>\n",
       "      <td>-0.470414</td>\n",
       "      <td>-0.544082</td>\n",
       "      <td>0.577816</td>\n",
       "    </tr>\n",
       "    <tr>\n",
       "      <th>carlength</th>\n",
       "      <td>0.170636</td>\n",
       "      <td>-0.357612</td>\n",
       "      <td>0.874587</td>\n",
       "      <td>1.000000</td>\n",
       "      <td>0.841118</td>\n",
       "      <td>0.491029</td>\n",
       "      <td>0.877728</td>\n",
       "      <td>0.683360</td>\n",
       "      <td>0.606454</td>\n",
       "      <td>0.129533</td>\n",
       "      <td>0.158414</td>\n",
       "      <td>0.552623</td>\n",
       "      <td>-0.287242</td>\n",
       "      <td>-0.670909</td>\n",
       "      <td>-0.704662</td>\n",
       "      <td>0.682920</td>\n",
       "    </tr>\n",
       "    <tr>\n",
       "      <th>carwidth</th>\n",
       "      <td>0.052387</td>\n",
       "      <td>-0.232919</td>\n",
       "      <td>0.795144</td>\n",
       "      <td>0.841118</td>\n",
       "      <td>1.000000</td>\n",
       "      <td>0.279210</td>\n",
       "      <td>0.867032</td>\n",
       "      <td>0.735433</td>\n",
       "      <td>0.559150</td>\n",
       "      <td>0.182942</td>\n",
       "      <td>0.181129</td>\n",
       "      <td>0.640732</td>\n",
       "      <td>-0.220012</td>\n",
       "      <td>-0.642704</td>\n",
       "      <td>-0.677218</td>\n",
       "      <td>0.759325</td>\n",
       "    </tr>\n",
       "    <tr>\n",
       "      <th>carheight</th>\n",
       "      <td>0.255960</td>\n",
       "      <td>-0.541038</td>\n",
       "      <td>0.589435</td>\n",
       "      <td>0.491029</td>\n",
       "      <td>0.279210</td>\n",
       "      <td>1.000000</td>\n",
       "      <td>0.295572</td>\n",
       "      <td>0.067149</td>\n",
       "      <td>0.171071</td>\n",
       "      <td>-0.055307</td>\n",
       "      <td>0.261214</td>\n",
       "      <td>-0.108802</td>\n",
       "      <td>-0.320411</td>\n",
       "      <td>-0.048640</td>\n",
       "      <td>-0.107358</td>\n",
       "      <td>0.119336</td>\n",
       "    </tr>\n",
       "    <tr>\n",
       "      <th>curbweight</th>\n",
       "      <td>0.071962</td>\n",
       "      <td>-0.227691</td>\n",
       "      <td>0.776386</td>\n",
       "      <td>0.877728</td>\n",
       "      <td>0.867032</td>\n",
       "      <td>0.295572</td>\n",
       "      <td>1.000000</td>\n",
       "      <td>0.850594</td>\n",
       "      <td>0.648480</td>\n",
       "      <td>0.168790</td>\n",
       "      <td>0.151362</td>\n",
       "      <td>0.750739</td>\n",
       "      <td>-0.266243</td>\n",
       "      <td>-0.757414</td>\n",
       "      <td>-0.797465</td>\n",
       "      <td>0.835305</td>\n",
       "    </tr>\n",
       "    <tr>\n",
       "      <th>enginesize</th>\n",
       "      <td>-0.033930</td>\n",
       "      <td>-0.105790</td>\n",
       "      <td>0.569329</td>\n",
       "      <td>0.683360</td>\n",
       "      <td>0.735433</td>\n",
       "      <td>0.067149</td>\n",
       "      <td>0.850594</td>\n",
       "      <td>1.000000</td>\n",
       "      <td>0.583774</td>\n",
       "      <td>0.203129</td>\n",
       "      <td>0.028971</td>\n",
       "      <td>0.809769</td>\n",
       "      <td>-0.244660</td>\n",
       "      <td>-0.653658</td>\n",
       "      <td>-0.677470</td>\n",
       "      <td>0.874145</td>\n",
       "    </tr>\n",
       "    <tr>\n",
       "      <th>boreratio</th>\n",
       "      <td>0.260064</td>\n",
       "      <td>-0.130051</td>\n",
       "      <td>0.488750</td>\n",
       "      <td>0.606454</td>\n",
       "      <td>0.559150</td>\n",
       "      <td>0.171071</td>\n",
       "      <td>0.648480</td>\n",
       "      <td>0.583774</td>\n",
       "      <td>1.000000</td>\n",
       "      <td>-0.055909</td>\n",
       "      <td>0.005197</td>\n",
       "      <td>0.573677</td>\n",
       "      <td>-0.254976</td>\n",
       "      <td>-0.584532</td>\n",
       "      <td>-0.587012</td>\n",
       "      <td>0.553173</td>\n",
       "    </tr>\n",
       "    <tr>\n",
       "      <th>stroke</th>\n",
       "      <td>-0.160824</td>\n",
       "      <td>-0.008735</td>\n",
       "      <td>0.160959</td>\n",
       "      <td>0.129533</td>\n",
       "      <td>0.182942</td>\n",
       "      <td>-0.055307</td>\n",
       "      <td>0.168790</td>\n",
       "      <td>0.203129</td>\n",
       "      <td>-0.055909</td>\n",
       "      <td>1.000000</td>\n",
       "      <td>0.186110</td>\n",
       "      <td>0.080940</td>\n",
       "      <td>-0.067964</td>\n",
       "      <td>-0.042145</td>\n",
       "      <td>-0.043931</td>\n",
       "      <td>0.079443</td>\n",
       "    </tr>\n",
       "    <tr>\n",
       "      <th>compressionratio</th>\n",
       "      <td>0.150276</td>\n",
       "      <td>-0.178515</td>\n",
       "      <td>0.249786</td>\n",
       "      <td>0.158414</td>\n",
       "      <td>0.181129</td>\n",
       "      <td>0.261214</td>\n",
       "      <td>0.151362</td>\n",
       "      <td>0.028971</td>\n",
       "      <td>0.005197</td>\n",
       "      <td>0.186110</td>\n",
       "      <td>1.000000</td>\n",
       "      <td>-0.204326</td>\n",
       "      <td>-0.435741</td>\n",
       "      <td>0.324701</td>\n",
       "      <td>0.265201</td>\n",
       "      <td>0.067984</td>\n",
       "    </tr>\n",
       "    <tr>\n",
       "      <th>horsepower</th>\n",
       "      <td>-0.015006</td>\n",
       "      <td>0.070873</td>\n",
       "      <td>0.353294</td>\n",
       "      <td>0.552623</td>\n",
       "      <td>0.640732</td>\n",
       "      <td>-0.108802</td>\n",
       "      <td>0.750739</td>\n",
       "      <td>0.809769</td>\n",
       "      <td>0.573677</td>\n",
       "      <td>0.080940</td>\n",
       "      <td>-0.204326</td>\n",
       "      <td>1.000000</td>\n",
       "      <td>0.131073</td>\n",
       "      <td>-0.801456</td>\n",
       "      <td>-0.770544</td>\n",
       "      <td>0.808139</td>\n",
       "    </tr>\n",
       "    <tr>\n",
       "      <th>peakrpm</th>\n",
       "      <td>-0.203789</td>\n",
       "      <td>0.273606</td>\n",
       "      <td>-0.360469</td>\n",
       "      <td>-0.287242</td>\n",
       "      <td>-0.220012</td>\n",
       "      <td>-0.320411</td>\n",
       "      <td>-0.266243</td>\n",
       "      <td>-0.244660</td>\n",
       "      <td>-0.254976</td>\n",
       "      <td>-0.067964</td>\n",
       "      <td>-0.435741</td>\n",
       "      <td>0.131073</td>\n",
       "      <td>1.000000</td>\n",
       "      <td>-0.113544</td>\n",
       "      <td>-0.054275</td>\n",
       "      <td>-0.085267</td>\n",
       "    </tr>\n",
       "    <tr>\n",
       "      <th>citympg</th>\n",
       "      <td>0.015940</td>\n",
       "      <td>-0.035823</td>\n",
       "      <td>-0.470414</td>\n",
       "      <td>-0.670909</td>\n",
       "      <td>-0.642704</td>\n",
       "      <td>-0.048640</td>\n",
       "      <td>-0.757414</td>\n",
       "      <td>-0.653658</td>\n",
       "      <td>-0.584532</td>\n",
       "      <td>-0.042145</td>\n",
       "      <td>0.324701</td>\n",
       "      <td>-0.801456</td>\n",
       "      <td>-0.113544</td>\n",
       "      <td>1.000000</td>\n",
       "      <td>0.971337</td>\n",
       "      <td>-0.685751</td>\n",
       "    </tr>\n",
       "    <tr>\n",
       "      <th>highwaympg</th>\n",
       "      <td>0.011255</td>\n",
       "      <td>0.034606</td>\n",
       "      <td>-0.544082</td>\n",
       "      <td>-0.704662</td>\n",
       "      <td>-0.677218</td>\n",
       "      <td>-0.107358</td>\n",
       "      <td>-0.797465</td>\n",
       "      <td>-0.677470</td>\n",
       "      <td>-0.587012</td>\n",
       "      <td>-0.043931</td>\n",
       "      <td>0.265201</td>\n",
       "      <td>-0.770544</td>\n",
       "      <td>-0.054275</td>\n",
       "      <td>0.971337</td>\n",
       "      <td>1.000000</td>\n",
       "      <td>-0.697599</td>\n",
       "    </tr>\n",
       "    <tr>\n",
       "      <th>price</th>\n",
       "      <td>-0.109093</td>\n",
       "      <td>-0.079978</td>\n",
       "      <td>0.577816</td>\n",
       "      <td>0.682920</td>\n",
       "      <td>0.759325</td>\n",
       "      <td>0.119336</td>\n",
       "      <td>0.835305</td>\n",
       "      <td>0.874145</td>\n",
       "      <td>0.553173</td>\n",
       "      <td>0.079443</td>\n",
       "      <td>0.067984</td>\n",
       "      <td>0.808139</td>\n",
       "      <td>-0.085267</td>\n",
       "      <td>-0.685751</td>\n",
       "      <td>-0.697599</td>\n",
       "      <td>1.000000</td>\n",
       "    </tr>\n",
       "  </tbody>\n",
       "</table>\n",
       "</div>"
      ],
      "text/plain": [
       "                    car_ID  symboling  wheelbase  carlength  carwidth  \\\n",
       "car_ID            1.000000  -0.151621   0.129729   0.170636  0.052387   \n",
       "symboling        -0.151621   1.000000  -0.531954  -0.357612 -0.232919   \n",
       "wheelbase         0.129729  -0.531954   1.000000   0.874587  0.795144   \n",
       "carlength         0.170636  -0.357612   0.874587   1.000000  0.841118   \n",
       "carwidth          0.052387  -0.232919   0.795144   0.841118  1.000000   \n",
       "carheight         0.255960  -0.541038   0.589435   0.491029  0.279210   \n",
       "curbweight        0.071962  -0.227691   0.776386   0.877728  0.867032   \n",
       "enginesize       -0.033930  -0.105790   0.569329   0.683360  0.735433   \n",
       "boreratio         0.260064  -0.130051   0.488750   0.606454  0.559150   \n",
       "stroke           -0.160824  -0.008735   0.160959   0.129533  0.182942   \n",
       "compressionratio  0.150276  -0.178515   0.249786   0.158414  0.181129   \n",
       "horsepower       -0.015006   0.070873   0.353294   0.552623  0.640732   \n",
       "peakrpm          -0.203789   0.273606  -0.360469  -0.287242 -0.220012   \n",
       "citympg           0.015940  -0.035823  -0.470414  -0.670909 -0.642704   \n",
       "highwaympg        0.011255   0.034606  -0.544082  -0.704662 -0.677218   \n",
       "price            -0.109093  -0.079978   0.577816   0.682920  0.759325   \n",
       "\n",
       "                  carheight  curbweight  enginesize  boreratio    stroke  \\\n",
       "car_ID             0.255960    0.071962   -0.033930   0.260064 -0.160824   \n",
       "symboling         -0.541038   -0.227691   -0.105790  -0.130051 -0.008735   \n",
       "wheelbase          0.589435    0.776386    0.569329   0.488750  0.160959   \n",
       "carlength          0.491029    0.877728    0.683360   0.606454  0.129533   \n",
       "carwidth           0.279210    0.867032    0.735433   0.559150  0.182942   \n",
       "carheight          1.000000    0.295572    0.067149   0.171071 -0.055307   \n",
       "curbweight         0.295572    1.000000    0.850594   0.648480  0.168790   \n",
       "enginesize         0.067149    0.850594    1.000000   0.583774  0.203129   \n",
       "boreratio          0.171071    0.648480    0.583774   1.000000 -0.055909   \n",
       "stroke            -0.055307    0.168790    0.203129  -0.055909  1.000000   \n",
       "compressionratio   0.261214    0.151362    0.028971   0.005197  0.186110   \n",
       "horsepower        -0.108802    0.750739    0.809769   0.573677  0.080940   \n",
       "peakrpm           -0.320411   -0.266243   -0.244660  -0.254976 -0.067964   \n",
       "citympg           -0.048640   -0.757414   -0.653658  -0.584532 -0.042145   \n",
       "highwaympg        -0.107358   -0.797465   -0.677470  -0.587012 -0.043931   \n",
       "price              0.119336    0.835305    0.874145   0.553173  0.079443   \n",
       "\n",
       "                  compressionratio  horsepower   peakrpm   citympg  \\\n",
       "car_ID                    0.150276   -0.015006 -0.203789  0.015940   \n",
       "symboling                -0.178515    0.070873  0.273606 -0.035823   \n",
       "wheelbase                 0.249786    0.353294 -0.360469 -0.470414   \n",
       "carlength                 0.158414    0.552623 -0.287242 -0.670909   \n",
       "carwidth                  0.181129    0.640732 -0.220012 -0.642704   \n",
       "carheight                 0.261214   -0.108802 -0.320411 -0.048640   \n",
       "curbweight                0.151362    0.750739 -0.266243 -0.757414   \n",
       "enginesize                0.028971    0.809769 -0.244660 -0.653658   \n",
       "boreratio                 0.005197    0.573677 -0.254976 -0.584532   \n",
       "stroke                    0.186110    0.080940 -0.067964 -0.042145   \n",
       "compressionratio          1.000000   -0.204326 -0.435741  0.324701   \n",
       "horsepower               -0.204326    1.000000  0.131073 -0.801456   \n",
       "peakrpm                  -0.435741    0.131073  1.000000 -0.113544   \n",
       "citympg                   0.324701   -0.801456 -0.113544  1.000000   \n",
       "highwaympg                0.265201   -0.770544 -0.054275  0.971337   \n",
       "price                     0.067984    0.808139 -0.085267 -0.685751   \n",
       "\n",
       "                  highwaympg     price  \n",
       "car_ID              0.011255 -0.109093  \n",
       "symboling           0.034606 -0.079978  \n",
       "wheelbase          -0.544082  0.577816  \n",
       "carlength          -0.704662  0.682920  \n",
       "carwidth           -0.677218  0.759325  \n",
       "carheight          -0.107358  0.119336  \n",
       "curbweight         -0.797465  0.835305  \n",
       "enginesize         -0.677470  0.874145  \n",
       "boreratio          -0.587012  0.553173  \n",
       "stroke             -0.043931  0.079443  \n",
       "compressionratio    0.265201  0.067984  \n",
       "horsepower         -0.770544  0.808139  \n",
       "peakrpm            -0.054275 -0.085267  \n",
       "citympg             0.971337 -0.685751  \n",
       "highwaympg          1.000000 -0.697599  \n",
       "price              -0.697599  1.000000  "
      ]
     },
     "execution_count": 5,
     "metadata": {},
     "output_type": "execute_result"
    }
   ],
   "source": [
    "df.corr()"
   ]
  },
  {
   "cell_type": "markdown",
   "id": "7a940628",
   "metadata": {
    "papermill": {
     "duration": 0.027739,
     "end_time": "2022-12-13T10:49:26.068914",
     "exception": false,
     "start_time": "2022-12-13T10:49:26.041175",
     "status": "completed"
    },
    "tags": []
   },
   "source": [
    "* **From the above corr() we can see how strongly the other properties dependent on Price column.**"
   ]
  },
  {
   "cell_type": "code",
   "execution_count": 6,
   "id": "583e0521",
   "metadata": {
    "execution": {
     "iopub.execute_input": "2022-12-13T10:49:26.127660Z",
     "iopub.status.busy": "2022-12-13T10:49:26.126886Z",
     "iopub.status.idle": "2022-12-13T10:49:27.822421Z",
     "shell.execute_reply": "2022-12-13T10:49:27.820966Z"
    },
    "papermill": {
     "duration": 1.729675,
     "end_time": "2022-12-13T10:49:27.826600",
     "exception": false,
     "start_time": "2022-12-13T10:49:26.096925",
     "status": "completed"
    },
    "tags": []
   },
   "outputs": [
    {
     "data": {
      "text/plain": [
       "<AxesSubplot:>"
      ]
     },
     "execution_count": 6,
     "metadata": {},
     "output_type": "execute_result"
    },
    {
     "data": {
      "image/png": "[encoded data removed]",
      "text/plain": [
       "<Figure size 1152x720 with 2 Axes>"
      ]
     },
     "metadata": {
      "needs_background": "light"
     },
     "output_type": "display_data"
    }
   ],
   "source": [
    "plt.figure(figsize=(16,10))\n",
    "sns.heatmap(df.corr(),annot=True)"
   ]
  },
  {
   "cell_type": "markdown",
   "id": "f16a97a2",
   "metadata": {
    "papermill": {
     "duration": 0.030773,
     "end_time": "2022-12-13T10:49:27.888628",
     "exception": false,
     "start_time": "2022-12-13T10:49:27.857855",
     "status": "completed"
    },
    "tags": []
   },
   "source": [
    "* **From the heatmap we can see that enginesize and curbweight strongly helps in predicting the price.**"
   ]
  },
  {
   "cell_type": "code",
   "execution_count": 7,
   "id": "092abc85",
   "metadata": {
    "execution": {
     "iopub.execute_input": "2022-12-13T10:49:27.951359Z",
     "iopub.status.busy": "2022-12-13T10:49:27.950936Z",
     "iopub.status.idle": "2022-12-13T10:49:27.970314Z",
     "shell.execute_reply": "2022-12-13T10:49:27.969011Z"
    },
    "papermill": {
     "duration": 0.053824,
     "end_time": "2022-12-13T10:49:27.972684",
     "exception": false,
     "start_time": "2022-12-13T10:49:27.918860",
     "status": "completed"
    },
    "tags": []
   },
   "outputs": [
    {
     "data": {
      "text/plain": [
       "0"
      ]
     },
     "execution_count": 7,
     "metadata": {},
     "output_type": "execute_result"
    }
   ],
   "source": [
    "df.duplicated().sum()"
   ]
  },
  {
   "cell_type": "markdown",
   "id": "4e76549a",
   "metadata": {
    "papermill": {
     "duration": 0.029758,
     "end_time": "2022-12-13T10:49:28.032573",
     "exception": false,
     "start_time": "2022-12-13T10:49:28.002815",
     "status": "completed"
    },
    "tags": []
   },
   "source": [
    "* **No duplicate rows**"
   ]
  },
  {
   "cell_type": "markdown",
   "id": "d710dee4",
   "metadata": {
    "papermill": {
     "duration": 0.030322,
     "end_time": "2022-12-13T10:49:28.093693",
     "exception": false,
     "start_time": "2022-12-13T10:49:28.063371",
     "status": "completed"
    },
    "tags": []
   },
   "source": [
    "**Checking the null value counts**"
   ]
  },
  {
   "cell_type": "code",
   "execution_count": 8,
   "id": "efebec73",
   "metadata": {
    "execution": {
     "iopub.execute_input": "2022-12-13T10:49:28.157739Z",
     "iopub.status.busy": "2022-12-13T10:49:28.157288Z",
     "iopub.status.idle": "2022-12-13T10:49:28.167269Z",
     "shell.execute_reply": "2022-12-13T10:49:28.166417Z"
    },
    "papermill": {
     "duration": 0.044826,
     "end_time": "2022-12-13T10:49:28.169472",
     "exception": false,
     "start_time": "2022-12-13T10:49:28.124646",
     "status": "completed"
    },
    "tags": []
   },
   "outputs": [
    {
     "data": {
      "text/plain": [
       "car_ID              0\n",
       "symboling           0\n",
       "CarName             0\n",
       "fueltype            0\n",
       "aspiration          0\n",
       "doornumber          0\n",
       "carbody             0\n",
       "drivewheel          0\n",
       "enginelocation      0\n",
       "wheelbase           0\n",
       "carlength           0\n",
       "carwidth            0\n",
       "carheight           0\n",
       "curbweight          0\n",
       "enginetype          0\n",
       "cylindernumber      0\n",
       "enginesize          0\n",
       "fuelsystem          0\n",
       "boreratio           0\n",
       "stroke              0\n",
       "compressionratio    0\n",
       "horsepower          0\n",
       "peakrpm             0\n",
       "citympg             0\n",
       "highwaympg          0\n",
       "price               0\n",
       "dtype: int64"
      ]
     },
     "execution_count": 8,
     "metadata": {},
     "output_type": "execute_result"
    }
   ],
   "source": [
    "df.isnull().sum()"
   ]
  },
  {
   "cell_type": "code",
   "execution_count": 9,
   "id": "1e63c375",
   "metadata": {
    "execution": {
     "iopub.execute_input": "2022-12-13T10:49:28.235574Z",
     "iopub.status.busy": "2022-12-13T10:49:28.234322Z",
     "iopub.status.idle": "2022-12-13T10:49:28.262537Z",
     "shell.execute_reply": "2022-12-13T10:49:28.261313Z"
    },
    "papermill": {
     "duration": 0.064518,
     "end_time": "2022-12-13T10:49:28.265399",
     "exception": false,
     "start_time": "2022-12-13T10:49:28.200881",
     "status": "completed"
    },
    "tags": []
   },
   "outputs": [
    {
     "data": {
      "text/html": [
       "<div>\n",
       "<style scoped>\n",
       "    .dataframe tbody tr th:only-of-type {\n",
       "        vertical-align: middle;\n",
       "    }\n",
       "\n",
       "    .dataframe tbody tr th {\n",
       "        vertical-align: top;\n",
       "    }\n",
       "\n",
       "    .dataframe thead th {\n",
       "        text-align: right;\n",
       "    }\n",
       "</style>\n",
       "<table border=\"1\" class=\"dataframe\">\n",
       "  <thead>\n",
       "    <tr style=\"text-align: right;\">\n",
       "      <th></th>\n",
       "      <th>car_ID</th>\n",
       "      <th>symboling</th>\n",
       "      <th>CarName</th>\n",
       "      <th>fueltype</th>\n",
       "      <th>aspiration</th>\n",
       "      <th>doornumber</th>\n",
       "      <th>carbody</th>\n",
       "      <th>drivewheel</th>\n",
       "      <th>enginelocation</th>\n",
       "      <th>wheelbase</th>\n",
       "      <th>...</th>\n",
       "      <th>enginesize</th>\n",
       "      <th>fuelsystem</th>\n",
       "      <th>boreratio</th>\n",
       "      <th>stroke</th>\n",
       "      <th>compressionratio</th>\n",
       "      <th>horsepower</th>\n",
       "      <th>peakrpm</th>\n",
       "      <th>citympg</th>\n",
       "      <th>highwaympg</th>\n",
       "      <th>price</th>\n",
       "    </tr>\n",
       "  </thead>\n",
       "  <tbody>\n",
       "    <tr>\n",
       "      <th>0</th>\n",
       "      <td>1</td>\n",
       "      <td>3</td>\n",
       "      <td>alfa-romero giulia</td>\n",
       "      <td>gas</td>\n",
       "      <td>std</td>\n",
       "      <td>two</td>\n",
       "      <td>convertible</td>\n",
       "      <td>rwd</td>\n",
       "      <td>front</td>\n",
       "      <td>88.6</td>\n",
       "      <td>...</td>\n",
       "      <td>130</td>\n",
       "      <td>mpfi</td>\n",
       "      <td>3.47</td>\n",
       "      <td>2.68</td>\n",
       "      <td>9.0</td>\n",
       "      <td>111</td>\n",
       "      <td>5000</td>\n",
       "      <td>21</td>\n",
       "      <td>27</td>\n",
       "      <td>13495.0</td>\n",
       "    </tr>\n",
       "    <tr>\n",
       "      <th>1</th>\n",
       "      <td>2</td>\n",
       "      <td>3</td>\n",
       "      <td>alfa-romero stelvio</td>\n",
       "      <td>gas</td>\n",
       "      <td>std</td>\n",
       "      <td>two</td>\n",
       "      <td>convertible</td>\n",
       "      <td>rwd</td>\n",
       "      <td>front</td>\n",
       "      <td>88.6</td>\n",
       "      <td>...</td>\n",
       "      <td>130</td>\n",
       "      <td>mpfi</td>\n",
       "      <td>3.47</td>\n",
       "      <td>2.68</td>\n",
       "      <td>9.0</td>\n",
       "      <td>111</td>\n",
       "      <td>5000</td>\n",
       "      <td>21</td>\n",
       "      <td>27</td>\n",
       "      <td>16500.0</td>\n",
       "    </tr>\n",
       "    <tr>\n",
       "      <th>2</th>\n",
       "      <td>3</td>\n",
       "      <td>1</td>\n",
       "      <td>alfa-romero Quadrifoglio</td>\n",
       "      <td>gas</td>\n",
       "      <td>std</td>\n",
       "      <td>two</td>\n",
       "      <td>hatchback</td>\n",
       "      <td>rwd</td>\n",
       "      <td>front</td>\n",
       "      <td>94.5</td>\n",
       "      <td>...</td>\n",
       "      <td>152</td>\n",
       "      <td>mpfi</td>\n",
       "      <td>2.68</td>\n",
       "      <td>3.47</td>\n",
       "      <td>9.0</td>\n",
       "      <td>154</td>\n",
       "      <td>5000</td>\n",
       "      <td>19</td>\n",
       "      <td>26</td>\n",
       "      <td>16500.0</td>\n",
       "    </tr>\n",
       "    <tr>\n",
       "      <th>3</th>\n",
       "      <td>4</td>\n",
       "      <td>2</td>\n",
       "      <td>audi 100 ls</td>\n",
       "      <td>gas</td>\n",
       "      <td>std</td>\n",
       "      <td>four</td>\n",
       "      <td>sedan</td>\n",
       "      <td>fwd</td>\n",
       "      <td>front</td>\n",
       "      <td>99.8</td>\n",
       "      <td>...</td>\n",
       "      <td>109</td>\n",
       "      <td>mpfi</td>\n",
       "      <td>3.19</td>\n",
       "      <td>3.40</td>\n",
       "      <td>10.0</td>\n",
       "      <td>102</td>\n",
       "      <td>5500</td>\n",
       "      <td>24</td>\n",
       "      <td>30</td>\n",
       "      <td>13950.0</td>\n",
       "    </tr>\n",
       "    <tr>\n",
       "      <th>4</th>\n",
       "      <td>5</td>\n",
       "      <td>2</td>\n",
       "      <td>audi 100ls</td>\n",
       "      <td>gas</td>\n",
       "      <td>std</td>\n",
       "      <td>four</td>\n",
       "      <td>sedan</td>\n",
       "      <td>4wd</td>\n",
       "      <td>front</td>\n",
       "      <td>99.4</td>\n",
       "      <td>...</td>\n",
       "      <td>136</td>\n",
       "      <td>mpfi</td>\n",
       "      <td>3.19</td>\n",
       "      <td>3.40</td>\n",
       "      <td>8.0</td>\n",
       "      <td>115</td>\n",
       "      <td>5500</td>\n",
       "      <td>18</td>\n",
       "      <td>22</td>\n",
       "      <td>17450.0</td>\n",
       "    </tr>\n",
       "  </tbody>\n",
       "</table>\n",
       "<p>5 rows × 26 columns</p>\n",
       "</div>"
      ],
      "text/plain": [
       "   car_ID  symboling                   CarName fueltype aspiration doornumber  \\\n",
       "0       1          3        alfa-romero giulia      gas        std        two   \n",
       "1       2          3       alfa-romero stelvio      gas        std        two   \n",
       "2       3          1  alfa-romero Quadrifoglio      gas        std        two   \n",
       "3       4          2               audi 100 ls      gas        std       four   \n",
       "4       5          2                audi 100ls      gas        std       four   \n",
       "\n",
       "       carbody drivewheel enginelocation  wheelbase  ...  enginesize  \\\n",
       "0  convertible        rwd          front       88.6  ...         130   \n",
       "1  convertible        rwd          front       88.6  ...         130   \n",
       "2    hatchback        rwd          front       94.5  ...         152   \n",
       "3        sedan        fwd          front       99.8  ...         109   \n",
       "4        sedan        4wd          front       99.4  ...         136   \n",
       "\n",
       "   fuelsystem  boreratio  stroke compressionratio horsepower  peakrpm citympg  \\\n",
       "0        mpfi       3.47    2.68              9.0        111     5000      21   \n",
       "1        mpfi       3.47    2.68              9.0        111     5000      21   \n",
       "2        mpfi       2.68    3.47              9.0        154     5000      19   \n",
       "3        mpfi       3.19    3.40             10.0        102     5500      24   \n",
       "4        mpfi       3.19    3.40              8.0        115     5500      18   \n",
       "\n",
       "   highwaympg    price  \n",
       "0          27  13495.0  \n",
       "1          27  16500.0  \n",
       "2          26  16500.0  \n",
       "3          30  13950.0  \n",
       "4          22  17450.0  \n",
       "\n",
       "[5 rows x 26 columns]"
      ]
     },
     "execution_count": 9,
     "metadata": {},
     "output_type": "execute_result"
    }
   ],
   "source": [
    "df.head(5)"
   ]
  },
  {
   "cell_type": "code",
   "execution_count": 10,
   "id": "601ed148",
   "metadata": {
    "execution": {
     "iopub.execute_input": "2022-12-13T10:49:28.330195Z",
     "iopub.status.busy": "2022-12-13T10:49:28.329358Z",
     "iopub.status.idle": "2022-12-13T10:49:28.337204Z",
     "shell.execute_reply": "2022-12-13T10:49:28.336159Z"
    },
    "papermill": {
     "duration": 0.042824,
     "end_time": "2022-12-13T10:49:28.339724",
     "exception": false,
     "start_time": "2022-12-13T10:49:28.296900",
     "status": "completed"
    },
    "tags": []
   },
   "outputs": [
    {
     "data": {
      "text/plain": [
       "Index(['car_ID', 'symboling', 'CarName', 'fueltype', 'aspiration',\n",
       "       'doornumber', 'carbody', 'drivewheel', 'enginelocation', 'wheelbase',\n",
       "       'carlength', 'carwidth', 'carheight', 'curbweight', 'enginetype',\n",
       "       'cylindernumber', 'enginesize', 'fuelsystem', 'boreratio', 'stroke',\n",
       "       'compressionratio', 'horsepower', 'peakrpm', 'citympg', 'highwaympg',\n",
       "       'price'],\n",
       "      dtype='object')"
      ]
     },
     "execution_count": 10,
     "metadata": {},
     "output_type": "execute_result"
    }
   ],
   "source": [
    "df.columns"
   ]
  },
  {
   "cell_type": "markdown",
   "id": "017d8329",
   "metadata": {
    "papermill": {
     "duration": 0.030631,
     "end_time": "2022-12-13T10:49:28.401627",
     "exception": false,
     "start_time": "2022-12-13T10:49:28.370996",
     "status": "completed"
    },
    "tags": []
   },
   "source": [
    "**Cleaning the Car name column by taking only brand name by removing model name**"
   ]
  },
  {
   "cell_type": "code",
   "execution_count": 11,
   "id": "ba33b846",
   "metadata": {
    "execution": {
     "iopub.execute_input": "2022-12-13T10:49:28.467587Z",
     "iopub.status.busy": "2022-12-13T10:49:28.466792Z",
     "iopub.status.idle": "2022-12-13T10:49:28.474017Z",
     "shell.execute_reply": "2022-12-13T10:49:28.472979Z"
    },
    "papermill": {
     "duration": 0.042936,
     "end_time": "2022-12-13T10:49:28.476812",
     "exception": false,
     "start_time": "2022-12-13T10:49:28.433876",
     "status": "completed"
    },
    "tags": []
   },
   "outputs": [],
   "source": [
    "df.CarName=df.CarName.apply(lambda x:x.split(\" \")[0])"
   ]
  },
  {
   "cell_type": "code",
   "execution_count": 12,
   "id": "74b4a421",
   "metadata": {
    "execution": {
     "iopub.execute_input": "2022-12-13T10:49:28.541918Z",
     "iopub.status.busy": "2022-12-13T10:49:28.541266Z",
     "iopub.status.idle": "2022-12-13T10:49:28.549045Z",
     "shell.execute_reply": "2022-12-13T10:49:28.548005Z"
    },
    "papermill": {
     "duration": 0.04364,
     "end_time": "2022-12-13T10:49:28.551432",
     "exception": false,
     "start_time": "2022-12-13T10:49:28.507792",
     "status": "completed"
    },
    "tags": []
   },
   "outputs": [
    {
     "data": {
      "text/plain": [
       "0      alfa-romero\n",
       "1      alfa-romero\n",
       "2      alfa-romero\n",
       "3             audi\n",
       "4             audi\n",
       "          ...     \n",
       "200          volvo\n",
       "201          volvo\n",
       "202          volvo\n",
       "203          volvo\n",
       "204          volvo\n",
       "Name: CarName, Length: 205, dtype: object"
      ]
     },
     "execution_count": 12,
     "metadata": {},
     "output_type": "execute_result"
    }
   ],
   "source": [
    "df.CarName"
   ]
  },
  {
   "cell_type": "code",
   "execution_count": 13,
   "id": "d9674315",
   "metadata": {
    "execution": {
     "iopub.execute_input": "2022-12-13T10:49:28.616088Z",
     "iopub.status.busy": "2022-12-13T10:49:28.615675Z",
     "iopub.status.idle": "2022-12-13T10:49:28.622177Z",
     "shell.execute_reply": "2022-12-13T10:49:28.621312Z"
    },
    "papermill": {
     "duration": 0.041536,
     "end_time": "2022-12-13T10:49:28.624643",
     "exception": false,
     "start_time": "2022-12-13T10:49:28.583107",
     "status": "completed"
    },
    "tags": []
   },
   "outputs": [
    {
     "data": {
      "text/plain": [
       "array(['alfa-romero', 'audi', 'bmw', 'chevrolet', 'dodge', 'honda',\n",
       "       'isuzu', 'jaguar', 'maxda', 'mazda', 'buick', 'mercury',\n",
       "       'mitsubishi', 'Nissan', 'nissan', 'peugeot', 'plymouth', 'porsche',\n",
       "       'porcshce', 'renault', 'saab', 'subaru', 'toyota', 'toyouta',\n",
       "       'vokswagen', 'volkswagen', 'vw', 'volvo'], dtype=object)"
      ]
     },
     "execution_count": 13,
     "metadata": {},
     "output_type": "execute_result"
    }
   ],
   "source": [
    "df.CarName.unique()"
   ]
  },
  {
   "cell_type": "markdown",
   "id": "ef8968a6",
   "metadata": {
    "papermill": {
     "duration": 0.030928,
     "end_time": "2022-12-13T10:49:28.686835",
     "exception": false,
     "start_time": "2022-12-13T10:49:28.655907",
     "status": "completed"
    },
    "tags": []
   },
   "source": [
    "**From the above, we can see that car names having spelling mistakes. So will replace with proper brand name of Car.**"
   ]
  },
  {
   "cell_type": "markdown",
   "id": "2597f53e",
   "metadata": {
    "papermill": {
     "duration": 0.032171,
     "end_time": "2022-12-13T10:49:28.750095",
     "exception": false,
     "start_time": "2022-12-13T10:49:28.717924",
     "status": "completed"
    },
    "tags": []
   },
   "source": [
    "**Function to correcting the names**"
   ]
  },
  {
   "cell_type": "code",
   "execution_count": 14,
   "id": "72d3584c",
   "metadata": {
    "execution": {
     "iopub.execute_input": "2022-12-13T10:49:28.816665Z",
     "iopub.status.busy": "2022-12-13T10:49:28.816264Z",
     "iopub.status.idle": "2022-12-13T10:49:28.822134Z",
     "shell.execute_reply": "2022-12-13T10:49:28.820851Z"
    },
    "papermill": {
     "duration": 0.041791,
     "end_time": "2022-12-13T10:49:28.824921",
     "exception": false,
     "start_time": "2022-12-13T10:49:28.783130",
     "status": "completed"
    },
    "tags": []
   },
   "outputs": [],
   "source": [
    "def correct_name(value):\n",
    "    dict={\"toyouta\":\"toyota\",\"Nissan\":\"nissan\",\"maxda\":\"mazda\",\"vokswagen\":\"volkswagen\",\"porcshce\":\"porsche\"}\n",
    "    if value in dict.keys():\n",
    "        return dict[value]\n",
    "    else:\n",
    "        return value"
   ]
  },
  {
   "cell_type": "code",
   "execution_count": 15,
   "id": "a1bd9c3a",
   "metadata": {
    "execution": {
     "iopub.execute_input": "2022-12-13T10:49:28.890645Z",
     "iopub.status.busy": "2022-12-13T10:49:28.889837Z",
     "iopub.status.idle": "2022-12-13T10:49:28.896308Z",
     "shell.execute_reply": "2022-12-13T10:49:28.895154Z"
    },
    "papermill": {
     "duration": 0.042791,
     "end_time": "2022-12-13T10:49:28.899143",
     "exception": false,
     "start_time": "2022-12-13T10:49:28.856352",
     "status": "completed"
    },
    "tags": []
   },
   "outputs": [],
   "source": [
    "df.CarName=df.CarName.apply(correct_name)"
   ]
  },
  {
   "cell_type": "code",
   "execution_count": 16,
   "id": "f732d658",
   "metadata": {
    "execution": {
     "iopub.execute_input": "2022-12-13T10:49:28.964132Z",
     "iopub.status.busy": "2022-12-13T10:49:28.963681Z",
     "iopub.status.idle": "2022-12-13T10:49:28.975750Z",
     "shell.execute_reply": "2022-12-13T10:49:28.974436Z"
    },
    "papermill": {
     "duration": 0.048072,
     "end_time": "2022-12-13T10:49:28.978489",
     "exception": false,
     "start_time": "2022-12-13T10:49:28.930417",
     "status": "completed"
    },
    "tags": []
   },
   "outputs": [
    {
     "data": {
      "text/plain": [
       "toyota         15.609756\n",
       "nissan          8.780488\n",
       "mazda           8.292683\n",
       "mitsubishi      6.341463\n",
       "honda           6.341463\n",
       "subaru          5.853659\n",
       "peugeot         5.365854\n",
       "volvo           5.365854\n",
       "volkswagen      4.878049\n",
       "dodge           4.390244\n",
       "buick           3.902439\n",
       "bmw             3.902439\n",
       "audi            3.414634\n",
       "plymouth        3.414634\n",
       "saab            2.926829\n",
       "porsche         2.439024\n",
       "isuzu           1.951220\n",
       "jaguar          1.463415\n",
       "chevrolet       1.463415\n",
       "alfa-romero     1.463415\n",
       "renault         0.975610\n",
       "vw              0.975610\n",
       "mercury         0.487805\n",
       "Name: CarName, dtype: float64"
      ]
     },
     "execution_count": 16,
     "metadata": {},
     "output_type": "execute_result"
    }
   ],
   "source": [
    "df.CarName.value_counts(normalize=True)*100"
   ]
  },
  {
   "cell_type": "markdown",
   "id": "15d57896",
   "metadata": {
    "papermill": {
     "duration": 0.032954,
     "end_time": "2022-12-13T10:49:29.043162",
     "exception": false,
     "start_time": "2022-12-13T10:49:29.010208",
     "status": "completed"
    },
    "tags": []
   },
   "source": [
    "**We can see that most people preferred to buy Toyota company Car**"
   ]
  },
  {
   "cell_type": "code",
   "execution_count": 17,
   "id": "46ede72b",
   "metadata": {
    "execution": {
     "iopub.execute_input": "2022-12-13T10:49:29.109008Z",
     "iopub.status.busy": "2022-12-13T10:49:29.107859Z",
     "iopub.status.idle": "2022-12-13T10:49:29.118714Z",
     "shell.execute_reply": "2022-12-13T10:49:29.117296Z"
    },
    "papermill": {
     "duration": 0.047474,
     "end_time": "2022-12-13T10:49:29.122070",
     "exception": false,
     "start_time": "2022-12-13T10:49:29.074596",
     "status": "completed"
    },
    "tags": []
   },
   "outputs": [],
   "source": [
    "avg_price_bycarName=df.groupby([\"CarName\"]).mean()[\"price\"].sort_values()"
   ]
  },
  {
   "cell_type": "code",
   "execution_count": 18,
   "id": "b92590f0",
   "metadata": {
    "execution": {
     "iopub.execute_input": "2022-12-13T10:49:29.188177Z",
     "iopub.status.busy": "2022-12-13T10:49:29.187526Z",
     "iopub.status.idle": "2022-12-13T10:49:29.200992Z",
     "shell.execute_reply": "2022-12-13T10:49:29.200198Z"
    },
    "papermill": {
     "duration": 0.048952,
     "end_time": "2022-12-13T10:49:29.203256",
     "exception": false,
     "start_time": "2022-12-13T10:49:29.154304",
     "status": "completed"
    },
    "tags": []
   },
   "outputs": [
    {
     "data": {
      "text/html": [
       "<div>\n",
       "<style scoped>\n",
       "    .dataframe tbody tr th:only-of-type {\n",
       "        vertical-align: middle;\n",
       "    }\n",
       "\n",
       "    .dataframe tbody tr th {\n",
       "        vertical-align: top;\n",
       "    }\n",
       "\n",
       "    .dataframe thead th {\n",
       "        text-align: right;\n",
       "    }\n",
       "</style>\n",
       "<table border=\"1\" class=\"dataframe\">\n",
       "  <thead>\n",
       "    <tr style=\"text-align: right;\">\n",
       "      <th></th>\n",
       "      <th>CarName</th>\n",
       "      <th>price</th>\n",
       "    </tr>\n",
       "  </thead>\n",
       "  <tbody>\n",
       "    <tr>\n",
       "      <th>0</th>\n",
       "      <td>chevrolet</td>\n",
       "      <td>6007.000000</td>\n",
       "    </tr>\n",
       "    <tr>\n",
       "      <th>1</th>\n",
       "      <td>dodge</td>\n",
       "      <td>7875.444444</td>\n",
       "    </tr>\n",
       "    <tr>\n",
       "      <th>2</th>\n",
       "      <td>plymouth</td>\n",
       "      <td>7963.428571</td>\n",
       "    </tr>\n",
       "    <tr>\n",
       "      <th>3</th>\n",
       "      <td>honda</td>\n",
       "      <td>8184.692308</td>\n",
       "    </tr>\n",
       "    <tr>\n",
       "      <th>4</th>\n",
       "      <td>subaru</td>\n",
       "      <td>8541.250000</td>\n",
       "    </tr>\n",
       "    <tr>\n",
       "      <th>5</th>\n",
       "      <td>isuzu</td>\n",
       "      <td>8916.500000</td>\n",
       "    </tr>\n",
       "    <tr>\n",
       "      <th>6</th>\n",
       "      <td>mitsubishi</td>\n",
       "      <td>9239.769231</td>\n",
       "    </tr>\n",
       "    <tr>\n",
       "      <th>7</th>\n",
       "      <td>renault</td>\n",
       "      <td>9595.000000</td>\n",
       "    </tr>\n",
       "    <tr>\n",
       "      <th>8</th>\n",
       "      <td>toyota</td>\n",
       "      <td>9885.812500</td>\n",
       "    </tr>\n",
       "    <tr>\n",
       "      <th>9</th>\n",
       "      <td>volkswagen</td>\n",
       "      <td>9935.500000</td>\n",
       "    </tr>\n",
       "    <tr>\n",
       "      <th>10</th>\n",
       "      <td>nissan</td>\n",
       "      <td>10415.666667</td>\n",
       "    </tr>\n",
       "    <tr>\n",
       "      <th>11</th>\n",
       "      <td>mazda</td>\n",
       "      <td>10652.882353</td>\n",
       "    </tr>\n",
       "    <tr>\n",
       "      <th>12</th>\n",
       "      <td>vw</td>\n",
       "      <td>10787.500000</td>\n",
       "    </tr>\n",
       "    <tr>\n",
       "      <th>13</th>\n",
       "      <td>saab</td>\n",
       "      <td>15223.333333</td>\n",
       "    </tr>\n",
       "    <tr>\n",
       "      <th>14</th>\n",
       "      <td>peugeot</td>\n",
       "      <td>15489.090909</td>\n",
       "    </tr>\n",
       "    <tr>\n",
       "      <th>15</th>\n",
       "      <td>alfa-romero</td>\n",
       "      <td>15498.333333</td>\n",
       "    </tr>\n",
       "    <tr>\n",
       "      <th>16</th>\n",
       "      <td>mercury</td>\n",
       "      <td>16503.000000</td>\n",
       "    </tr>\n",
       "    <tr>\n",
       "      <th>17</th>\n",
       "      <td>audi</td>\n",
       "      <td>17859.166714</td>\n",
       "    </tr>\n",
       "    <tr>\n",
       "      <th>18</th>\n",
       "      <td>volvo</td>\n",
       "      <td>18063.181818</td>\n",
       "    </tr>\n",
       "    <tr>\n",
       "      <th>19</th>\n",
       "      <td>bmw</td>\n",
       "      <td>26118.750000</td>\n",
       "    </tr>\n",
       "    <tr>\n",
       "      <th>20</th>\n",
       "      <td>porsche</td>\n",
       "      <td>31400.500000</td>\n",
       "    </tr>\n",
       "    <tr>\n",
       "      <th>21</th>\n",
       "      <td>buick</td>\n",
       "      <td>33647.000000</td>\n",
       "    </tr>\n",
       "    <tr>\n",
       "      <th>22</th>\n",
       "      <td>jaguar</td>\n",
       "      <td>34600.000000</td>\n",
       "    </tr>\n",
       "  </tbody>\n",
       "</table>\n",
       "</div>"
      ],
      "text/plain": [
       "        CarName         price\n",
       "0     chevrolet   6007.000000\n",
       "1         dodge   7875.444444\n",
       "2      plymouth   7963.428571\n",
       "3         honda   8184.692308\n",
       "4        subaru   8541.250000\n",
       "5         isuzu   8916.500000\n",
       "6    mitsubishi   9239.769231\n",
       "7       renault   9595.000000\n",
       "8        toyota   9885.812500\n",
       "9    volkswagen   9935.500000\n",
       "10       nissan  10415.666667\n",
       "11        mazda  10652.882353\n",
       "12           vw  10787.500000\n",
       "13         saab  15223.333333\n",
       "14      peugeot  15489.090909\n",
       "15  alfa-romero  15498.333333\n",
       "16      mercury  16503.000000\n",
       "17         audi  17859.166714\n",
       "18        volvo  18063.181818\n",
       "19          bmw  26118.750000\n",
       "20      porsche  31400.500000\n",
       "21        buick  33647.000000\n",
       "22       jaguar  34600.000000"
      ]
     },
     "execution_count": 18,
     "metadata": {},
     "output_type": "execute_result"
    }
   ],
   "source": [
    "df_CarName=pd.DataFrame(avg_price_bycarName)\n",
    "df_CarName[\"CarName\"]=df_CarName.index\n",
    "df_CarName.reset_index(drop=True,inplace=True)\n",
    "df_CarName=df_CarName.iloc[:,[1,0]]\n",
    "df_CarName"
   ]
  },
  {
   "cell_type": "markdown",
   "id": "44bdb0d2",
   "metadata": {
    "papermill": {
     "duration": 0.03214,
     "end_time": "2022-12-13T10:49:29.267267",
     "exception": false,
     "start_time": "2022-12-13T10:49:29.235127",
     "status": "completed"
    },
    "tags": []
   },
   "source": [
    "* **Most of them preferred to buy Toyota which is of average price around *9885$***\n",
    "* We can observe that most preferred to buy middle range Cars"
   ]
  },
  {
   "cell_type": "code",
   "execution_count": 19,
   "id": "bbfc5b3f",
   "metadata": {
    "execution": {
     "iopub.execute_input": "2022-12-13T10:49:29.333473Z",
     "iopub.status.busy": "2022-12-13T10:49:29.332800Z",
     "iopub.status.idle": "2022-12-13T10:49:29.339450Z",
     "shell.execute_reply": "2022-12-13T10:49:29.338307Z"
    },
    "papermill": {
     "duration": 0.042171,
     "end_time": "2022-12-13T10:49:29.341813",
     "exception": false,
     "start_time": "2022-12-13T10:49:29.299642",
     "status": "completed"
    },
    "tags": []
   },
   "outputs": [
    {
     "data": {
      "text/plain": [
       "array([ 3,  1,  2,  0, -1, -2])"
      ]
     },
     "execution_count": 19,
     "metadata": {},
     "output_type": "execute_result"
    }
   ],
   "source": [
    "df.symboling.unique()"
   ]
  },
  {
   "cell_type": "code",
   "execution_count": 20,
   "id": "3747d8e7",
   "metadata": {
    "execution": {
     "iopub.execute_input": "2022-12-13T10:49:29.408927Z",
     "iopub.status.busy": "2022-12-13T10:49:29.407568Z",
     "iopub.status.idle": "2022-12-13T10:49:29.416425Z",
     "shell.execute_reply": "2022-12-13T10:49:29.415442Z"
    },
    "papermill": {
     "duration": 0.044734,
     "end_time": "2022-12-13T10:49:29.418840",
     "exception": false,
     "start_time": "2022-12-13T10:49:29.374106",
     "status": "completed"
    },
    "tags": []
   },
   "outputs": [
    {
     "data": {
      "text/plain": [
       " 0    67\n",
       " 1    54\n",
       " 2    32\n",
       " 3    27\n",
       "-1    22\n",
       "-2     3\n",
       "Name: symboling, dtype: int64"
      ]
     },
     "execution_count": 20,
     "metadata": {},
     "output_type": "execute_result"
    }
   ],
   "source": [
    "df.symboling.value_counts()"
   ]
  },
  {
   "cell_type": "code",
   "execution_count": 21,
   "id": "a5312a61",
   "metadata": {
    "execution": {
     "iopub.execute_input": "2022-12-13T10:49:29.486624Z",
     "iopub.status.busy": "2022-12-13T10:49:29.485975Z",
     "iopub.status.idle": "2022-12-13T10:49:29.493552Z",
     "shell.execute_reply": "2022-12-13T10:49:29.492446Z"
    },
    "papermill": {
     "duration": 0.044067,
     "end_time": "2022-12-13T10:49:29.496245",
     "exception": false,
     "start_time": "2022-12-13T10:49:29.452178",
     "status": "completed"
    },
    "tags": []
   },
   "outputs": [],
   "source": [
    "avg_price_bysymboling=df.groupby([\"symboling\"]).mean()[\"price\"].sort_values()"
   ]
  },
  {
   "cell_type": "code",
   "execution_count": 22,
   "id": "d71d71b7",
   "metadata": {
    "execution": {
     "iopub.execute_input": "2022-12-13T10:49:29.562912Z",
     "iopub.status.busy": "2022-12-13T10:49:29.562250Z",
     "iopub.status.idle": "2022-12-13T10:49:29.575728Z",
     "shell.execute_reply": "2022-12-13T10:49:29.574478Z"
    },
    "papermill": {
     "duration": 0.049291,
     "end_time": "2022-12-13T10:49:29.578096",
     "exception": false,
     "start_time": "2022-12-13T10:49:29.528805",
     "status": "completed"
    },
    "tags": []
   },
   "outputs": [
    {
     "data": {
      "text/html": [
       "<div>\n",
       "<style scoped>\n",
       "    .dataframe tbody tr th:only-of-type {\n",
       "        vertical-align: middle;\n",
       "    }\n",
       "\n",
       "    .dataframe tbody tr th {\n",
       "        vertical-align: top;\n",
       "    }\n",
       "\n",
       "    .dataframe thead th {\n",
       "        text-align: right;\n",
       "    }\n",
       "</style>\n",
       "<table border=\"1\" class=\"dataframe\">\n",
       "  <thead>\n",
       "    <tr style=\"text-align: right;\">\n",
       "      <th></th>\n",
       "      <th>symboling</th>\n",
       "      <th>price</th>\n",
       "    </tr>\n",
       "  </thead>\n",
       "  <tbody>\n",
       "    <tr>\n",
       "      <th>0</th>\n",
       "      <td>1</td>\n",
       "      <td>10037.907407</td>\n",
       "    </tr>\n",
       "    <tr>\n",
       "      <th>1</th>\n",
       "      <td>2</td>\n",
       "      <td>10109.281250</td>\n",
       "    </tr>\n",
       "    <tr>\n",
       "      <th>2</th>\n",
       "      <td>0</td>\n",
       "      <td>14366.965179</td>\n",
       "    </tr>\n",
       "    <tr>\n",
       "      <th>3</th>\n",
       "      <td>-2</td>\n",
       "      <td>15781.666667</td>\n",
       "    </tr>\n",
       "    <tr>\n",
       "      <th>4</th>\n",
       "      <td>3</td>\n",
       "      <td>17221.296296</td>\n",
       "    </tr>\n",
       "    <tr>\n",
       "      <th>5</th>\n",
       "      <td>-1</td>\n",
       "      <td>17330.681818</td>\n",
       "    </tr>\n",
       "  </tbody>\n",
       "</table>\n",
       "</div>"
      ],
      "text/plain": [
       "   symboling         price\n",
       "0          1  10037.907407\n",
       "1          2  10109.281250\n",
       "2          0  14366.965179\n",
       "3         -2  15781.666667\n",
       "4          3  17221.296296\n",
       "5         -1  17330.681818"
      ]
     },
     "execution_count": 22,
     "metadata": {},
     "output_type": "execute_result"
    }
   ],
   "source": [
    "df_sym=pd.DataFrame(avg_price_bysymboling)\n",
    "df_sym[\"symboling\"]=df_sym.index\n",
    "df_sym.reset_index(drop=True,inplace=True)\n",
    "df_sym=df_sym.iloc[:,[1,0]]\n",
    "df_sym"
   ]
  },
  {
   "cell_type": "markdown",
   "id": "4dd82698",
   "metadata": {
    "papermill": {
     "duration": 0.032586,
     "end_time": "2022-12-13T10:49:29.642955",
     "exception": false,
     "start_time": "2022-12-13T10:49:29.610369",
     "status": "completed"
    },
    "tags": []
   },
   "source": [
    "* **Symboling(1) has lowest average price.**"
   ]
  },
  {
   "cell_type": "code",
   "execution_count": 23,
   "id": "6f0c10d6",
   "metadata": {
    "execution": {
     "iopub.execute_input": "2022-12-13T10:49:29.711170Z",
     "iopub.status.busy": "2022-12-13T10:49:29.710302Z",
     "iopub.status.idle": "2022-12-13T10:49:29.718262Z",
     "shell.execute_reply": "2022-12-13T10:49:29.717179Z"
    },
    "papermill": {
     "duration": 0.045561,
     "end_time": "2022-12-13T10:49:29.720750",
     "exception": false,
     "start_time": "2022-12-13T10:49:29.675189",
     "status": "completed"
    },
    "tags": []
   },
   "outputs": [
    {
     "data": {
      "text/plain": [
       "array(['gas', 'diesel'], dtype=object)"
      ]
     },
     "execution_count": 23,
     "metadata": {},
     "output_type": "execute_result"
    }
   ],
   "source": [
    "df.fueltype.unique()"
   ]
  },
  {
   "cell_type": "code",
   "execution_count": 24,
   "id": "36a0905c",
   "metadata": {
    "execution": {
     "iopub.execute_input": "2022-12-13T10:49:29.788682Z",
     "iopub.status.busy": "2022-12-13T10:49:29.787873Z",
     "iopub.status.idle": "2022-12-13T10:49:29.797228Z",
     "shell.execute_reply": "2022-12-13T10:49:29.796058Z"
    },
    "papermill": {
     "duration": 0.045845,
     "end_time": "2022-12-13T10:49:29.799478",
     "exception": false,
     "start_time": "2022-12-13T10:49:29.753633",
     "status": "completed"
    },
    "tags": []
   },
   "outputs": [
    {
     "data": {
      "text/plain": [
       "gas       185\n",
       "diesel     20\n",
       "Name: fueltype, dtype: int64"
      ]
     },
     "execution_count": 24,
     "metadata": {},
     "output_type": "execute_result"
    }
   ],
   "source": [
    "df.fueltype.value_counts()"
   ]
  },
  {
   "cell_type": "code",
   "execution_count": 25,
   "id": "856a39fe",
   "metadata": {
    "execution": {
     "iopub.execute_input": "2022-12-13T10:49:29.866467Z",
     "iopub.status.busy": "2022-12-13T10:49:29.866045Z",
     "iopub.status.idle": "2022-12-13T10:49:29.871983Z",
     "shell.execute_reply": "2022-12-13T10:49:29.871020Z"
    },
    "papermill": {
     "duration": 0.042241,
     "end_time": "2022-12-13T10:49:29.874256",
     "exception": false,
     "start_time": "2022-12-13T10:49:29.832015",
     "status": "completed"
    },
    "tags": []
   },
   "outputs": [],
   "source": [
    "avg_price_byfueltype=df.groupby([\"fueltype\"])[\"price\"].mean()"
   ]
  },
  {
   "cell_type": "code",
   "execution_count": 26,
   "id": "ceb8b9b1",
   "metadata": {
    "execution": {
     "iopub.execute_input": "2022-12-13T10:49:29.941282Z",
     "iopub.status.busy": "2022-12-13T10:49:29.940859Z",
     "iopub.status.idle": "2022-12-13T10:49:29.949364Z",
     "shell.execute_reply": "2022-12-13T10:49:29.947856Z"
    },
    "papermill": {
     "duration": 0.045508,
     "end_time": "2022-12-13T10:49:29.952243",
     "exception": false,
     "start_time": "2022-12-13T10:49:29.906735",
     "status": "completed"
    },
    "tags": []
   },
   "outputs": [
    {
     "data": {
      "text/plain": [
       "fueltype\n",
       "diesel    15838.1500\n",
       "gas       12999.7982\n",
       "Name: price, dtype: float64"
      ]
     },
     "execution_count": 26,
     "metadata": {},
     "output_type": "execute_result"
    }
   ],
   "source": [
    "avg_price_byfueltype"
   ]
  },
  {
   "cell_type": "markdown",
   "id": "81458312",
   "metadata": {
    "papermill": {
     "duration": 0.033296,
     "end_time": "2022-12-13T10:49:30.017877",
     "exception": false,
     "start_time": "2022-12-13T10:49:29.984581",
     "status": "completed"
    },
    "tags": []
   },
   "source": [
    "* **Most preferred to buy gas type Cars,becuase of lowest Price**"
   ]
  },
  {
   "cell_type": "code",
   "execution_count": 27,
   "id": "569f196c",
   "metadata": {
    "execution": {
     "iopub.execute_input": "2022-12-13T10:49:30.085153Z",
     "iopub.status.busy": "2022-12-13T10:49:30.084721Z",
     "iopub.status.idle": "2022-12-13T10:49:30.098635Z",
     "shell.execute_reply": "2022-12-13T10:49:30.097411Z"
    },
    "papermill": {
     "duration": 0.051057,
     "end_time": "2022-12-13T10:49:30.101479",
     "exception": false,
     "start_time": "2022-12-13T10:49:30.050422",
     "status": "completed"
    },
    "tags": []
   },
   "outputs": [
    {
     "data": {
      "text/html": [
       "<div>\n",
       "<style scoped>\n",
       "    .dataframe tbody tr th:only-of-type {\n",
       "        vertical-align: middle;\n",
       "    }\n",
       "\n",
       "    .dataframe tbody tr th {\n",
       "        vertical-align: top;\n",
       "    }\n",
       "\n",
       "    .dataframe thead th {\n",
       "        text-align: right;\n",
       "    }\n",
       "</style>\n",
       "<table border=\"1\" class=\"dataframe\">\n",
       "  <thead>\n",
       "    <tr style=\"text-align: right;\">\n",
       "      <th></th>\n",
       "      <th>fueltype</th>\n",
       "      <th>price</th>\n",
       "    </tr>\n",
       "  </thead>\n",
       "  <tbody>\n",
       "    <tr>\n",
       "      <th>0</th>\n",
       "      <td>diesel</td>\n",
       "      <td>15838.1500</td>\n",
       "    </tr>\n",
       "    <tr>\n",
       "      <th>1</th>\n",
       "      <td>gas</td>\n",
       "      <td>12999.7982</td>\n",
       "    </tr>\n",
       "  </tbody>\n",
       "</table>\n",
       "</div>"
      ],
      "text/plain": [
       "  fueltype       price\n",
       "0   diesel  15838.1500\n",
       "1      gas  12999.7982"
      ]
     },
     "execution_count": 27,
     "metadata": {},
     "output_type": "execute_result"
    }
   ],
   "source": [
    "df_fueltype=pd.DataFrame(avg_price_byfueltype)\n",
    "df_fueltype[\"fueltype\"]=df_fueltype.index\n",
    "df_fueltype.reset_index(drop=True,inplace=True)\n",
    "df_fueltype=df_fueltype.iloc[:,[1,0]]\n",
    "df_fueltype"
   ]
  },
  {
   "cell_type": "code",
   "execution_count": 28,
   "id": "4c50c9c3",
   "metadata": {
    "execution": {
     "iopub.execute_input": "2022-12-13T10:49:30.168673Z",
     "iopub.status.busy": "2022-12-13T10:49:30.168286Z",
     "iopub.status.idle": "2022-12-13T10:49:30.176477Z",
     "shell.execute_reply": "2022-12-13T10:49:30.175010Z"
    },
    "papermill": {
     "duration": 0.044934,
     "end_time": "2022-12-13T10:49:30.179066",
     "exception": false,
     "start_time": "2022-12-13T10:49:30.134132",
     "status": "completed"
    },
    "tags": []
   },
   "outputs": [
    {
     "data": {
      "text/plain": [
       "array(['std', 'turbo'], dtype=object)"
      ]
     },
     "execution_count": 28,
     "metadata": {},
     "output_type": "execute_result"
    }
   ],
   "source": [
    "df.aspiration.unique()"
   ]
  },
  {
   "cell_type": "code",
   "execution_count": 29,
   "id": "a0523fdf",
   "metadata": {
    "execution": {
     "iopub.execute_input": "2022-12-13T10:49:30.246285Z",
     "iopub.status.busy": "2022-12-13T10:49:30.245900Z",
     "iopub.status.idle": "2022-12-13T10:49:30.254633Z",
     "shell.execute_reply": "2022-12-13T10:49:30.253434Z"
    },
    "papermill": {
     "duration": 0.045592,
     "end_time": "2022-12-13T10:49:30.257177",
     "exception": false,
     "start_time": "2022-12-13T10:49:30.211585",
     "status": "completed"
    },
    "tags": []
   },
   "outputs": [
    {
     "data": {
      "text/plain": [
       "std      168\n",
       "turbo     37\n",
       "Name: aspiration, dtype: int64"
      ]
     },
     "execution_count": 29,
     "metadata": {},
     "output_type": "execute_result"
    }
   ],
   "source": [
    "df.aspiration.value_counts()"
   ]
  },
  {
   "cell_type": "code",
   "execution_count": 30,
   "id": "367cd276",
   "metadata": {
    "execution": {
     "iopub.execute_input": "2022-12-13T10:49:30.325988Z",
     "iopub.status.busy": "2022-12-13T10:49:30.325560Z",
     "iopub.status.idle": "2022-12-13T10:49:30.331786Z",
     "shell.execute_reply": "2022-12-13T10:49:30.330851Z"
    },
    "papermill": {
     "duration": 0.043221,
     "end_time": "2022-12-13T10:49:30.334147",
     "exception": false,
     "start_time": "2022-12-13T10:49:30.290926",
     "status": "completed"
    },
    "tags": []
   },
   "outputs": [],
   "source": [
    "avg_price_byasp=df.groupby([\"aspiration\"])[\"price\"].mean()"
   ]
  },
  {
   "cell_type": "code",
   "execution_count": 31,
   "id": "c49b13f7",
   "metadata": {
    "execution": {
     "iopub.execute_input": "2022-12-13T10:49:30.403903Z",
     "iopub.status.busy": "2022-12-13T10:49:30.403465Z",
     "iopub.status.idle": "2022-12-13T10:49:30.412006Z",
     "shell.execute_reply": "2022-12-13T10:49:30.410842Z"
    },
    "papermill": {
     "duration": 0.045962,
     "end_time": "2022-12-13T10:49:30.414305",
     "exception": false,
     "start_time": "2022-12-13T10:49:30.368343",
     "status": "completed"
    },
    "tags": []
   },
   "outputs": [
    {
     "data": {
      "text/plain": [
       "aspiration\n",
       "std      12611.270833\n",
       "turbo    16298.166676\n",
       "Name: price, dtype: float64"
      ]
     },
     "execution_count": 31,
     "metadata": {},
     "output_type": "execute_result"
    }
   ],
   "source": [
    "avg_price_byasp"
   ]
  },
  {
   "cell_type": "markdown",
   "id": "dbfb47f2",
   "metadata": {
    "papermill": {
     "duration": 0.033233,
     "end_time": "2022-12-13T10:49:30.482738",
     "exception": false,
     "start_time": "2022-12-13T10:49:30.449505",
     "status": "completed"
    },
    "tags": []
   },
   "source": [
    "* **Aspiration type std has most counts**"
   ]
  },
  {
   "cell_type": "code",
   "execution_count": 32,
   "id": "e009ca4f",
   "metadata": {
    "execution": {
     "iopub.execute_input": "2022-12-13T10:49:30.552207Z",
     "iopub.status.busy": "2022-12-13T10:49:30.551726Z",
     "iopub.status.idle": "2022-12-13T10:49:30.560225Z",
     "shell.execute_reply": "2022-12-13T10:49:30.559034Z"
    },
    "papermill": {
     "duration": 0.047002,
     "end_time": "2022-12-13T10:49:30.563038",
     "exception": false,
     "start_time": "2022-12-13T10:49:30.516036",
     "status": "completed"
    },
    "tags": []
   },
   "outputs": [
    {
     "data": {
      "text/plain": [
       "array(['two', 'four'], dtype=object)"
      ]
     },
     "execution_count": 32,
     "metadata": {},
     "output_type": "execute_result"
    }
   ],
   "source": [
    "df.doornumber.unique()"
   ]
  },
  {
   "cell_type": "code",
   "execution_count": 33,
   "id": "ebcfbd83",
   "metadata": {
    "execution": {
     "iopub.execute_input": "2022-12-13T10:49:30.631904Z",
     "iopub.status.busy": "2022-12-13T10:49:30.631455Z",
     "iopub.status.idle": "2022-12-13T10:49:30.641589Z",
     "shell.execute_reply": "2022-12-13T10:49:30.640662Z"
    },
    "papermill": {
     "duration": 0.046955,
     "end_time": "2022-12-13T10:49:30.643973",
     "exception": false,
     "start_time": "2022-12-13T10:49:30.597018",
     "status": "completed"
    },
    "tags": []
   },
   "outputs": [
    {
     "data": {
      "text/plain": [
       "four    115\n",
       "two      90\n",
       "Name: doornumber, dtype: int64"
      ]
     },
     "execution_count": 33,
     "metadata": {},
     "output_type": "execute_result"
    }
   ],
   "source": [
    "df.doornumber.value_counts()"
   ]
  },
  {
   "cell_type": "code",
   "execution_count": 34,
   "id": "ce55596d",
   "metadata": {
    "execution": {
     "iopub.execute_input": "2022-12-13T10:49:30.712280Z",
     "iopub.status.busy": "2022-12-13T10:49:30.711834Z",
     "iopub.status.idle": "2022-12-13T10:49:30.718447Z",
     "shell.execute_reply": "2022-12-13T10:49:30.717271Z"
    },
    "papermill": {
     "duration": 0.044119,
     "end_time": "2022-12-13T10:49:30.720869",
     "exception": false,
     "start_time": "2022-12-13T10:49:30.676750",
     "status": "completed"
    },
    "tags": []
   },
   "outputs": [],
   "source": [
    "avg_rpice_bydrnum=df.groupby([\"doornumber\"])[\"price\"].mean()"
   ]
  },
  {
   "cell_type": "code",
   "execution_count": 35,
   "id": "921fa0d2",
   "metadata": {
    "execution": {
     "iopub.execute_input": "2022-12-13T10:49:30.789808Z",
     "iopub.status.busy": "2022-12-13T10:49:30.789388Z",
     "iopub.status.idle": "2022-12-13T10:49:30.796504Z",
     "shell.execute_reply": "2022-12-13T10:49:30.795721Z"
    },
    "papermill": {
     "duration": 0.044288,
     "end_time": "2022-12-13T10:49:30.798589",
     "exception": false,
     "start_time": "2022-12-13T10:49:30.754301",
     "status": "completed"
    },
    "tags": []
   },
   "outputs": [
    {
     "data": {
      "text/plain": [
       "doornumber\n",
       "four    13501.152174\n",
       "two     12989.924078\n",
       "Name: price, dtype: float64"
      ]
     },
     "execution_count": 35,
     "metadata": {},
     "output_type": "execute_result"
    }
   ],
   "source": [
    "avg_rpice_bydrnum"
   ]
  },
  {
   "cell_type": "markdown",
   "id": "7f40952e",
   "metadata": {
    "papermill": {
     "duration": 0.032616,
     "end_time": "2022-12-13T10:49:30.864351",
     "exception": false,
     "start_time": "2022-12-13T10:49:30.831735",
     "status": "completed"
    },
    "tags": []
   },
   "source": [
    "**Usually evryone preferred to buy 4 door Cars irrespctive of Price.**"
   ]
  },
  {
   "cell_type": "code",
   "execution_count": 36,
   "id": "11fffaae",
   "metadata": {
    "execution": {
     "iopub.execute_input": "2022-12-13T10:49:30.931544Z",
     "iopub.status.busy": "2022-12-13T10:49:30.931151Z",
     "iopub.status.idle": "2022-12-13T10:49:30.938666Z",
     "shell.execute_reply": "2022-12-13T10:49:30.937558Z"
    },
    "papermill": {
     "duration": 0.044106,
     "end_time": "2022-12-13T10:49:30.941138",
     "exception": false,
     "start_time": "2022-12-13T10:49:30.897032",
     "status": "completed"
    },
    "tags": []
   },
   "outputs": [
    {
     "data": {
      "text/plain": [
       "array(['convertible', 'hatchback', 'sedan', 'wagon', 'hardtop'],\n",
       "      dtype=object)"
      ]
     },
     "execution_count": 36,
     "metadata": {},
     "output_type": "execute_result"
    }
   ],
   "source": [
    "df.carbody.unique()"
   ]
  },
  {
   "cell_type": "code",
   "execution_count": 37,
   "id": "cf7b5bdd",
   "metadata": {
    "execution": {
     "iopub.execute_input": "2022-12-13T10:49:31.009465Z",
     "iopub.status.busy": "2022-12-13T10:49:31.009049Z",
     "iopub.status.idle": "2022-12-13T10:49:31.017367Z",
     "shell.execute_reply": "2022-12-13T10:49:31.016470Z"
    },
    "papermill": {
     "duration": 0.045429,
     "end_time": "2022-12-13T10:49:31.019683",
     "exception": false,
     "start_time": "2022-12-13T10:49:30.974254",
     "status": "completed"
    },
    "tags": []
   },
   "outputs": [
    {
     "data": {
      "text/plain": [
       "sedan          96\n",
       "hatchback      70\n",
       "wagon          25\n",
       "hardtop         8\n",
       "convertible     6\n",
       "Name: carbody, dtype: int64"
      ]
     },
     "execution_count": 37,
     "metadata": {},
     "output_type": "execute_result"
    }
   ],
   "source": [
    "df.carbody.value_counts()"
   ]
  },
  {
   "cell_type": "code",
   "execution_count": 38,
   "id": "76b81ff0",
   "metadata": {
    "execution": {
     "iopub.execute_input": "2022-12-13T10:49:31.089681Z",
     "iopub.status.busy": "2022-12-13T10:49:31.089236Z",
     "iopub.status.idle": "2022-12-13T10:49:31.096184Z",
     "shell.execute_reply": "2022-12-13T10:49:31.094873Z"
    },
    "papermill": {
     "duration": 0.044517,
     "end_time": "2022-12-13T10:49:31.098666",
     "exception": false,
     "start_time": "2022-12-13T10:49:31.054149",
     "status": "completed"
    },
    "tags": []
   },
   "outputs": [],
   "source": [
    "avg_price_bycarbody=df.groupby([\"carbody\"])[\"price\"].mean()"
   ]
  },
  {
   "cell_type": "code",
   "execution_count": 39,
   "id": "c19c6069",
   "metadata": {
    "execution": {
     "iopub.execute_input": "2022-12-13T10:49:31.168847Z",
     "iopub.status.busy": "2022-12-13T10:49:31.168378Z",
     "iopub.status.idle": "2022-12-13T10:49:31.177512Z",
     "shell.execute_reply": "2022-12-13T10:49:31.176344Z"
    },
    "papermill": {
     "duration": 0.046767,
     "end_time": "2022-12-13T10:49:31.180288",
     "exception": false,
     "start_time": "2022-12-13T10:49:31.133521",
     "status": "completed"
    },
    "tags": []
   },
   "outputs": [
    {
     "data": {
      "text/plain": [
       "carbody\n",
       "hatchback      10376.652386\n",
       "wagon          12371.960000\n",
       "sedan          14344.270833\n",
       "convertible    21890.500000\n",
       "hardtop        22208.500000\n",
       "Name: price, dtype: float64"
      ]
     },
     "execution_count": 39,
     "metadata": {},
     "output_type": "execute_result"
    }
   ],
   "source": [
    "avg_price_bycarbody.sort_values()"
   ]
  },
  {
   "cell_type": "code",
   "execution_count": 40,
   "id": "0f09adab",
   "metadata": {
    "execution": {
     "iopub.execute_input": "2022-12-13T10:49:31.248803Z",
     "iopub.status.busy": "2022-12-13T10:49:31.248356Z",
     "iopub.status.idle": "2022-12-13T10:49:31.258099Z",
     "shell.execute_reply": "2022-12-13T10:49:31.256979Z"
    },
    "papermill": {
     "duration": 0.046769,
     "end_time": "2022-12-13T10:49:31.260631",
     "exception": false,
     "start_time": "2022-12-13T10:49:31.213862",
     "status": "completed"
    },
    "tags": []
   },
   "outputs": [
    {
     "data": {
      "text/plain": [
       "array(['rwd', 'fwd', '4wd'], dtype=object)"
      ]
     },
     "execution_count": 40,
     "metadata": {},
     "output_type": "execute_result"
    }
   ],
   "source": [
    "df.drivewheel.unique()"
   ]
  },
  {
   "cell_type": "code",
   "execution_count": 41,
   "id": "1aeb4165",
   "metadata": {
    "execution": {
     "iopub.execute_input": "2022-12-13T10:49:31.329512Z",
     "iopub.status.busy": "2022-12-13T10:49:31.328691Z",
     "iopub.status.idle": "2022-12-13T10:49:31.337460Z",
     "shell.execute_reply": "2022-12-13T10:49:31.336469Z"
    },
    "papermill": {
     "duration": 0.046079,
     "end_time": "2022-12-13T10:49:31.339830",
     "exception": false,
     "start_time": "2022-12-13T10:49:31.293751",
     "status": "completed"
    },
    "tags": []
   },
   "outputs": [
    {
     "data": {
      "text/plain": [
       "fwd    120\n",
       "rwd     76\n",
       "4wd      9\n",
       "Name: drivewheel, dtype: int64"
      ]
     },
     "execution_count": 41,
     "metadata": {},
     "output_type": "execute_result"
    }
   ],
   "source": [
    "df.drivewheel.value_counts()"
   ]
  },
  {
   "cell_type": "code",
   "execution_count": 42,
   "id": "2f1058e6",
   "metadata": {
    "execution": {
     "iopub.execute_input": "2022-12-13T10:49:31.408935Z",
     "iopub.status.busy": "2022-12-13T10:49:31.408032Z",
     "iopub.status.idle": "2022-12-13T10:49:31.414545Z",
     "shell.execute_reply": "2022-12-13T10:49:31.413619Z"
    },
    "papermill": {
     "duration": 0.043673,
     "end_time": "2022-12-13T10:49:31.416856",
     "exception": false,
     "start_time": "2022-12-13T10:49:31.373183",
     "status": "completed"
    },
    "tags": []
   },
   "outputs": [],
   "source": [
    "avg_price_bywd=df.groupby([\"drivewheel\"])[\"price\"].mean()"
   ]
  },
  {
   "cell_type": "code",
   "execution_count": 43,
   "id": "09593134",
   "metadata": {
    "execution": {
     "iopub.execute_input": "2022-12-13T10:49:31.486978Z",
     "iopub.status.busy": "2022-12-13T10:49:31.486539Z",
     "iopub.status.idle": "2022-12-13T10:49:31.495593Z",
     "shell.execute_reply": "2022-12-13T10:49:31.494436Z"
    },
    "papermill": {
     "duration": 0.04695,
     "end_time": "2022-12-13T10:49:31.498033",
     "exception": false,
     "start_time": "2022-12-13T10:49:31.451083",
     "status": "completed"
    },
    "tags": []
   },
   "outputs": [
    {
     "data": {
      "text/plain": [
       "drivewheel\n",
       "fwd     9239.308333\n",
       "4wd    11087.463000\n",
       "rwd    19910.809211\n",
       "Name: price, dtype: float64"
      ]
     },
     "execution_count": 43,
     "metadata": {},
     "output_type": "execute_result"
    }
   ],
   "source": [
    "avg_price_bywd.sort_values()"
   ]
  },
  {
   "cell_type": "code",
   "execution_count": 44,
   "id": "3e5863c8",
   "metadata": {
    "execution": {
     "iopub.execute_input": "2022-12-13T10:49:31.568219Z",
     "iopub.status.busy": "2022-12-13T10:49:31.566946Z",
     "iopub.status.idle": "2022-12-13T10:49:31.575294Z",
     "shell.execute_reply": "2022-12-13T10:49:31.574287Z"
    },
    "papermill": {
     "duration": 0.045865,
     "end_time": "2022-12-13T10:49:31.577657",
     "exception": false,
     "start_time": "2022-12-13T10:49:31.531792",
     "status": "completed"
    },
    "tags": []
   },
   "outputs": [
    {
     "data": {
      "text/plain": [
       "array(['front', 'rear'], dtype=object)"
      ]
     },
     "execution_count": 44,
     "metadata": {},
     "output_type": "execute_result"
    }
   ],
   "source": [
    "df.enginelocation.unique()"
   ]
  },
  {
   "cell_type": "code",
   "execution_count": 45,
   "id": "9447af9d",
   "metadata": {
    "execution": {
     "iopub.execute_input": "2022-12-13T10:49:31.649138Z",
     "iopub.status.busy": "2022-12-13T10:49:31.648099Z",
     "iopub.status.idle": "2022-12-13T10:49:31.659891Z",
     "shell.execute_reply": "2022-12-13T10:49:31.658731Z"
    },
    "papermill": {
     "duration": 0.05057,
     "end_time": "2022-12-13T10:49:31.662420",
     "exception": false,
     "start_time": "2022-12-13T10:49:31.611850",
     "status": "completed"
    },
    "tags": []
   },
   "outputs": [
    {
     "data": {
      "text/plain": [
       "front    202\n",
       "rear       3\n",
       "Name: enginelocation, dtype: int64"
      ]
     },
     "execution_count": 45,
     "metadata": {},
     "output_type": "execute_result"
    }
   ],
   "source": [
    "df.enginelocation.value_counts()"
   ]
  },
  {
   "cell_type": "code",
   "execution_count": 46,
   "id": "501f8059",
   "metadata": {
    "execution": {
     "iopub.execute_input": "2022-12-13T10:49:31.733356Z",
     "iopub.status.busy": "2022-12-13T10:49:31.731952Z",
     "iopub.status.idle": "2022-12-13T10:49:31.738635Z",
     "shell.execute_reply": "2022-12-13T10:49:31.737637Z"
    },
    "papermill": {
     "duration": 0.044897,
     "end_time": "2022-12-13T10:49:31.741282",
     "exception": false,
     "start_time": "2022-12-13T10:49:31.696385",
     "status": "completed"
    },
    "tags": []
   },
   "outputs": [],
   "source": [
    "avg_price_byengloc=df.groupby([\"enginelocation\"])[\"price\"].mean()"
   ]
  },
  {
   "cell_type": "code",
   "execution_count": 47,
   "id": "88b495b1",
   "metadata": {
    "execution": {
     "iopub.execute_input": "2022-12-13T10:49:31.811706Z",
     "iopub.status.busy": "2022-12-13T10:49:31.810586Z",
     "iopub.status.idle": "2022-12-13T10:49:31.819238Z",
     "shell.execute_reply": "2022-12-13T10:49:31.818094Z"
    },
    "papermill": {
     "duration": 0.046815,
     "end_time": "2022-12-13T10:49:31.821838",
     "exception": false,
     "start_time": "2022-12-13T10:49:31.775023",
     "status": "completed"
    },
    "tags": []
   },
   "outputs": [
    {
     "data": {
      "text/plain": [
       "enginelocation\n",
       "front    12961.097361\n",
       "rear     34528.000000\n",
       "Name: price, dtype: float64"
      ]
     },
     "execution_count": 47,
     "metadata": {},
     "output_type": "execute_result"
    }
   ],
   "source": [
    "avg_price_byengloc.sort_values()"
   ]
  },
  {
   "cell_type": "code",
   "execution_count": 48,
   "id": "a5ff5d88",
   "metadata": {
    "execution": {
     "iopub.execute_input": "2022-12-13T10:49:31.892839Z",
     "iopub.status.busy": "2022-12-13T10:49:31.891674Z",
     "iopub.status.idle": "2022-12-13T10:49:31.899440Z",
     "shell.execute_reply": "2022-12-13T10:49:31.898329Z"
    },
    "papermill": {
     "duration": 0.045313,
     "end_time": "2022-12-13T10:49:31.901653",
     "exception": false,
     "start_time": "2022-12-13T10:49:31.856340",
     "status": "completed"
    },
    "tags": []
   },
   "outputs": [
    {
     "data": {
      "text/plain": [
       "Index(['car_ID', 'symboling', 'CarName', 'fueltype', 'aspiration',\n",
       "       'doornumber', 'carbody', 'drivewheel', 'enginelocation', 'wheelbase',\n",
       "       'carlength', 'carwidth', 'carheight', 'curbweight', 'enginetype',\n",
       "       'cylindernumber', 'enginesize', 'fuelsystem', 'boreratio', 'stroke',\n",
       "       'compressionratio', 'horsepower', 'peakrpm', 'citympg', 'highwaympg',\n",
       "       'price'],\n",
       "      dtype='object')"
      ]
     },
     "execution_count": 48,
     "metadata": {},
     "output_type": "execute_result"
    }
   ],
   "source": [
    "df.columns"
   ]
  },
  {
   "cell_type": "code",
   "execution_count": 49,
   "id": "a581c4db",
   "metadata": {
    "execution": {
     "iopub.execute_input": "2022-12-13T10:49:31.972061Z",
     "iopub.status.busy": "2022-12-13T10:49:31.971337Z",
     "iopub.status.idle": "2022-12-13T10:49:31.977578Z",
     "shell.execute_reply": "2022-12-13T10:49:31.976815Z"
    },
    "papermill": {
     "duration": 0.043827,
     "end_time": "2022-12-13T10:49:31.979726",
     "exception": false,
     "start_time": "2022-12-13T10:49:31.935899",
     "status": "completed"
    },
    "tags": []
   },
   "outputs": [
    {
     "data": {
      "text/plain": [
       "array(['four', 'six', 'five', 'three', 'twelve', 'two', 'eight'],\n",
       "      dtype=object)"
      ]
     },
     "execution_count": 49,
     "metadata": {},
     "output_type": "execute_result"
    }
   ],
   "source": [
    "df.cylindernumber.unique()"
   ]
  },
  {
   "cell_type": "code",
   "execution_count": 50,
   "id": "5d7dbbf2",
   "metadata": {
    "execution": {
     "iopub.execute_input": "2022-12-13T10:49:32.050834Z",
     "iopub.status.busy": "2022-12-13T10:49:32.050122Z",
     "iopub.status.idle": "2022-12-13T10:49:32.058049Z",
     "shell.execute_reply": "2022-12-13T10:49:32.057036Z"
    },
    "papermill": {
     "duration": 0.046249,
     "end_time": "2022-12-13T10:49:32.060233",
     "exception": false,
     "start_time": "2022-12-13T10:49:32.013984",
     "status": "completed"
    },
    "tags": []
   },
   "outputs": [
    {
     "data": {
      "text/plain": [
       "four      159\n",
       "six        24\n",
       "five       11\n",
       "eight       5\n",
       "two         4\n",
       "three       1\n",
       "twelve      1\n",
       "Name: cylindernumber, dtype: int64"
      ]
     },
     "execution_count": 50,
     "metadata": {},
     "output_type": "execute_result"
    }
   ],
   "source": [
    "df.cylindernumber.value_counts()"
   ]
  },
  {
   "cell_type": "code",
   "execution_count": 51,
   "id": "e8e702da",
   "metadata": {
    "execution": {
     "iopub.execute_input": "2022-12-13T10:49:32.130660Z",
     "iopub.status.busy": "2022-12-13T10:49:32.129969Z",
     "iopub.status.idle": "2022-12-13T10:49:32.135666Z",
     "shell.execute_reply": "2022-12-13T10:49:32.134840Z"
    },
    "papermill": {
     "duration": 0.044001,
     "end_time": "2022-12-13T10:49:32.138444",
     "exception": false,
     "start_time": "2022-12-13T10:49:32.094443",
     "status": "completed"
    },
    "tags": []
   },
   "outputs": [],
   "source": [
    "avg_price_bycylnum=df.groupby([\"cylindernumber\"])[\"price\"].mean()"
   ]
  },
  {
   "cell_type": "code",
   "execution_count": 52,
   "id": "fe9fca45",
   "metadata": {
    "execution": {
     "iopub.execute_input": "2022-12-13T10:49:32.210772Z",
     "iopub.status.busy": "2022-12-13T10:49:32.209903Z",
     "iopub.status.idle": "2022-12-13T10:49:32.218121Z",
     "shell.execute_reply": "2022-12-13T10:49:32.217151Z"
    },
    "papermill": {
     "duration": 0.047544,
     "end_time": "2022-12-13T10:49:32.220681",
     "exception": false,
     "start_time": "2022-12-13T10:49:32.173137",
     "status": "completed"
    },
    "tags": []
   },
   "outputs": [
    {
     "data": {
      "text/plain": [
       "cylindernumber\n",
       "eight     37400.100000\n",
       "five      21630.469727\n",
       "four      10285.754717\n",
       "six       23671.833333\n",
       "three      5151.000000\n",
       "twelve    36000.000000\n",
       "two       13020.000000\n",
       "Name: price, dtype: float64"
      ]
     },
     "execution_count": 52,
     "metadata": {},
     "output_type": "execute_result"
    }
   ],
   "source": [
    "avg_price_bycylnum"
   ]
  },
  {
   "cell_type": "markdown",
   "id": "44c5c7b6",
   "metadata": {
    "papermill": {
     "duration": 0.03563,
     "end_time": "2022-12-13T10:49:32.291105",
     "exception": false,
     "start_time": "2022-12-13T10:49:32.255475",
     "status": "completed"
    },
    "tags": []
   },
   "source": [
    "***Inference***\n",
    "\n",
    "**Most of them preferred**\n",
    "* Most of them preferred to buy Toyota which is of average price around 9885 dollar\n",
    "* We can observe that most preferred to buy middle range Cars\n",
    "* Most preferred to buy gas type Cars,becuase of lowest Price\n",
    "* Cars of body type Sedan with average price around 14344 dollar\n",
    "* Cars of front wheel drive with average price 9239 $\n",
    "* 99% people bought Cars with engine location at front\n",
    "* Engine with 4 cylinders has more counts.\n",
    "\n"
   ]
  },
  {
   "cell_type": "markdown",
   "id": "56ea75eb",
   "metadata": {
    "papermill": {
     "duration": 0.034319,
     "end_time": "2022-12-13T10:49:32.361128",
     "exception": false,
     "start_time": "2022-12-13T10:49:32.326809",
     "status": "completed"
    },
    "tags": []
   },
   "source": [
    "**Lets separate categorical data from original dataset.**"
   ]
  },
  {
   "cell_type": "code",
   "execution_count": 53,
   "id": "255e3387",
   "metadata": {
    "execution": {
     "iopub.execute_input": "2022-12-13T10:49:32.434555Z",
     "iopub.status.busy": "2022-12-13T10:49:32.433454Z",
     "iopub.status.idle": "2022-12-13T10:49:32.440238Z",
     "shell.execute_reply": "2022-12-13T10:49:32.439207Z"
    },
    "papermill": {
     "duration": 0.046077,
     "end_time": "2022-12-13T10:49:32.442887",
     "exception": false,
     "start_time": "2022-12-13T10:49:32.396810",
     "status": "completed"
    },
    "tags": []
   },
   "outputs": [],
   "source": [
    "categorical_data=df[[\"symboling\",\"CarName\",\"fueltype\",\"aspiration\",\"doornumber\",\"carbody\",\"drivewheel\",\"enginelocation\",\"cylindernumber\"]]"
   ]
  },
  {
   "cell_type": "code",
   "execution_count": 54,
   "id": "28ad98d8",
   "metadata": {
    "execution": {
     "iopub.execute_input": "2022-12-13T10:49:32.515510Z",
     "iopub.status.busy": "2022-12-13T10:49:32.515084Z",
     "iopub.status.idle": "2022-12-13T10:49:32.534482Z",
     "shell.execute_reply": "2022-12-13T10:49:32.533262Z"
    },
    "papermill": {
     "duration": 0.057817,
     "end_time": "2022-12-13T10:49:32.536871",
     "exception": false,
     "start_time": "2022-12-13T10:49:32.479054",
     "status": "completed"
    },
    "tags": []
   },
   "outputs": [
    {
     "data": {
      "text/html": [
       "<div>\n",
       "<style scoped>\n",
       "    .dataframe tbody tr th:only-of-type {\n",
       "        vertical-align: middle;\n",
       "    }\n",
       "\n",
       "    .dataframe tbody tr th {\n",
       "        vertical-align: top;\n",
       "    }\n",
       "\n",
       "    .dataframe thead th {\n",
       "        text-align: right;\n",
       "    }\n",
       "</style>\n",
       "<table border=\"1\" class=\"dataframe\">\n",
       "  <thead>\n",
       "    <tr style=\"text-align: right;\">\n",
       "      <th></th>\n",
       "      <th>symboling</th>\n",
       "      <th>CarName</th>\n",
       "      <th>fueltype</th>\n",
       "      <th>aspiration</th>\n",
       "      <th>doornumber</th>\n",
       "      <th>carbody</th>\n",
       "      <th>drivewheel</th>\n",
       "      <th>enginelocation</th>\n",
       "      <th>cylindernumber</th>\n",
       "    </tr>\n",
       "  </thead>\n",
       "  <tbody>\n",
       "    <tr>\n",
       "      <th>0</th>\n",
       "      <td>3</td>\n",
       "      <td>alfa-romero</td>\n",
       "      <td>gas</td>\n",
       "      <td>std</td>\n",
       "      <td>two</td>\n",
       "      <td>convertible</td>\n",
       "      <td>rwd</td>\n",
       "      <td>front</td>\n",
       "      <td>four</td>\n",
       "    </tr>\n",
       "    <tr>\n",
       "      <th>1</th>\n",
       "      <td>3</td>\n",
       "      <td>alfa-romero</td>\n",
       "      <td>gas</td>\n",
       "      <td>std</td>\n",
       "      <td>two</td>\n",
       "      <td>convertible</td>\n",
       "      <td>rwd</td>\n",
       "      <td>front</td>\n",
       "      <td>four</td>\n",
       "    </tr>\n",
       "    <tr>\n",
       "      <th>2</th>\n",
       "      <td>1</td>\n",
       "      <td>alfa-romero</td>\n",
       "      <td>gas</td>\n",
       "      <td>std</td>\n",
       "      <td>two</td>\n",
       "      <td>hatchback</td>\n",
       "      <td>rwd</td>\n",
       "      <td>front</td>\n",
       "      <td>six</td>\n",
       "    </tr>\n",
       "    <tr>\n",
       "      <th>3</th>\n",
       "      <td>2</td>\n",
       "      <td>audi</td>\n",
       "      <td>gas</td>\n",
       "      <td>std</td>\n",
       "      <td>four</td>\n",
       "      <td>sedan</td>\n",
       "      <td>fwd</td>\n",
       "      <td>front</td>\n",
       "      <td>four</td>\n",
       "    </tr>\n",
       "    <tr>\n",
       "      <th>4</th>\n",
       "      <td>2</td>\n",
       "      <td>audi</td>\n",
       "      <td>gas</td>\n",
       "      <td>std</td>\n",
       "      <td>four</td>\n",
       "      <td>sedan</td>\n",
       "      <td>4wd</td>\n",
       "      <td>front</td>\n",
       "      <td>five</td>\n",
       "    </tr>\n",
       "    <tr>\n",
       "      <th>...</th>\n",
       "      <td>...</td>\n",
       "      <td>...</td>\n",
       "      <td>...</td>\n",
       "      <td>...</td>\n",
       "      <td>...</td>\n",
       "      <td>...</td>\n",
       "      <td>...</td>\n",
       "      <td>...</td>\n",
       "      <td>...</td>\n",
       "    </tr>\n",
       "    <tr>\n",
       "      <th>200</th>\n",
       "      <td>-1</td>\n",
       "      <td>volvo</td>\n",
       "      <td>gas</td>\n",
       "      <td>std</td>\n",
       "      <td>four</td>\n",
       "      <td>sedan</td>\n",
       "      <td>rwd</td>\n",
       "      <td>front</td>\n",
       "      <td>four</td>\n",
       "    </tr>\n",
       "    <tr>\n",
       "      <th>201</th>\n",
       "      <td>-1</td>\n",
       "      <td>volvo</td>\n",
       "      <td>gas</td>\n",
       "      <td>turbo</td>\n",
       "      <td>four</td>\n",
       "      <td>sedan</td>\n",
       "      <td>rwd</td>\n",
       "      <td>front</td>\n",
       "      <td>four</td>\n",
       "    </tr>\n",
       "    <tr>\n",
       "      <th>202</th>\n",
       "      <td>-1</td>\n",
       "      <td>volvo</td>\n",
       "      <td>gas</td>\n",
       "      <td>std</td>\n",
       "      <td>four</td>\n",
       "      <td>sedan</td>\n",
       "      <td>rwd</td>\n",
       "      <td>front</td>\n",
       "      <td>six</td>\n",
       "    </tr>\n",
       "    <tr>\n",
       "      <th>203</th>\n",
       "      <td>-1</td>\n",
       "      <td>volvo</td>\n",
       "      <td>diesel</td>\n",
       "      <td>turbo</td>\n",
       "      <td>four</td>\n",
       "      <td>sedan</td>\n",
       "      <td>rwd</td>\n",
       "      <td>front</td>\n",
       "      <td>six</td>\n",
       "    </tr>\n",
       "    <tr>\n",
       "      <th>204</th>\n",
       "      <td>-1</td>\n",
       "      <td>volvo</td>\n",
       "      <td>gas</td>\n",
       "      <td>turbo</td>\n",
       "      <td>four</td>\n",
       "      <td>sedan</td>\n",
       "      <td>rwd</td>\n",
       "      <td>front</td>\n",
       "      <td>four</td>\n",
       "    </tr>\n",
       "  </tbody>\n",
       "</table>\n",
       "<p>205 rows × 9 columns</p>\n",
       "</div>"
      ],
      "text/plain": [
       "     symboling      CarName fueltype aspiration doornumber      carbody  \\\n",
       "0            3  alfa-romero      gas        std        two  convertible   \n",
       "1            3  alfa-romero      gas        std        two  convertible   \n",
       "2            1  alfa-romero      gas        std        two    hatchback   \n",
       "3            2         audi      gas        std       four        sedan   \n",
       "4            2         audi      gas        std       four        sedan   \n",
       "..         ...          ...      ...        ...        ...          ...   \n",
       "200         -1        volvo      gas        std       four        sedan   \n",
       "201         -1        volvo      gas      turbo       four        sedan   \n",
       "202         -1        volvo      gas        std       four        sedan   \n",
       "203         -1        volvo   diesel      turbo       four        sedan   \n",
       "204         -1        volvo      gas      turbo       four        sedan   \n",
       "\n",
       "    drivewheel enginelocation cylindernumber  \n",
       "0          rwd          front           four  \n",
       "1          rwd          front           four  \n",
       "2          rwd          front            six  \n",
       "3          fwd          front           four  \n",
       "4          4wd          front           five  \n",
       "..         ...            ...            ...  \n",
       "200        rwd          front           four  \n",
       "201        rwd          front           four  \n",
       "202        rwd          front            six  \n",
       "203        rwd          front            six  \n",
       "204        rwd          front           four  \n",
       "\n",
       "[205 rows x 9 columns]"
      ]
     },
     "execution_count": 54,
     "metadata": {},
     "output_type": "execute_result"
    }
   ],
   "source": [
    "categorical_data"
   ]
  },
  {
   "cell_type": "markdown",
   "id": "9f172cd7",
   "metadata": {
    "papermill": {
     "duration": 0.034603,
     "end_time": "2022-12-13T10:49:32.606909",
     "exception": false,
     "start_time": "2022-12-13T10:49:32.572306",
     "status": "completed"
    },
    "tags": []
   },
   "source": [
    "<div style=\"color:black;\n",
    "           display:fill;\n",
    "           border-radius:5px;\n",
    "           background-color:yellow;\n",
    "           font-size:150%;\n",
    "           font-family:Verdana;\n",
    "           letter-spacing:0.5px\">\n",
    "\n",
    "<p >Data Visualization</p>\n",
    "\n",
    "</div>"
   ]
  },
  {
   "cell_type": "code",
   "execution_count": 55,
   "id": "b6a89322",
   "metadata": {
    "execution": {
     "iopub.execute_input": "2022-12-13T10:49:32.678895Z",
     "iopub.status.busy": "2022-12-13T10:49:32.678449Z",
     "iopub.status.idle": "2022-12-13T10:49:34.621577Z",
     "shell.execute_reply": "2022-12-13T10:49:34.620171Z"
    },
    "papermill": {
     "duration": 1.983292,
     "end_time": "2022-12-13T10:49:34.624903",
     "exception": false,
     "start_time": "2022-12-13T10:49:32.641611",
     "status": "completed"
    },
    "tags": []
   },
   "outputs": [
    {
     "data": {
      "image/png": "[encoded data removed]",
      "text/plain": [
       "<Figure size 1152x720 with 1 Axes>"
      ]
     },
     "metadata": {
      "needs_background": "light"
     },
     "output_type": "display_data"
    },
    {
     "data": {
      "image/png": "[encoded data removed]",
      "text/plain": [
       "<Figure size 1152x720 with 1 Axes>"
      ]
     },
     "metadata": {
      "needs_background": "light"
     },
     "output_type": "display_data"
    },
    {
     "data": {
      "image/png": "[encoded data removed]",
      "text/plain": [
       "<Figure size 1152x720 with 1 Axes>"
      ]
     },
     "metadata": {
      "needs_background": "light"
     },
     "output_type": "display_data"
    },
    {
     "data": {
      "image/png": "[encoded data removed]",
      "text/plain": [
       "<Figure size 1152x720 with 1 Axes>"
      ]
     },
     "metadata": {
      "needs_background": "light"
     },
     "output_type": "display_data"
    },
    {
     "data": {
      "image/png": "[encoded data removed]",
      "text/plain": [
       "<Figure size 1152x720 with 1 Axes>"
      ]
     },
     "metadata": {
      "needs_background": "light"
     },
     "output_type": "display_data"
    },
    {
     "data": {
      "image/png": "[encoded data removed]",
      "text/plain": [
       "<Figure size 1152x720 with 1 Axes>"
      ]
     },
     "metadata": {
      "needs_background": "light"
     },
     "output_type": "display_data"
    },
    {
     "data": {
      "image/png": "[encoded data removed]",
      "text/plain": [
       "<Figure size 1152x720 with 1 Axes>"
      ]
     },
     "metadata": {
      "needs_background": "light"
     },
     "output_type": "display_data"
    },
    {
     "data": {
      "image/png": "[encoded data removed]",
      "text/plain": [
       "<Figure size 1152x720 with 1 Axes>"
      ]
     },
     "metadata": {
      "needs_background": "light"
     },
     "output_type": "display_data"
    },
    {
     "data": {
      "image/png": "[encoded data removed]",
      "text/plain": [
       "<Figure size 1152x720 with 1 Axes>"
      ]
     },
     "metadata": {
      "needs_background": "light"
     },
     "output_type": "display_data"
    }
   ],
   "source": [
    "for column in categorical_data.columns:\n",
    "    plt.figure(figsize=(16,10))\n",
    "    sns.countplot(x=column,data=categorical_data)\n",
    "    plt.xticks(rotation=45)"
   ]
  },
  {
   "cell_type": "markdown",
   "id": "986c6ce5",
   "metadata": {
    "papermill": {
     "duration": 0.038192,
     "end_time": "2022-12-13T10:49:34.705230",
     "exception": false,
     "start_time": "2022-12-13T10:49:34.667038",
     "status": "completed"
    },
    "tags": []
   },
   "source": [
    "**Listing all the avg_price series.**"
   ]
  },
  {
   "cell_type": "code",
   "execution_count": 56,
   "id": "3f2c640c",
   "metadata": {
    "execution": {
     "iopub.execute_input": "2022-12-13T10:49:34.782181Z",
     "iopub.status.busy": "2022-12-13T10:49:34.781707Z",
     "iopub.status.idle": "2022-12-13T10:49:34.787619Z",
     "shell.execute_reply": "2022-12-13T10:49:34.786335Z"
    },
    "papermill": {
     "duration": 0.047305,
     "end_time": "2022-12-13T10:49:34.790184",
     "exception": false,
     "start_time": "2022-12-13T10:49:34.742879",
     "status": "completed"
    },
    "tags": []
   },
   "outputs": [],
   "source": [
    "avg_price_columns=list([avg_price_bycarName,avg_price_bysymboling,avg_price_byfueltype,avg_price_byasp,avg_rpice_bydrnum,avg_price_bycarbody,avg_price_bywd,avg_price_byengloc,avg_price_bycylnum])"
   ]
  },
  {
   "cell_type": "code",
   "execution_count": 57,
   "id": "e5895633",
   "metadata": {
    "execution": {
     "iopub.execute_input": "2022-12-13T10:49:34.867971Z",
     "iopub.status.busy": "2022-12-13T10:49:34.867557Z",
     "iopub.status.idle": "2022-12-13T10:49:34.880673Z",
     "shell.execute_reply": "2022-12-13T10:49:34.879593Z"
    },
    "papermill": {
     "duration": 0.05563,
     "end_time": "2022-12-13T10:49:34.883232",
     "exception": false,
     "start_time": "2022-12-13T10:49:34.827602",
     "status": "completed"
    },
    "tags": []
   },
   "outputs": [
    {
     "data": {
      "text/plain": [
       "[CarName\n",
       " chevrolet       6007.000000\n",
       " dodge           7875.444444\n",
       " plymouth        7963.428571\n",
       " honda           8184.692308\n",
       " subaru          8541.250000\n",
       " isuzu           8916.500000\n",
       " mitsubishi      9239.769231\n",
       " renault         9595.000000\n",
       " toyota          9885.812500\n",
       " volkswagen      9935.500000\n",
       " nissan         10415.666667\n",
       " mazda          10652.882353\n",
       " vw             10787.500000\n",
       " saab           15223.333333\n",
       " peugeot        15489.090909\n",
       " alfa-romero    15498.333333\n",
       " mercury        16503.000000\n",
       " audi           17859.166714\n",
       " volvo          18063.181818\n",
       " bmw            26118.750000\n",
       " porsche        31400.500000\n",
       " buick          33647.000000\n",
       " jaguar         34600.000000\n",
       " Name: price, dtype: float64,\n",
       " symboling\n",
       "  1    10037.907407\n",
       "  2    10109.281250\n",
       "  0    14366.965179\n",
       " -2    15781.666667\n",
       "  3    17221.296296\n",
       " -1    17330.681818\n",
       " Name: price, dtype: float64,\n",
       " fueltype\n",
       " diesel    15838.1500\n",
       " gas       12999.7982\n",
       " Name: price, dtype: float64,\n",
       " aspiration\n",
       " std      12611.270833\n",
       " turbo    16298.166676\n",
       " Name: price, dtype: float64,\n",
       " doornumber\n",
       " four    13501.152174\n",
       " two     12989.924078\n",
       " Name: price, dtype: float64,\n",
       " carbody\n",
       " convertible    21890.500000\n",
       " hardtop        22208.500000\n",
       " hatchback      10376.652386\n",
       " sedan          14344.270833\n",
       " wagon          12371.960000\n",
       " Name: price, dtype: float64,\n",
       " drivewheel\n",
       " 4wd    11087.463000\n",
       " fwd     9239.308333\n",
       " rwd    19910.809211\n",
       " Name: price, dtype: float64,\n",
       " enginelocation\n",
       " front    12961.097361\n",
       " rear     34528.000000\n",
       " Name: price, dtype: float64,\n",
       " cylindernumber\n",
       " eight     37400.100000\n",
       " five      21630.469727\n",
       " four      10285.754717\n",
       " six       23671.833333\n",
       " three      5151.000000\n",
       " twelve    36000.000000\n",
       " two       13020.000000\n",
       " Name: price, dtype: float64]"
      ]
     },
     "execution_count": 57,
     "metadata": {},
     "output_type": "execute_result"
    }
   ],
   "source": [
    "avg_price_columns"
   ]
  },
  {
   "cell_type": "markdown",
   "id": "f8da0a1c",
   "metadata": {
    "papermill": {
     "duration": 0.037312,
     "end_time": "2022-12-13T10:49:34.958772",
     "exception": false,
     "start_time": "2022-12-13T10:49:34.921460",
     "status": "completed"
    },
    "tags": []
   },
   "source": [
    "**Bar plot for Properties vs Average Price**"
   ]
  },
  {
   "cell_type": "code",
   "execution_count": 58,
   "id": "51055116",
   "metadata": {
    "execution": {
     "iopub.execute_input": "2022-12-13T10:49:35.037484Z",
     "iopub.status.busy": "2022-12-13T10:49:35.037084Z",
     "iopub.status.idle": "2022-12-13T10:49:36.941812Z",
     "shell.execute_reply": "2022-12-13T10:49:36.940289Z"
    },
    "papermill": {
     "duration": 1.947919,
     "end_time": "2022-12-13T10:49:36.944793",
     "exception": false,
     "start_time": "2022-12-13T10:49:34.996874",
     "status": "completed"
    },
    "tags": []
   },
   "outputs": [
    {
     "data": {
      "image/png": "[encoded data removed]",
      "text/plain": [
       "<Figure size 1152x720 with 1 Axes>"
      ]
     },
     "metadata": {
      "needs_background": "light"
     },
     "output_type": "display_data"
    },
    {
     "data": {
      "image/png": "[encoded data removed]",
      "text/plain": [
       "<Figure size 1152x720 with 1 Axes>"
      ]
     },
     "metadata": {
      "needs_background": "light"
     },
     "output_type": "display_data"
    },
    {
     "data": {
      "image/png": "[encoded data removed]",
      "text/plain": [
       "<Figure size 1152x720 with 1 Axes>"
      ]
     },
     "metadata": {
      "needs_background": "light"
     },
     "output_type": "display_data"
    },
    {
     "data": {
      "image/png": "[encoded data removed]",
      "text/plain": [
       "<Figure size 1152x720 with 1 Axes>"
      ]
     },
     "metadata": {
      "needs_background": "light"
     },
     "output_type": "display_data"
    },
    {
     "data": {
      "image/png": "[encoded data removed]",
      "text/plain": [
       "<Figure size 1152x720 with 1 Axes>"
      ]
     },
     "metadata": {
      "needs_background": "light"
     },
     "output_type": "display_data"
    },
    {
     "data": {
      "image/png": "[encoded data removed]",
      "text/plain": [
       "<Figure size 1152x720 with 1 Axes>"
      ]
     },
     "metadata": {
      "needs_background": "light"
     },
     "output_type": "display_data"
    },
    {
     "data": {
      "image/png": "[encoded data removed]",
      "text/plain": [
       "<Figure size 1152x720 with 1 Axes>"
      ]
     },
     "metadata": {
      "needs_background": "light"
     },
     "output_type": "display_data"
    },
    {
     "data": {
      "image/png": "[encoded data removed]",
      "text/plain": [
       "<Figure size 1152x720 with 1 Axes>"
      ]
     },
     "metadata": {
      "needs_background": "light"
     },
     "output_type": "display_data"
    },
    {
     "data": {
      "image/png": "[encoded data removed]",
      "text/plain": [
       "<Figure size 1152x720 with 1 Axes>"
      ]
     },
     "metadata": {
      "needs_background": "light"
     },
     "output_type": "display_data"
    }
   ],
   "source": [
    "for i in avg_price_columns:\n",
    "    plt.figure(figsize=(16,10))\n",
    "    sns.barplot(x=i.index,y=i)\n",
    "    plt.xticks(rotation=45)"
   ]
  },
  {
   "cell_type": "code",
   "execution_count": 59,
   "id": "6f8501c1",
   "metadata": {
    "execution": {
     "iopub.execute_input": "2022-12-13T10:49:37.028739Z",
     "iopub.status.busy": "2022-12-13T10:49:37.028327Z",
     "iopub.status.idle": "2022-12-13T10:49:37.035481Z",
     "shell.execute_reply": "2022-12-13T10:49:37.034561Z"
    },
    "papermill": {
     "duration": 0.051814,
     "end_time": "2022-12-13T10:49:37.037882",
     "exception": false,
     "start_time": "2022-12-13T10:49:36.986068",
     "status": "completed"
    },
    "tags": []
   },
   "outputs": [
    {
     "data": {
      "text/plain": [
       "Index(['car_ID', 'symboling', 'CarName', 'fueltype', 'aspiration',\n",
       "       'doornumber', 'carbody', 'drivewheel', 'enginelocation', 'wheelbase',\n",
       "       'carlength', 'carwidth', 'carheight', 'curbweight', 'enginetype',\n",
       "       'cylindernumber', 'enginesize', 'fuelsystem', 'boreratio', 'stroke',\n",
       "       'compressionratio', 'horsepower', 'peakrpm', 'citympg', 'highwaympg',\n",
       "       'price'],\n",
       "      dtype='object')"
      ]
     },
     "execution_count": 59,
     "metadata": {},
     "output_type": "execute_result"
    }
   ],
   "source": [
    "df.columns"
   ]
  },
  {
   "cell_type": "markdown",
   "id": "fd2e1b1c",
   "metadata": {
    "papermill": {
     "duration": 0.041238,
     "end_time": "2022-12-13T10:49:37.119943",
     "exception": false,
     "start_time": "2022-12-13T10:49:37.078705",
     "status": "completed"
    },
    "tags": []
   },
   "source": [
    "**Lets separate Continous data**"
   ]
  },
  {
   "cell_type": "code",
   "execution_count": 60,
   "id": "19a3d23b",
   "metadata": {
    "execution": {
     "iopub.execute_input": "2022-12-13T10:49:37.204638Z",
     "iopub.status.busy": "2022-12-13T10:49:37.204237Z",
     "iopub.status.idle": "2022-12-13T10:49:37.210295Z",
     "shell.execute_reply": "2022-12-13T10:49:37.209271Z"
    },
    "papermill": {
     "duration": 0.052053,
     "end_time": "2022-12-13T10:49:37.212612",
     "exception": false,
     "start_time": "2022-12-13T10:49:37.160559",
     "status": "completed"
    },
    "tags": []
   },
   "outputs": [],
   "source": [
    "continous_data=df[[\"wheelbase\",'carlength', 'carwidth', 'carheight', 'curbweight','enginesize','boreratio', 'stroke',\n",
    "       'compressionratio', 'horsepower', 'peakrpm', 'citympg', 'highwaympg']]"
   ]
  },
  {
   "cell_type": "markdown",
   "id": "3870dfbe",
   "metadata": {
    "papermill": {
     "duration": 0.06394,
     "end_time": "2022-12-13T10:49:37.320045",
     "exception": false,
     "start_time": "2022-12-13T10:49:37.256105",
     "status": "completed"
    },
    "tags": []
   },
   "source": [
    "**Scatter plot for continous data against Price**"
   ]
  },
  {
   "cell_type": "code",
   "execution_count": 61,
   "id": "771e0533",
   "metadata": {
    "execution": {
     "iopub.execute_input": "2022-12-13T10:49:37.413861Z",
     "iopub.status.busy": "2022-12-13T10:49:37.413361Z",
     "iopub.status.idle": "2022-12-13T10:49:40.570310Z",
     "shell.execute_reply": "2022-12-13T10:49:40.568961Z"
    },
    "papermill": {
     "duration": 3.203034,
     "end_time": "2022-12-13T10:49:40.573119",
     "exception": false,
     "start_time": "2022-12-13T10:49:37.370085",
     "status": "completed"
    },
    "tags": []
   },
   "outputs": [
    {
     "data": {
      "image/png": "[encoded data removed]",
      "text/plain": [
       "<Figure size 1296x720 with 1 Axes>"
      ]
     },
     "metadata": {
      "needs_background": "light"
     },
     "output_type": "display_data"
    },
    {
     "data": {
      "image/png": "[encoded data removed]",
      "text/plain": [
       "<Figure size 1296x720 with 1 Axes>"
      ]
     },
     "metadata": {
      "needs_background": "light"
     },
     "output_type": "display_data"
    },
    {
     "data": {
      "image/png": "[encoded data removed]",
      "text/plain": [
       "<Figure size 1296x720 with 1 Axes>"
      ]
     },
     "metadata": {
      "needs_background": "light"
     },
     "output_type": "display_data"
    },
    {
     "data": {
      "image/png": "[encoded data removed]",
      "text/plain": [
       "<Figure size 1296x720 with 1 Axes>"
      ]
     },
     "metadata": {
      "needs_background": "light"
     },
     "output_type": "display_data"
    },
    {
     "data": {
      "image/png": "[encoded data removed]",
      "text/plain": [
       "<Figure size 1296x720 with 1 Axes>"
      ]
     },
     "metadata": {
      "needs_background": "light"
     },
     "output_type": "display_data"
    },
    {
     "data": {
      "image/png": "[encoded data removed]",
      "text/plain": [
       "<Figure size 1296x720 with 1 Axes>"
      ]
     },
     "metadata": {
      "needs_background": "light"
     },
     "output_type": "display_data"
    },
    {
     "data": {
      "image/png": "[encoded data removed]",
      "text/plain": [
       "<Figure size 1296x720 with 1 Axes>"
      ]
     },
     "metadata": {
      "needs_background": "light"
     },
     "output_type": "display_data"
    },
    {
     "data": {
      "image/png": "[encoded data removed]",
      "text/plain": [
       "<Figure size 1296x720 with 1 Axes>"
      ]
     },
     "metadata": {
      "needs_background": "light"
     },
     "output_type": "display_data"
    },
    {
     "data": {
      "image/png": "[encoded data removed]",
      "text/plain": [
       "<Figure size 1296x720 with 1 Axes>"
      ]
     },
     "metadata": {
      "needs_background": "light"
     },
     "output_type": "display_data"
    },
    {
     "data": {
      "image/png": "[encoded data removed]",
      "text/plain": [
       "<Figure size 1296x720 with 1 Axes>"
      ]
     },
     "metadata": {
      "needs_background": "light"
     },
     "output_type": "display_data"
    },
    {
     "data": {
      "image/png": "[encoded data removed]",
      "text/plain": [
       "<Figure size 1296x720 with 1 Axes>"
      ]
     },
     "metadata": {
      "needs_background": "light"
     },
     "output_type": "display_data"
    },
    {
     "data": {
      "image/png": "[encoded data removed]",
      "text/plain": [
       "<Figure size 1296x720 with 1 Axes>"
      ]
     },
     "metadata": {
      "needs_background": "light"
     },
     "output_type": "display_data"
    },
    {
     "data": {
      "image/png": "[encoded data removed]",
      "text/plain": [
       "<Figure size 1296x720 with 1 Axes>"
      ]
     },
     "metadata": {
      "needs_background": "light"
     },
     "output_type": "display_data"
    }
   ],
   "source": [
    "for column in continous_data.columns:\n",
    "    plt.figure(figsize=(18,10))\n",
    "    plt.scatter(x=continous_data[column],y=df[\"price\"])\n",
    "    plt.xlabel(str(column),fontweight=\"bold\")\n",
    "    plt.ylabel(\"price\",fontweight=\"bold\")\n",
    "  \n"
   ]
  },
  {
   "cell_type": "markdown",
   "id": "48562134",
   "metadata": {
    "papermill": {
     "duration": 0.051126,
     "end_time": "2022-12-13T10:49:40.671643",
     "exception": false,
     "start_time": "2022-12-13T10:49:40.620517",
     "status": "completed"
    },
    "tags": []
   },
   "source": [
    "* **From the above Scatter plots properties like peakrpm,compressionratio,stroke are less correlated with Price. Hence we can drop them.**"
   ]
  },
  {
   "cell_type": "code",
   "execution_count": 62,
   "id": "12a8365e",
   "metadata": {
    "execution": {
     "iopub.execute_input": "2022-12-13T10:49:40.777551Z",
     "iopub.status.busy": "2022-12-13T10:49:40.777160Z",
     "iopub.status.idle": "2022-12-13T10:49:40.785027Z",
     "shell.execute_reply": "2022-12-13T10:49:40.783733Z"
    },
    "papermill": {
     "duration": 0.061593,
     "end_time": "2022-12-13T10:49:40.787575",
     "exception": false,
     "start_time": "2022-12-13T10:49:40.725982",
     "status": "completed"
    },
    "tags": []
   },
   "outputs": [
    {
     "data": {
      "text/plain": [
       "Index(['car_ID', 'symboling', 'CarName', 'fueltype', 'aspiration',\n",
       "       'doornumber', 'carbody', 'drivewheel', 'enginelocation', 'wheelbase',\n",
       "       'carlength', 'carwidth', 'carheight', 'curbweight', 'enginetype',\n",
       "       'cylindernumber', 'enginesize', 'fuelsystem', 'boreratio', 'stroke',\n",
       "       'compressionratio', 'horsepower', 'peakrpm', 'citympg', 'highwaympg',\n",
       "       'price'],\n",
       "      dtype='object')"
      ]
     },
     "execution_count": 62,
     "metadata": {},
     "output_type": "execute_result"
    }
   ],
   "source": [
    "df.columns"
   ]
  },
  {
   "cell_type": "code",
   "execution_count": 63,
   "id": "f226b7b0",
   "metadata": {
    "execution": {
     "iopub.execute_input": "2022-12-13T10:49:40.891634Z",
     "iopub.status.busy": "2022-12-13T10:49:40.891219Z",
     "iopub.status.idle": "2022-12-13T10:49:40.921328Z",
     "shell.execute_reply": "2022-12-13T10:49:40.920120Z"
    },
    "papermill": {
     "duration": 0.085907,
     "end_time": "2022-12-13T10:49:40.924122",
     "exception": false,
     "start_time": "2022-12-13T10:49:40.838215",
     "status": "completed"
    },
    "tags": []
   },
   "outputs": [
    {
     "data": {
      "text/html": [
       "<div>\n",
       "<style scoped>\n",
       "    .dataframe tbody tr th:only-of-type {\n",
       "        vertical-align: middle;\n",
       "    }\n",
       "\n",
       "    .dataframe tbody tr th {\n",
       "        vertical-align: top;\n",
       "    }\n",
       "\n",
       "    .dataframe thead th {\n",
       "        text-align: right;\n",
       "    }\n",
       "</style>\n",
       "<table border=\"1\" class=\"dataframe\">\n",
       "  <thead>\n",
       "    <tr style=\"text-align: right;\">\n",
       "      <th></th>\n",
       "      <th>car_ID</th>\n",
       "      <th>symboling</th>\n",
       "      <th>wheelbase</th>\n",
       "      <th>carlength</th>\n",
       "      <th>carwidth</th>\n",
       "      <th>carheight</th>\n",
       "      <th>curbweight</th>\n",
       "      <th>enginesize</th>\n",
       "      <th>boreratio</th>\n",
       "      <th>stroke</th>\n",
       "      <th>compressionratio</th>\n",
       "      <th>horsepower</th>\n",
       "      <th>peakrpm</th>\n",
       "      <th>citympg</th>\n",
       "      <th>highwaympg</th>\n",
       "      <th>price</th>\n",
       "    </tr>\n",
       "  </thead>\n",
       "  <tbody>\n",
       "    <tr>\n",
       "      <th>car_ID</th>\n",
       "      <td>1.000000</td>\n",
       "      <td>-0.151621</td>\n",
       "      <td>0.129729</td>\n",
       "      <td>0.170636</td>\n",
       "      <td>0.052387</td>\n",
       "      <td>0.255960</td>\n",
       "      <td>0.071962</td>\n",
       "      <td>-0.033930</td>\n",
       "      <td>0.260064</td>\n",
       "      <td>-0.160824</td>\n",
       "      <td>0.150276</td>\n",
       "      <td>-0.015006</td>\n",
       "      <td>-0.203789</td>\n",
       "      <td>0.015940</td>\n",
       "      <td>0.011255</td>\n",
       "      <td>-0.109093</td>\n",
       "    </tr>\n",
       "    <tr>\n",
       "      <th>symboling</th>\n",
       "      <td>-0.151621</td>\n",
       "      <td>1.000000</td>\n",
       "      <td>-0.531954</td>\n",
       "      <td>-0.357612</td>\n",
       "      <td>-0.232919</td>\n",
       "      <td>-0.541038</td>\n",
       "      <td>-0.227691</td>\n",
       "      <td>-0.105790</td>\n",
       "      <td>-0.130051</td>\n",
       "      <td>-0.008735</td>\n",
       "      <td>-0.178515</td>\n",
       "      <td>0.070873</td>\n",
       "      <td>0.273606</td>\n",
       "      <td>-0.035823</td>\n",
       "      <td>0.034606</td>\n",
       "      <td>-0.079978</td>\n",
       "    </tr>\n",
       "    <tr>\n",
       "      <th>wheelbase</th>\n",
       "      <td>0.129729</td>\n",
       "      <td>-0.531954</td>\n",
       "      <td>1.000000</td>\n",
       "      <td>0.874587</td>\n",
       "      <td>0.795144</td>\n",
       "      <td>0.589435</td>\n",
       "      <td>0.776386</td>\n",
       "      <td>0.569329</td>\n",
       "      <td>0.488750</td>\n",
       "      <td>0.160959</td>\n",
       "      <td>0.249786</td>\n",
       "      <td>0.353294</td>\n",
       "      <td>-0.360469</td>\n",
       "      <td>-0.470414</td>\n",
       "      <td>-0.544082</td>\n",
       "      <td>0.577816</td>\n",
       "    </tr>\n",
       "    <tr>\n",
       "      <th>carlength</th>\n",
       "      <td>0.170636</td>\n",
       "      <td>-0.357612</td>\n",
       "      <td>0.874587</td>\n",
       "      <td>1.000000</td>\n",
       "      <td>0.841118</td>\n",
       "      <td>0.491029</td>\n",
       "      <td>0.877728</td>\n",
       "      <td>0.683360</td>\n",
       "      <td>0.606454</td>\n",
       "      <td>0.129533</td>\n",
       "      <td>0.158414</td>\n",
       "      <td>0.552623</td>\n",
       "      <td>-0.287242</td>\n",
       "      <td>-0.670909</td>\n",
       "      <td>-0.704662</td>\n",
       "      <td>0.682920</td>\n",
       "    </tr>\n",
       "    <tr>\n",
       "      <th>carwidth</th>\n",
       "      <td>0.052387</td>\n",
       "      <td>-0.232919</td>\n",
       "      <td>0.795144</td>\n",
       "      <td>0.841118</td>\n",
       "      <td>1.000000</td>\n",
       "      <td>0.279210</td>\n",
       "      <td>0.867032</td>\n",
       "      <td>0.735433</td>\n",
       "      <td>0.559150</td>\n",
       "      <td>0.182942</td>\n",
       "      <td>0.181129</td>\n",
       "      <td>0.640732</td>\n",
       "      <td>-0.220012</td>\n",
       "      <td>-0.642704</td>\n",
       "      <td>-0.677218</td>\n",
       "      <td>0.759325</td>\n",
       "    </tr>\n",
       "    <tr>\n",
       "      <th>carheight</th>\n",
       "      <td>0.255960</td>\n",
       "      <td>-0.541038</td>\n",
       "      <td>0.589435</td>\n",
       "      <td>0.491029</td>\n",
       "      <td>0.279210</td>\n",
       "      <td>1.000000</td>\n",
       "      <td>0.295572</td>\n",
       "      <td>0.067149</td>\n",
       "      <td>0.171071</td>\n",
       "      <td>-0.055307</td>\n",
       "      <td>0.261214</td>\n",
       "      <td>-0.108802</td>\n",
       "      <td>-0.320411</td>\n",
       "      <td>-0.048640</td>\n",
       "      <td>-0.107358</td>\n",
       "      <td>0.119336</td>\n",
       "    </tr>\n",
       "    <tr>\n",
       "      <th>curbweight</th>\n",
       "      <td>0.071962</td>\n",
       "      <td>-0.227691</td>\n",
       "      <td>0.776386</td>\n",
       "      <td>0.877728</td>\n",
       "      <td>0.867032</td>\n",
       "      <td>0.295572</td>\n",
       "      <td>1.000000</td>\n",
       "      <td>0.850594</td>\n",
       "      <td>0.648480</td>\n",
       "      <td>0.168790</td>\n",
       "      <td>0.151362</td>\n",
       "      <td>0.750739</td>\n",
       "      <td>-0.266243</td>\n",
       "      <td>-0.757414</td>\n",
       "      <td>-0.797465</td>\n",
       "      <td>0.835305</td>\n",
       "    </tr>\n",
       "    <tr>\n",
       "      <th>enginesize</th>\n",
       "      <td>-0.033930</td>\n",
       "      <td>-0.105790</td>\n",
       "      <td>0.569329</td>\n",
       "      <td>0.683360</td>\n",
       "      <td>0.735433</td>\n",
       "      <td>0.067149</td>\n",
       "      <td>0.850594</td>\n",
       "      <td>1.000000</td>\n",
       "      <td>0.583774</td>\n",
       "      <td>0.203129</td>\n",
       "      <td>0.028971</td>\n",
       "      <td>0.809769</td>\n",
       "      <td>-0.244660</td>\n",
       "      <td>-0.653658</td>\n",
       "      <td>-0.677470</td>\n",
       "      <td>0.874145</td>\n",
       "    </tr>\n",
       "    <tr>\n",
       "      <th>boreratio</th>\n",
       "      <td>0.260064</td>\n",
       "      <td>-0.130051</td>\n",
       "      <td>0.488750</td>\n",
       "      <td>0.606454</td>\n",
       "      <td>0.559150</td>\n",
       "      <td>0.171071</td>\n",
       "      <td>0.648480</td>\n",
       "      <td>0.583774</td>\n",
       "      <td>1.000000</td>\n",
       "      <td>-0.055909</td>\n",
       "      <td>0.005197</td>\n",
       "      <td>0.573677</td>\n",
       "      <td>-0.254976</td>\n",
       "      <td>-0.584532</td>\n",
       "      <td>-0.587012</td>\n",
       "      <td>0.553173</td>\n",
       "    </tr>\n",
       "    <tr>\n",
       "      <th>stroke</th>\n",
       "      <td>-0.160824</td>\n",
       "      <td>-0.008735</td>\n",
       "      <td>0.160959</td>\n",
       "      <td>0.129533</td>\n",
       "      <td>0.182942</td>\n",
       "      <td>-0.055307</td>\n",
       "      <td>0.168790</td>\n",
       "      <td>0.203129</td>\n",
       "      <td>-0.055909</td>\n",
       "      <td>1.000000</td>\n",
       "      <td>0.186110</td>\n",
       "      <td>0.080940</td>\n",
       "      <td>-0.067964</td>\n",
       "      <td>-0.042145</td>\n",
       "      <td>-0.043931</td>\n",
       "      <td>0.079443</td>\n",
       "    </tr>\n",
       "    <tr>\n",
       "      <th>compressionratio</th>\n",
       "      <td>0.150276</td>\n",
       "      <td>-0.178515</td>\n",
       "      <td>0.249786</td>\n",
       "      <td>0.158414</td>\n",
       "      <td>0.181129</td>\n",
       "      <td>0.261214</td>\n",
       "      <td>0.151362</td>\n",
       "      <td>0.028971</td>\n",
       "      <td>0.005197</td>\n",
       "      <td>0.186110</td>\n",
       "      <td>1.000000</td>\n",
       "      <td>-0.204326</td>\n",
       "      <td>-0.435741</td>\n",
       "      <td>0.324701</td>\n",
       "      <td>0.265201</td>\n",
       "      <td>0.067984</td>\n",
       "    </tr>\n",
       "    <tr>\n",
       "      <th>horsepower</th>\n",
       "      <td>-0.015006</td>\n",
       "      <td>0.070873</td>\n",
       "      <td>0.353294</td>\n",
       "      <td>0.552623</td>\n",
       "      <td>0.640732</td>\n",
       "      <td>-0.108802</td>\n",
       "      <td>0.750739</td>\n",
       "      <td>0.809769</td>\n",
       "      <td>0.573677</td>\n",
       "      <td>0.080940</td>\n",
       "      <td>-0.204326</td>\n",
       "      <td>1.000000</td>\n",
       "      <td>0.131073</td>\n",
       "      <td>-0.801456</td>\n",
       "      <td>-0.770544</td>\n",
       "      <td>0.808139</td>\n",
       "    </tr>\n",
       "    <tr>\n",
       "      <th>peakrpm</th>\n",
       "      <td>-0.203789</td>\n",
       "      <td>0.273606</td>\n",
       "      <td>-0.360469</td>\n",
       "      <td>-0.287242</td>\n",
       "      <td>-0.220012</td>\n",
       "      <td>-0.320411</td>\n",
       "      <td>-0.266243</td>\n",
       "      <td>-0.244660</td>\n",
       "      <td>-0.254976</td>\n",
       "      <td>-0.067964</td>\n",
       "      <td>-0.435741</td>\n",
       "      <td>0.131073</td>\n",
       "      <td>1.000000</td>\n",
       "      <td>-0.113544</td>\n",
       "      <td>-0.054275</td>\n",
       "      <td>-0.085267</td>\n",
       "    </tr>\n",
       "    <tr>\n",
       "      <th>citympg</th>\n",
       "      <td>0.015940</td>\n",
       "      <td>-0.035823</td>\n",
       "      <td>-0.470414</td>\n",
       "      <td>-0.670909</td>\n",
       "      <td>-0.642704</td>\n",
       "      <td>-0.048640</td>\n",
       "      <td>-0.757414</td>\n",
       "      <td>-0.653658</td>\n",
       "      <td>-0.584532</td>\n",
       "      <td>-0.042145</td>\n",
       "      <td>0.324701</td>\n",
       "      <td>-0.801456</td>\n",
       "      <td>-0.113544</td>\n",
       "      <td>1.000000</td>\n",
       "      <td>0.971337</td>\n",
       "      <td>-0.685751</td>\n",
       "    </tr>\n",
       "    <tr>\n",
       "      <th>highwaympg</th>\n",
       "      <td>0.011255</td>\n",
       "      <td>0.034606</td>\n",
       "      <td>-0.544082</td>\n",
       "      <td>-0.704662</td>\n",
       "      <td>-0.677218</td>\n",
       "      <td>-0.107358</td>\n",
       "      <td>-0.797465</td>\n",
       "      <td>-0.677470</td>\n",
       "      <td>-0.587012</td>\n",
       "      <td>-0.043931</td>\n",
       "      <td>0.265201</td>\n",
       "      <td>-0.770544</td>\n",
       "      <td>-0.054275</td>\n",
       "      <td>0.971337</td>\n",
       "      <td>1.000000</td>\n",
       "      <td>-0.697599</td>\n",
       "    </tr>\n",
       "    <tr>\n",
       "      <th>price</th>\n",
       "      <td>-0.109093</td>\n",
       "      <td>-0.079978</td>\n",
       "      <td>0.577816</td>\n",
       "      <td>0.682920</td>\n",
       "      <td>0.759325</td>\n",
       "      <td>0.119336</td>\n",
       "      <td>0.835305</td>\n",
       "      <td>0.874145</td>\n",
       "      <td>0.553173</td>\n",
       "      <td>0.079443</td>\n",
       "      <td>0.067984</td>\n",
       "      <td>0.808139</td>\n",
       "      <td>-0.085267</td>\n",
       "      <td>-0.685751</td>\n",
       "      <td>-0.697599</td>\n",
       "      <td>1.000000</td>\n",
       "    </tr>\n",
       "  </tbody>\n",
       "</table>\n",
       "</div>"
      ],
      "text/plain": [
       "                    car_ID  symboling  wheelbase  carlength  carwidth  \\\n",
       "car_ID            1.000000  -0.151621   0.129729   0.170636  0.052387   \n",
       "symboling        -0.151621   1.000000  -0.531954  -0.357612 -0.232919   \n",
       "wheelbase         0.129729  -0.531954   1.000000   0.874587  0.795144   \n",
       "carlength         0.170636  -0.357612   0.874587   1.000000  0.841118   \n",
       "carwidth          0.052387  -0.232919   0.795144   0.841118  1.000000   \n",
       "carheight         0.255960  -0.541038   0.589435   0.491029  0.279210   \n",
       "curbweight        0.071962  -0.227691   0.776386   0.877728  0.867032   \n",
       "enginesize       -0.033930  -0.105790   0.569329   0.683360  0.735433   \n",
       "boreratio         0.260064  -0.130051   0.488750   0.606454  0.559150   \n",
       "stroke           -0.160824  -0.008735   0.160959   0.129533  0.182942   \n",
       "compressionratio  0.150276  -0.178515   0.249786   0.158414  0.181129   \n",
       "horsepower       -0.015006   0.070873   0.353294   0.552623  0.640732   \n",
       "peakrpm          -0.203789   0.273606  -0.360469  -0.287242 -0.220012   \n",
       "citympg           0.015940  -0.035823  -0.470414  -0.670909 -0.642704   \n",
       "highwaympg        0.011255   0.034606  -0.544082  -0.704662 -0.677218   \n",
       "price            -0.109093  -0.079978   0.577816   0.682920  0.759325   \n",
       "\n",
       "                  carheight  curbweight  enginesize  boreratio    stroke  \\\n",
       "car_ID             0.255960    0.071962   -0.033930   0.260064 -0.160824   \n",
       "symboling         -0.541038   -0.227691   -0.105790  -0.130051 -0.008735   \n",
       "wheelbase          0.589435    0.776386    0.569329   0.488750  0.160959   \n",
       "carlength          0.491029    0.877728    0.683360   0.606454  0.129533   \n",
       "carwidth           0.279210    0.867032    0.735433   0.559150  0.182942   \n",
       "carheight          1.000000    0.295572    0.067149   0.171071 -0.055307   \n",
       "curbweight         0.295572    1.000000    0.850594   0.648480  0.168790   \n",
       "enginesize         0.067149    0.850594    1.000000   0.583774  0.203129   \n",
       "boreratio          0.171071    0.648480    0.583774   1.000000 -0.055909   \n",
       "stroke            -0.055307    0.168790    0.203129  -0.055909  1.000000   \n",
       "compressionratio   0.261214    0.151362    0.028971   0.005197  0.186110   \n",
       "horsepower        -0.108802    0.750739    0.809769   0.573677  0.080940   \n",
       "peakrpm           -0.320411   -0.266243   -0.244660  -0.254976 -0.067964   \n",
       "citympg           -0.048640   -0.757414   -0.653658  -0.584532 -0.042145   \n",
       "highwaympg        -0.107358   -0.797465   -0.677470  -0.587012 -0.043931   \n",
       "price              0.119336    0.835305    0.874145   0.553173  0.079443   \n",
       "\n",
       "                  compressionratio  horsepower   peakrpm   citympg  \\\n",
       "car_ID                    0.150276   -0.015006 -0.203789  0.015940   \n",
       "symboling                -0.178515    0.070873  0.273606 -0.035823   \n",
       "wheelbase                 0.249786    0.353294 -0.360469 -0.470414   \n",
       "carlength                 0.158414    0.552623 -0.287242 -0.670909   \n",
       "carwidth                  0.181129    0.640732 -0.220012 -0.642704   \n",
       "carheight                 0.261214   -0.108802 -0.320411 -0.048640   \n",
       "curbweight                0.151362    0.750739 -0.266243 -0.757414   \n",
       "enginesize                0.028971    0.809769 -0.244660 -0.653658   \n",
       "boreratio                 0.005197    0.573677 -0.254976 -0.584532   \n",
       "stroke                    0.186110    0.080940 -0.067964 -0.042145   \n",
       "compressionratio          1.000000   -0.204326 -0.435741  0.324701   \n",
       "horsepower               -0.204326    1.000000  0.131073 -0.801456   \n",
       "peakrpm                  -0.435741    0.131073  1.000000 -0.113544   \n",
       "citympg                   0.324701   -0.801456 -0.113544  1.000000   \n",
       "highwaympg                0.265201   -0.770544 -0.054275  0.971337   \n",
       "price                     0.067984    0.808139 -0.085267 -0.685751   \n",
       "\n",
       "                  highwaympg     price  \n",
       "car_ID              0.011255 -0.109093  \n",
       "symboling           0.034606 -0.079978  \n",
       "wheelbase          -0.544082  0.577816  \n",
       "carlength          -0.704662  0.682920  \n",
       "carwidth           -0.677218  0.759325  \n",
       "carheight          -0.107358  0.119336  \n",
       "curbweight         -0.797465  0.835305  \n",
       "enginesize         -0.677470  0.874145  \n",
       "boreratio          -0.587012  0.553173  \n",
       "stroke             -0.043931  0.079443  \n",
       "compressionratio    0.265201  0.067984  \n",
       "horsepower         -0.770544  0.808139  \n",
       "peakrpm            -0.054275 -0.085267  \n",
       "citympg             0.971337 -0.685751  \n",
       "highwaympg          1.000000 -0.697599  \n",
       "price              -0.697599  1.000000  "
      ]
     },
     "execution_count": 63,
     "metadata": {},
     "output_type": "execute_result"
    }
   ],
   "source": [
    "df.corr()"
   ]
  },
  {
   "cell_type": "code",
   "execution_count": 64,
   "id": "03b02d9f",
   "metadata": {
    "execution": {
     "iopub.execute_input": "2022-12-13T10:49:41.024826Z",
     "iopub.status.busy": "2022-12-13T10:49:41.024409Z",
     "iopub.status.idle": "2022-12-13T10:49:41.031637Z",
     "shell.execute_reply": "2022-12-13T10:49:41.030278Z"
    },
    "papermill": {
     "duration": 0.060634,
     "end_time": "2022-12-13T10:49:41.034355",
     "exception": false,
     "start_time": "2022-12-13T10:49:40.973721",
     "status": "completed"
    },
    "tags": []
   },
   "outputs": [],
   "source": [
    "df=df.drop([\"car_ID\",\"CarName\",\"symboling\",\"fuelsystem\",\"stroke\",\"compressionratio\",\"peakrpm\"],axis=1)"
   ]
  },
  {
   "cell_type": "code",
   "execution_count": 65,
   "id": "251b23a5",
   "metadata": {
    "execution": {
     "iopub.execute_input": "2022-12-13T10:49:41.137253Z",
     "iopub.status.busy": "2022-12-13T10:49:41.136846Z",
     "iopub.status.idle": "2022-12-13T10:49:41.170724Z",
     "shell.execute_reply": "2022-12-13T10:49:41.169376Z"
    },
    "papermill": {
     "duration": 0.088088,
     "end_time": "2022-12-13T10:49:41.174309",
     "exception": false,
     "start_time": "2022-12-13T10:49:41.086221",
     "status": "completed"
    },
    "tags": []
   },
   "outputs": [
    {
     "data": {
      "text/html": [
       "<div>\n",
       "<style scoped>\n",
       "    .dataframe tbody tr th:only-of-type {\n",
       "        vertical-align: middle;\n",
       "    }\n",
       "\n",
       "    .dataframe tbody tr th {\n",
       "        vertical-align: top;\n",
       "    }\n",
       "\n",
       "    .dataframe thead th {\n",
       "        text-align: right;\n",
       "    }\n",
       "</style>\n",
       "<table border=\"1\" class=\"dataframe\">\n",
       "  <thead>\n",
       "    <tr style=\"text-align: right;\">\n",
       "      <th></th>\n",
       "      <th>fueltype</th>\n",
       "      <th>aspiration</th>\n",
       "      <th>doornumber</th>\n",
       "      <th>carbody</th>\n",
       "      <th>drivewheel</th>\n",
       "      <th>enginelocation</th>\n",
       "      <th>wheelbase</th>\n",
       "      <th>carlength</th>\n",
       "      <th>carwidth</th>\n",
       "      <th>carheight</th>\n",
       "      <th>curbweight</th>\n",
       "      <th>enginetype</th>\n",
       "      <th>cylindernumber</th>\n",
       "      <th>enginesize</th>\n",
       "      <th>boreratio</th>\n",
       "      <th>horsepower</th>\n",
       "      <th>citympg</th>\n",
       "      <th>highwaympg</th>\n",
       "      <th>price</th>\n",
       "    </tr>\n",
       "  </thead>\n",
       "  <tbody>\n",
       "    <tr>\n",
       "      <th>0</th>\n",
       "      <td>gas</td>\n",
       "      <td>std</td>\n",
       "      <td>two</td>\n",
       "      <td>convertible</td>\n",
       "      <td>rwd</td>\n",
       "      <td>front</td>\n",
       "      <td>88.6</td>\n",
       "      <td>168.8</td>\n",
       "      <td>64.1</td>\n",
       "      <td>48.8</td>\n",
       "      <td>2548</td>\n",
       "      <td>dohc</td>\n",
       "      <td>four</td>\n",
       "      <td>130</td>\n",
       "      <td>3.47</td>\n",
       "      <td>111</td>\n",
       "      <td>21</td>\n",
       "      <td>27</td>\n",
       "      <td>13495.0</td>\n",
       "    </tr>\n",
       "    <tr>\n",
       "      <th>1</th>\n",
       "      <td>gas</td>\n",
       "      <td>std</td>\n",
       "      <td>two</td>\n",
       "      <td>convertible</td>\n",
       "      <td>rwd</td>\n",
       "      <td>front</td>\n",
       "      <td>88.6</td>\n",
       "      <td>168.8</td>\n",
       "      <td>64.1</td>\n",
       "      <td>48.8</td>\n",
       "      <td>2548</td>\n",
       "      <td>dohc</td>\n",
       "      <td>four</td>\n",
       "      <td>130</td>\n",
       "      <td>3.47</td>\n",
       "      <td>111</td>\n",
       "      <td>21</td>\n",
       "      <td>27</td>\n",
       "      <td>16500.0</td>\n",
       "    </tr>\n",
       "    <tr>\n",
       "      <th>2</th>\n",
       "      <td>gas</td>\n",
       "      <td>std</td>\n",
       "      <td>two</td>\n",
       "      <td>hatchback</td>\n",
       "      <td>rwd</td>\n",
       "      <td>front</td>\n",
       "      <td>94.5</td>\n",
       "      <td>171.2</td>\n",
       "      <td>65.5</td>\n",
       "      <td>52.4</td>\n",
       "      <td>2823</td>\n",
       "      <td>ohcv</td>\n",
       "      <td>six</td>\n",
       "      <td>152</td>\n",
       "      <td>2.68</td>\n",
       "      <td>154</td>\n",
       "      <td>19</td>\n",
       "      <td>26</td>\n",
       "      <td>16500.0</td>\n",
       "    </tr>\n",
       "    <tr>\n",
       "      <th>3</th>\n",
       "      <td>gas</td>\n",
       "      <td>std</td>\n",
       "      <td>four</td>\n",
       "      <td>sedan</td>\n",
       "      <td>fwd</td>\n",
       "      <td>front</td>\n",
       "      <td>99.8</td>\n",
       "      <td>176.6</td>\n",
       "      <td>66.2</td>\n",
       "      <td>54.3</td>\n",
       "      <td>2337</td>\n",
       "      <td>ohc</td>\n",
       "      <td>four</td>\n",
       "      <td>109</td>\n",
       "      <td>3.19</td>\n",
       "      <td>102</td>\n",
       "      <td>24</td>\n",
       "      <td>30</td>\n",
       "      <td>13950.0</td>\n",
       "    </tr>\n",
       "    <tr>\n",
       "      <th>4</th>\n",
       "      <td>gas</td>\n",
       "      <td>std</td>\n",
       "      <td>four</td>\n",
       "      <td>sedan</td>\n",
       "      <td>4wd</td>\n",
       "      <td>front</td>\n",
       "      <td>99.4</td>\n",
       "      <td>176.6</td>\n",
       "      <td>66.4</td>\n",
       "      <td>54.3</td>\n",
       "      <td>2824</td>\n",
       "      <td>ohc</td>\n",
       "      <td>five</td>\n",
       "      <td>136</td>\n",
       "      <td>3.19</td>\n",
       "      <td>115</td>\n",
       "      <td>18</td>\n",
       "      <td>22</td>\n",
       "      <td>17450.0</td>\n",
       "    </tr>\n",
       "    <tr>\n",
       "      <th>...</th>\n",
       "      <td>...</td>\n",
       "      <td>...</td>\n",
       "      <td>...</td>\n",
       "      <td>...</td>\n",
       "      <td>...</td>\n",
       "      <td>...</td>\n",
       "      <td>...</td>\n",
       "      <td>...</td>\n",
       "      <td>...</td>\n",
       "      <td>...</td>\n",
       "      <td>...</td>\n",
       "      <td>...</td>\n",
       "      <td>...</td>\n",
       "      <td>...</td>\n",
       "      <td>...</td>\n",
       "      <td>...</td>\n",
       "      <td>...</td>\n",
       "      <td>...</td>\n",
       "      <td>...</td>\n",
       "    </tr>\n",
       "    <tr>\n",
       "      <th>200</th>\n",
       "      <td>gas</td>\n",
       "      <td>std</td>\n",
       "      <td>four</td>\n",
       "      <td>sedan</td>\n",
       "      <td>rwd</td>\n",
       "      <td>front</td>\n",
       "      <td>109.1</td>\n",
       "      <td>188.8</td>\n",
       "      <td>68.9</td>\n",
       "      <td>55.5</td>\n",
       "      <td>2952</td>\n",
       "      <td>ohc</td>\n",
       "      <td>four</td>\n",
       "      <td>141</td>\n",
       "      <td>3.78</td>\n",
       "      <td>114</td>\n",
       "      <td>23</td>\n",
       "      <td>28</td>\n",
       "      <td>16845.0</td>\n",
       "    </tr>\n",
       "    <tr>\n",
       "      <th>201</th>\n",
       "      <td>gas</td>\n",
       "      <td>turbo</td>\n",
       "      <td>four</td>\n",
       "      <td>sedan</td>\n",
       "      <td>rwd</td>\n",
       "      <td>front</td>\n",
       "      <td>109.1</td>\n",
       "      <td>188.8</td>\n",
       "      <td>68.8</td>\n",
       "      <td>55.5</td>\n",
       "      <td>3049</td>\n",
       "      <td>ohc</td>\n",
       "      <td>four</td>\n",
       "      <td>141</td>\n",
       "      <td>3.78</td>\n",
       "      <td>160</td>\n",
       "      <td>19</td>\n",
       "      <td>25</td>\n",
       "      <td>19045.0</td>\n",
       "    </tr>\n",
       "    <tr>\n",
       "      <th>202</th>\n",
       "      <td>gas</td>\n",
       "      <td>std</td>\n",
       "      <td>four</td>\n",
       "      <td>sedan</td>\n",
       "      <td>rwd</td>\n",
       "      <td>front</td>\n",
       "      <td>109.1</td>\n",
       "      <td>188.8</td>\n",
       "      <td>68.9</td>\n",
       "      <td>55.5</td>\n",
       "      <td>3012</td>\n",
       "      <td>ohcv</td>\n",
       "      <td>six</td>\n",
       "      <td>173</td>\n",
       "      <td>3.58</td>\n",
       "      <td>134</td>\n",
       "      <td>18</td>\n",
       "      <td>23</td>\n",
       "      <td>21485.0</td>\n",
       "    </tr>\n",
       "    <tr>\n",
       "      <th>203</th>\n",
       "      <td>diesel</td>\n",
       "      <td>turbo</td>\n",
       "      <td>four</td>\n",
       "      <td>sedan</td>\n",
       "      <td>rwd</td>\n",
       "      <td>front</td>\n",
       "      <td>109.1</td>\n",
       "      <td>188.8</td>\n",
       "      <td>68.9</td>\n",
       "      <td>55.5</td>\n",
       "      <td>3217</td>\n",
       "      <td>ohc</td>\n",
       "      <td>six</td>\n",
       "      <td>145</td>\n",
       "      <td>3.01</td>\n",
       "      <td>106</td>\n",
       "      <td>26</td>\n",
       "      <td>27</td>\n",
       "      <td>22470.0</td>\n",
       "    </tr>\n",
       "    <tr>\n",
       "      <th>204</th>\n",
       "      <td>gas</td>\n",
       "      <td>turbo</td>\n",
       "      <td>four</td>\n",
       "      <td>sedan</td>\n",
       "      <td>rwd</td>\n",
       "      <td>front</td>\n",
       "      <td>109.1</td>\n",
       "      <td>188.8</td>\n",
       "      <td>68.9</td>\n",
       "      <td>55.5</td>\n",
       "      <td>3062</td>\n",
       "      <td>ohc</td>\n",
       "      <td>four</td>\n",
       "      <td>141</td>\n",
       "      <td>3.78</td>\n",
       "      <td>114</td>\n",
       "      <td>19</td>\n",
       "      <td>25</td>\n",
       "      <td>22625.0</td>\n",
       "    </tr>\n",
       "  </tbody>\n",
       "</table>\n",
       "<p>205 rows × 19 columns</p>\n",
       "</div>"
      ],
      "text/plain": [
       "    fueltype aspiration doornumber      carbody drivewheel enginelocation  \\\n",
       "0        gas        std        two  convertible        rwd          front   \n",
       "1        gas        std        two  convertible        rwd          front   \n",
       "2        gas        std        two    hatchback        rwd          front   \n",
       "3        gas        std       four        sedan        fwd          front   \n",
       "4        gas        std       four        sedan        4wd          front   \n",
       "..       ...        ...        ...          ...        ...            ...   \n",
       "200      gas        std       four        sedan        rwd          front   \n",
       "201      gas      turbo       four        sedan        rwd          front   \n",
       "202      gas        std       four        sedan        rwd          front   \n",
       "203   diesel      turbo       four        sedan        rwd          front   \n",
       "204      gas      turbo       four        sedan        rwd          front   \n",
       "\n",
       "     wheelbase  carlength  carwidth  carheight  curbweight enginetype  \\\n",
       "0         88.6      168.8      64.1       48.8        2548       dohc   \n",
       "1         88.6      168.8      64.1       48.8        2548       dohc   \n",
       "2         94.5      171.2      65.5       52.4        2823       ohcv   \n",
       "3         99.8      176.6      66.2       54.3        2337        ohc   \n",
       "4         99.4      176.6      66.4       54.3        2824        ohc   \n",
       "..         ...        ...       ...        ...         ...        ...   \n",
       "200      109.1      188.8      68.9       55.5        2952        ohc   \n",
       "201      109.1      188.8      68.8       55.5        3049        ohc   \n",
       "202      109.1      188.8      68.9       55.5        3012       ohcv   \n",
       "203      109.1      188.8      68.9       55.5        3217        ohc   \n",
       "204      109.1      188.8      68.9       55.5        3062        ohc   \n",
       "\n",
       "    cylindernumber  enginesize  boreratio  horsepower  citympg  highwaympg  \\\n",
       "0             four         130       3.47         111       21          27   \n",
       "1             four         130       3.47         111       21          27   \n",
       "2              six         152       2.68         154       19          26   \n",
       "3             four         109       3.19         102       24          30   \n",
       "4             five         136       3.19         115       18          22   \n",
       "..             ...         ...        ...         ...      ...         ...   \n",
       "200           four         141       3.78         114       23          28   \n",
       "201           four         141       3.78         160       19          25   \n",
       "202            six         173       3.58         134       18          23   \n",
       "203            six         145       3.01         106       26          27   \n",
       "204           four         141       3.78         114       19          25   \n",
       "\n",
       "       price  \n",
       "0    13495.0  \n",
       "1    16500.0  \n",
       "2    16500.0  \n",
       "3    13950.0  \n",
       "4    17450.0  \n",
       "..       ...  \n",
       "200  16845.0  \n",
       "201  19045.0  \n",
       "202  21485.0  \n",
       "203  22470.0  \n",
       "204  22625.0  \n",
       "\n",
       "[205 rows x 19 columns]"
      ]
     },
     "execution_count": 65,
     "metadata": {},
     "output_type": "execute_result"
    }
   ],
   "source": [
    "df"
   ]
  },
  {
   "cell_type": "markdown",
   "id": "745cd984",
   "metadata": {
    "papermill": {
     "duration": 0.048503,
     "end_time": "2022-12-13T10:49:41.272350",
     "exception": false,
     "start_time": "2022-12-13T10:49:41.223847",
     "status": "completed"
    },
    "tags": []
   },
   "source": [
    "* **Converting the categorical data to numerical data using get_dummies() function.**"
   ]
  },
  {
   "cell_type": "code",
   "execution_count": 66,
   "id": "627d6c48",
   "metadata": {
    "execution": {
     "iopub.execute_input": "2022-12-13T10:49:41.374801Z",
     "iopub.status.busy": "2022-12-13T10:49:41.374358Z",
     "iopub.status.idle": "2022-12-13T10:49:41.631092Z",
     "shell.execute_reply": "2022-12-13T10:49:41.629735Z"
    },
    "papermill": {
     "duration": 0.310745,
     "end_time": "2022-12-13T10:49:41.634065",
     "exception": false,
     "start_time": "2022-12-13T10:49:41.323320",
     "status": "completed"
    },
    "tags": []
   },
   "outputs": [],
   "source": [
    "df=pd.get_dummies(data=df,columns=[\"fueltype\",\"aspiration\",\"doornumber\",\"carbody\",\"drivewheel\",\"enginelocation\",\"enginetype\",\"cylindernumber\"])"
   ]
  },
  {
   "cell_type": "code",
   "execution_count": 67,
   "id": "b5c44b57",
   "metadata": {
    "execution": {
     "iopub.execute_input": "2022-12-13T10:49:41.733860Z",
     "iopub.status.busy": "2022-12-13T10:49:41.733407Z",
     "iopub.status.idle": "2022-12-13T10:49:41.761322Z",
     "shell.execute_reply": "2022-12-13T10:49:41.760145Z"
    },
    "papermill": {
     "duration": 0.080326,
     "end_time": "2022-12-13T10:49:41.763963",
     "exception": false,
     "start_time": "2022-12-13T10:49:41.683637",
     "status": "completed"
    },
    "tags": []
   },
   "outputs": [
    {
     "data": {
      "text/html": [
       "<div>\n",
       "<style scoped>\n",
       "    .dataframe tbody tr th:only-of-type {\n",
       "        vertical-align: middle;\n",
       "    }\n",
       "\n",
       "    .dataframe tbody tr th {\n",
       "        vertical-align: top;\n",
       "    }\n",
       "\n",
       "    .dataframe thead th {\n",
       "        text-align: right;\n",
       "    }\n",
       "</style>\n",
       "<table border=\"1\" class=\"dataframe\">\n",
       "  <thead>\n",
       "    <tr style=\"text-align: right;\">\n",
       "      <th></th>\n",
       "      <th>wheelbase</th>\n",
       "      <th>carlength</th>\n",
       "      <th>carwidth</th>\n",
       "      <th>carheight</th>\n",
       "      <th>curbweight</th>\n",
       "      <th>enginesize</th>\n",
       "      <th>boreratio</th>\n",
       "      <th>horsepower</th>\n",
       "      <th>citympg</th>\n",
       "      <th>highwaympg</th>\n",
       "      <th>...</th>\n",
       "      <th>enginetype_ohcf</th>\n",
       "      <th>enginetype_ohcv</th>\n",
       "      <th>enginetype_rotor</th>\n",
       "      <th>cylindernumber_eight</th>\n",
       "      <th>cylindernumber_five</th>\n",
       "      <th>cylindernumber_four</th>\n",
       "      <th>cylindernumber_six</th>\n",
       "      <th>cylindernumber_three</th>\n",
       "      <th>cylindernumber_twelve</th>\n",
       "      <th>cylindernumber_two</th>\n",
       "    </tr>\n",
       "  </thead>\n",
       "  <tbody>\n",
       "    <tr>\n",
       "      <th>0</th>\n",
       "      <td>88.6</td>\n",
       "      <td>168.8</td>\n",
       "      <td>64.1</td>\n",
       "      <td>48.8</td>\n",
       "      <td>2548</td>\n",
       "      <td>130</td>\n",
       "      <td>3.47</td>\n",
       "      <td>111</td>\n",
       "      <td>21</td>\n",
       "      <td>27</td>\n",
       "      <td>...</td>\n",
       "      <td>0</td>\n",
       "      <td>0</td>\n",
       "      <td>0</td>\n",
       "      <td>0</td>\n",
       "      <td>0</td>\n",
       "      <td>1</td>\n",
       "      <td>0</td>\n",
       "      <td>0</td>\n",
       "      <td>0</td>\n",
       "      <td>0</td>\n",
       "    </tr>\n",
       "    <tr>\n",
       "      <th>1</th>\n",
       "      <td>88.6</td>\n",
       "      <td>168.8</td>\n",
       "      <td>64.1</td>\n",
       "      <td>48.8</td>\n",
       "      <td>2548</td>\n",
       "      <td>130</td>\n",
       "      <td>3.47</td>\n",
       "      <td>111</td>\n",
       "      <td>21</td>\n",
       "      <td>27</td>\n",
       "      <td>...</td>\n",
       "      <td>0</td>\n",
       "      <td>0</td>\n",
       "      <td>0</td>\n",
       "      <td>0</td>\n",
       "      <td>0</td>\n",
       "      <td>1</td>\n",
       "      <td>0</td>\n",
       "      <td>0</td>\n",
       "      <td>0</td>\n",
       "      <td>0</td>\n",
       "    </tr>\n",
       "    <tr>\n",
       "      <th>2</th>\n",
       "      <td>94.5</td>\n",
       "      <td>171.2</td>\n",
       "      <td>65.5</td>\n",
       "      <td>52.4</td>\n",
       "      <td>2823</td>\n",
       "      <td>152</td>\n",
       "      <td>2.68</td>\n",
       "      <td>154</td>\n",
       "      <td>19</td>\n",
       "      <td>26</td>\n",
       "      <td>...</td>\n",
       "      <td>0</td>\n",
       "      <td>1</td>\n",
       "      <td>0</td>\n",
       "      <td>0</td>\n",
       "      <td>0</td>\n",
       "      <td>0</td>\n",
       "      <td>1</td>\n",
       "      <td>0</td>\n",
       "      <td>0</td>\n",
       "      <td>0</td>\n",
       "    </tr>\n",
       "    <tr>\n",
       "      <th>3</th>\n",
       "      <td>99.8</td>\n",
       "      <td>176.6</td>\n",
       "      <td>66.2</td>\n",
       "      <td>54.3</td>\n",
       "      <td>2337</td>\n",
       "      <td>109</td>\n",
       "      <td>3.19</td>\n",
       "      <td>102</td>\n",
       "      <td>24</td>\n",
       "      <td>30</td>\n",
       "      <td>...</td>\n",
       "      <td>0</td>\n",
       "      <td>0</td>\n",
       "      <td>0</td>\n",
       "      <td>0</td>\n",
       "      <td>0</td>\n",
       "      <td>1</td>\n",
       "      <td>0</td>\n",
       "      <td>0</td>\n",
       "      <td>0</td>\n",
       "      <td>0</td>\n",
       "    </tr>\n",
       "    <tr>\n",
       "      <th>4</th>\n",
       "      <td>99.4</td>\n",
       "      <td>176.6</td>\n",
       "      <td>66.4</td>\n",
       "      <td>54.3</td>\n",
       "      <td>2824</td>\n",
       "      <td>136</td>\n",
       "      <td>3.19</td>\n",
       "      <td>115</td>\n",
       "      <td>18</td>\n",
       "      <td>22</td>\n",
       "      <td>...</td>\n",
       "      <td>0</td>\n",
       "      <td>0</td>\n",
       "      <td>0</td>\n",
       "      <td>0</td>\n",
       "      <td>1</td>\n",
       "      <td>0</td>\n",
       "      <td>0</td>\n",
       "      <td>0</td>\n",
       "      <td>0</td>\n",
       "      <td>0</td>\n",
       "    </tr>\n",
       "    <tr>\n",
       "      <th>...</th>\n",
       "      <td>...</td>\n",
       "      <td>...</td>\n",
       "      <td>...</td>\n",
       "      <td>...</td>\n",
       "      <td>...</td>\n",
       "      <td>...</td>\n",
       "      <td>...</td>\n",
       "      <td>...</td>\n",
       "      <td>...</td>\n",
       "      <td>...</td>\n",
       "      <td>...</td>\n",
       "      <td>...</td>\n",
       "      <td>...</td>\n",
       "      <td>...</td>\n",
       "      <td>...</td>\n",
       "      <td>...</td>\n",
       "      <td>...</td>\n",
       "      <td>...</td>\n",
       "      <td>...</td>\n",
       "      <td>...</td>\n",
       "      <td>...</td>\n",
       "    </tr>\n",
       "    <tr>\n",
       "      <th>200</th>\n",
       "      <td>109.1</td>\n",
       "      <td>188.8</td>\n",
       "      <td>68.9</td>\n",
       "      <td>55.5</td>\n",
       "      <td>2952</td>\n",
       "      <td>141</td>\n",
       "      <td>3.78</td>\n",
       "      <td>114</td>\n",
       "      <td>23</td>\n",
       "      <td>28</td>\n",
       "      <td>...</td>\n",
       "      <td>0</td>\n",
       "      <td>0</td>\n",
       "      <td>0</td>\n",
       "      <td>0</td>\n",
       "      <td>0</td>\n",
       "      <td>1</td>\n",
       "      <td>0</td>\n",
       "      <td>0</td>\n",
       "      <td>0</td>\n",
       "      <td>0</td>\n",
       "    </tr>\n",
       "    <tr>\n",
       "      <th>201</th>\n",
       "      <td>109.1</td>\n",
       "      <td>188.8</td>\n",
       "      <td>68.8</td>\n",
       "      <td>55.5</td>\n",
       "      <td>3049</td>\n",
       "      <td>141</td>\n",
       "      <td>3.78</td>\n",
       "      <td>160</td>\n",
       "      <td>19</td>\n",
       "      <td>25</td>\n",
       "      <td>...</td>\n",
       "      <td>0</td>\n",
       "      <td>0</td>\n",
       "      <td>0</td>\n",
       "      <td>0</td>\n",
       "      <td>0</td>\n",
       "      <td>1</td>\n",
       "      <td>0</td>\n",
       "      <td>0</td>\n",
       "      <td>0</td>\n",
       "      <td>0</td>\n",
       "    </tr>\n",
       "    <tr>\n",
       "      <th>202</th>\n",
       "      <td>109.1</td>\n",
       "      <td>188.8</td>\n",
       "      <td>68.9</td>\n",
       "      <td>55.5</td>\n",
       "      <td>3012</td>\n",
       "      <td>173</td>\n",
       "      <td>3.58</td>\n",
       "      <td>134</td>\n",
       "      <td>18</td>\n",
       "      <td>23</td>\n",
       "      <td>...</td>\n",
       "      <td>0</td>\n",
       "      <td>1</td>\n",
       "      <td>0</td>\n",
       "      <td>0</td>\n",
       "      <td>0</td>\n",
       "      <td>0</td>\n",
       "      <td>1</td>\n",
       "      <td>0</td>\n",
       "      <td>0</td>\n",
       "      <td>0</td>\n",
       "    </tr>\n",
       "    <tr>\n",
       "      <th>203</th>\n",
       "      <td>109.1</td>\n",
       "      <td>188.8</td>\n",
       "      <td>68.9</td>\n",
       "      <td>55.5</td>\n",
       "      <td>3217</td>\n",
       "      <td>145</td>\n",
       "      <td>3.01</td>\n",
       "      <td>106</td>\n",
       "      <td>26</td>\n",
       "      <td>27</td>\n",
       "      <td>...</td>\n",
       "      <td>0</td>\n",
       "      <td>0</td>\n",
       "      <td>0</td>\n",
       "      <td>0</td>\n",
       "      <td>0</td>\n",
       "      <td>0</td>\n",
       "      <td>1</td>\n",
       "      <td>0</td>\n",
       "      <td>0</td>\n",
       "      <td>0</td>\n",
       "    </tr>\n",
       "    <tr>\n",
       "      <th>204</th>\n",
       "      <td>109.1</td>\n",
       "      <td>188.8</td>\n",
       "      <td>68.9</td>\n",
       "      <td>55.5</td>\n",
       "      <td>3062</td>\n",
       "      <td>141</td>\n",
       "      <td>3.78</td>\n",
       "      <td>114</td>\n",
       "      <td>19</td>\n",
       "      <td>25</td>\n",
       "      <td>...</td>\n",
       "      <td>0</td>\n",
       "      <td>0</td>\n",
       "      <td>0</td>\n",
       "      <td>0</td>\n",
       "      <td>0</td>\n",
       "      <td>1</td>\n",
       "      <td>0</td>\n",
       "      <td>0</td>\n",
       "      <td>0</td>\n",
       "      <td>0</td>\n",
       "    </tr>\n",
       "  </tbody>\n",
       "</table>\n",
       "<p>205 rows × 41 columns</p>\n",
       "</div>"
      ],
      "text/plain": [
       "     wheelbase  carlength  carwidth  carheight  curbweight  enginesize  \\\n",
       "0         88.6      168.8      64.1       48.8        2548         130   \n",
       "1         88.6      168.8      64.1       48.8        2548         130   \n",
       "2         94.5      171.2      65.5       52.4        2823         152   \n",
       "3         99.8      176.6      66.2       54.3        2337         109   \n",
       "4         99.4      176.6      66.4       54.3        2824         136   \n",
       "..         ...        ...       ...        ...         ...         ...   \n",
       "200      109.1      188.8      68.9       55.5        2952         141   \n",
       "201      109.1      188.8      68.8       55.5        3049         141   \n",
       "202      109.1      188.8      68.9       55.5        3012         173   \n",
       "203      109.1      188.8      68.9       55.5        3217         145   \n",
       "204      109.1      188.8      68.9       55.5        3062         141   \n",
       "\n",
       "     boreratio  horsepower  citympg  highwaympg  ...  enginetype_ohcf  \\\n",
       "0         3.47         111       21          27  ...                0   \n",
       "1         3.47         111       21          27  ...                0   \n",
       "2         2.68         154       19          26  ...                0   \n",
       "3         3.19         102       24          30  ...                0   \n",
       "4         3.19         115       18          22  ...                0   \n",
       "..         ...         ...      ...         ...  ...              ...   \n",
       "200       3.78         114       23          28  ...                0   \n",
       "201       3.78         160       19          25  ...                0   \n",
       "202       3.58         134       18          23  ...                0   \n",
       "203       3.01         106       26          27  ...                0   \n",
       "204       3.78         114       19          25  ...                0   \n",
       "\n",
       "     enginetype_ohcv  enginetype_rotor  cylindernumber_eight  \\\n",
       "0                  0                 0                     0   \n",
       "1                  0                 0                     0   \n",
       "2                  1                 0                     0   \n",
       "3                  0                 0                     0   \n",
       "4                  0                 0                     0   \n",
       "..               ...               ...                   ...   \n",
       "200                0                 0                     0   \n",
       "201                0                 0                     0   \n",
       "202                1                 0                     0   \n",
       "203                0                 0                     0   \n",
       "204                0                 0                     0   \n",
       "\n",
       "     cylindernumber_five  cylindernumber_four  cylindernumber_six  \\\n",
       "0                      0                    1                   0   \n",
       "1                      0                    1                   0   \n",
       "2                      0                    0                   1   \n",
       "3                      0                    1                   0   \n",
       "4                      1                    0                   0   \n",
       "..                   ...                  ...                 ...   \n",
       "200                    0                    1                   0   \n",
       "201                    0                    1                   0   \n",
       "202                    0                    0                   1   \n",
       "203                    0                    0                   1   \n",
       "204                    0                    1                   0   \n",
       "\n",
       "     cylindernumber_three  cylindernumber_twelve  cylindernumber_two  \n",
       "0                       0                      0                   0  \n",
       "1                       0                      0                   0  \n",
       "2                       0                      0                   0  \n",
       "3                       0                      0                   0  \n",
       "4                       0                      0                   0  \n",
       "..                    ...                    ...                 ...  \n",
       "200                     0                      0                   0  \n",
       "201                     0                      0                   0  \n",
       "202                     0                      0                   0  \n",
       "203                     0                      0                   0  \n",
       "204                     0                      0                   0  \n",
       "\n",
       "[205 rows x 41 columns]"
      ]
     },
     "execution_count": 67,
     "metadata": {},
     "output_type": "execute_result"
    }
   ],
   "source": [
    "df"
   ]
  },
  {
   "cell_type": "markdown",
   "id": "740b92a7",
   "metadata": {
    "papermill": {
     "duration": 0.048999,
     "end_time": "2022-12-13T10:49:41.863236",
     "exception": false,
     "start_time": "2022-12-13T10:49:41.814237",
     "status": "completed"
    },
    "tags": []
   },
   "source": [
    "**Independent variable=X**"
   ]
  },
  {
   "cell_type": "code",
   "execution_count": 68,
   "id": "99d8f504",
   "metadata": {
    "execution": {
     "iopub.execute_input": "2022-12-13T10:49:41.963354Z",
     "iopub.status.busy": "2022-12-13T10:49:41.962660Z",
     "iopub.status.idle": "2022-12-13T10:49:41.969450Z",
     "shell.execute_reply": "2022-12-13T10:49:41.968567Z"
    },
    "papermill": {
     "duration": 0.059949,
     "end_time": "2022-12-13T10:49:41.971970",
     "exception": false,
     "start_time": "2022-12-13T10:49:41.912021",
     "status": "completed"
    },
    "tags": []
   },
   "outputs": [],
   "source": [
    "X=df.drop([\"price\"],axis=1)"
   ]
  },
  {
   "cell_type": "code",
   "execution_count": 69,
   "id": "d1d151c4",
   "metadata": {
    "execution": {
     "iopub.execute_input": "2022-12-13T10:49:42.074465Z",
     "iopub.status.busy": "2022-12-13T10:49:42.073801Z",
     "iopub.status.idle": "2022-12-13T10:49:42.102804Z",
     "shell.execute_reply": "2022-12-13T10:49:42.101409Z"
    },
    "papermill": {
     "duration": 0.08362,
     "end_time": "2022-12-13T10:49:42.105790",
     "exception": false,
     "start_time": "2022-12-13T10:49:42.022170",
     "status": "completed"
    },
    "tags": []
   },
   "outputs": [
    {
     "data": {
      "text/html": [
       "<div>\n",
       "<style scoped>\n",
       "    .dataframe tbody tr th:only-of-type {\n",
       "        vertical-align: middle;\n",
       "    }\n",
       "\n",
       "    .dataframe tbody tr th {\n",
       "        vertical-align: top;\n",
       "    }\n",
       "\n",
       "    .dataframe thead th {\n",
       "        text-align: right;\n",
       "    }\n",
       "</style>\n",
       "<table border=\"1\" class=\"dataframe\">\n",
       "  <thead>\n",
       "    <tr style=\"text-align: right;\">\n",
       "      <th></th>\n",
       "      <th>wheelbase</th>\n",
       "      <th>carlength</th>\n",
       "      <th>carwidth</th>\n",
       "      <th>carheight</th>\n",
       "      <th>curbweight</th>\n",
       "      <th>enginesize</th>\n",
       "      <th>boreratio</th>\n",
       "      <th>horsepower</th>\n",
       "      <th>citympg</th>\n",
       "      <th>highwaympg</th>\n",
       "      <th>...</th>\n",
       "      <th>enginetype_ohcf</th>\n",
       "      <th>enginetype_ohcv</th>\n",
       "      <th>enginetype_rotor</th>\n",
       "      <th>cylindernumber_eight</th>\n",
       "      <th>cylindernumber_five</th>\n",
       "      <th>cylindernumber_four</th>\n",
       "      <th>cylindernumber_six</th>\n",
       "      <th>cylindernumber_three</th>\n",
       "      <th>cylindernumber_twelve</th>\n",
       "      <th>cylindernumber_two</th>\n",
       "    </tr>\n",
       "  </thead>\n",
       "  <tbody>\n",
       "    <tr>\n",
       "      <th>0</th>\n",
       "      <td>88.6</td>\n",
       "      <td>168.8</td>\n",
       "      <td>64.1</td>\n",
       "      <td>48.8</td>\n",
       "      <td>2548</td>\n",
       "      <td>130</td>\n",
       "      <td>3.47</td>\n",
       "      <td>111</td>\n",
       "      <td>21</td>\n",
       "      <td>27</td>\n",
       "      <td>...</td>\n",
       "      <td>0</td>\n",
       "      <td>0</td>\n",
       "      <td>0</td>\n",
       "      <td>0</td>\n",
       "      <td>0</td>\n",
       "      <td>1</td>\n",
       "      <td>0</td>\n",
       "      <td>0</td>\n",
       "      <td>0</td>\n",
       "      <td>0</td>\n",
       "    </tr>\n",
       "    <tr>\n",
       "      <th>1</th>\n",
       "      <td>88.6</td>\n",
       "      <td>168.8</td>\n",
       "      <td>64.1</td>\n",
       "      <td>48.8</td>\n",
       "      <td>2548</td>\n",
       "      <td>130</td>\n",
       "      <td>3.47</td>\n",
       "      <td>111</td>\n",
       "      <td>21</td>\n",
       "      <td>27</td>\n",
       "      <td>...</td>\n",
       "      <td>0</td>\n",
       "      <td>0</td>\n",
       "      <td>0</td>\n",
       "      <td>0</td>\n",
       "      <td>0</td>\n",
       "      <td>1</td>\n",
       "      <td>0</td>\n",
       "      <td>0</td>\n",
       "      <td>0</td>\n",
       "      <td>0</td>\n",
       "    </tr>\n",
       "    <tr>\n",
       "      <th>2</th>\n",
       "      <td>94.5</td>\n",
       "      <td>171.2</td>\n",
       "      <td>65.5</td>\n",
       "      <td>52.4</td>\n",
       "      <td>2823</td>\n",
       "      <td>152</td>\n",
       "      <td>2.68</td>\n",
       "      <td>154</td>\n",
       "      <td>19</td>\n",
       "      <td>26</td>\n",
       "      <td>...</td>\n",
       "      <td>0</td>\n",
       "      <td>1</td>\n",
       "      <td>0</td>\n",
       "      <td>0</td>\n",
       "      <td>0</td>\n",
       "      <td>0</td>\n",
       "      <td>1</td>\n",
       "      <td>0</td>\n",
       "      <td>0</td>\n",
       "      <td>0</td>\n",
       "    </tr>\n",
       "    <tr>\n",
       "      <th>3</th>\n",
       "      <td>99.8</td>\n",
       "      <td>176.6</td>\n",
       "      <td>66.2</td>\n",
       "      <td>54.3</td>\n",
       "      <td>2337</td>\n",
       "      <td>109</td>\n",
       "      <td>3.19</td>\n",
       "      <td>102</td>\n",
       "      <td>24</td>\n",
       "      <td>30</td>\n",
       "      <td>...</td>\n",
       "      <td>0</td>\n",
       "      <td>0</td>\n",
       "      <td>0</td>\n",
       "      <td>0</td>\n",
       "      <td>0</td>\n",
       "      <td>1</td>\n",
       "      <td>0</td>\n",
       "      <td>0</td>\n",
       "      <td>0</td>\n",
       "      <td>0</td>\n",
       "    </tr>\n",
       "    <tr>\n",
       "      <th>4</th>\n",
       "      <td>99.4</td>\n",
       "      <td>176.6</td>\n",
       "      <td>66.4</td>\n",
       "      <td>54.3</td>\n",
       "      <td>2824</td>\n",
       "      <td>136</td>\n",
       "      <td>3.19</td>\n",
       "      <td>115</td>\n",
       "      <td>18</td>\n",
       "      <td>22</td>\n",
       "      <td>...</td>\n",
       "      <td>0</td>\n",
       "      <td>0</td>\n",
       "      <td>0</td>\n",
       "      <td>0</td>\n",
       "      <td>1</td>\n",
       "      <td>0</td>\n",
       "      <td>0</td>\n",
       "      <td>0</td>\n",
       "      <td>0</td>\n",
       "      <td>0</td>\n",
       "    </tr>\n",
       "    <tr>\n",
       "      <th>...</th>\n",
       "      <td>...</td>\n",
       "      <td>...</td>\n",
       "      <td>...</td>\n",
       "      <td>...</td>\n",
       "      <td>...</td>\n",
       "      <td>...</td>\n",
       "      <td>...</td>\n",
       "      <td>...</td>\n",
       "      <td>...</td>\n",
       "      <td>...</td>\n",
       "      <td>...</td>\n",
       "      <td>...</td>\n",
       "      <td>...</td>\n",
       "      <td>...</td>\n",
       "      <td>...</td>\n",
       "      <td>...</td>\n",
       "      <td>...</td>\n",
       "      <td>...</td>\n",
       "      <td>...</td>\n",
       "      <td>...</td>\n",
       "      <td>...</td>\n",
       "    </tr>\n",
       "    <tr>\n",
       "      <th>200</th>\n",
       "      <td>109.1</td>\n",
       "      <td>188.8</td>\n",
       "      <td>68.9</td>\n",
       "      <td>55.5</td>\n",
       "      <td>2952</td>\n",
       "      <td>141</td>\n",
       "      <td>3.78</td>\n",
       "      <td>114</td>\n",
       "      <td>23</td>\n",
       "      <td>28</td>\n",
       "      <td>...</td>\n",
       "      <td>0</td>\n",
       "      <td>0</td>\n",
       "      <td>0</td>\n",
       "      <td>0</td>\n",
       "      <td>0</td>\n",
       "      <td>1</td>\n",
       "      <td>0</td>\n",
       "      <td>0</td>\n",
       "      <td>0</td>\n",
       "      <td>0</td>\n",
       "    </tr>\n",
       "    <tr>\n",
       "      <th>201</th>\n",
       "      <td>109.1</td>\n",
       "      <td>188.8</td>\n",
       "      <td>68.8</td>\n",
       "      <td>55.5</td>\n",
       "      <td>3049</td>\n",
       "      <td>141</td>\n",
       "      <td>3.78</td>\n",
       "      <td>160</td>\n",
       "      <td>19</td>\n",
       "      <td>25</td>\n",
       "      <td>...</td>\n",
       "      <td>0</td>\n",
       "      <td>0</td>\n",
       "      <td>0</td>\n",
       "      <td>0</td>\n",
       "      <td>0</td>\n",
       "      <td>1</td>\n",
       "      <td>0</td>\n",
       "      <td>0</td>\n",
       "      <td>0</td>\n",
       "      <td>0</td>\n",
       "    </tr>\n",
       "    <tr>\n",
       "      <th>202</th>\n",
       "      <td>109.1</td>\n",
       "      <td>188.8</td>\n",
       "      <td>68.9</td>\n",
       "      <td>55.5</td>\n",
       "      <td>3012</td>\n",
       "      <td>173</td>\n",
       "      <td>3.58</td>\n",
       "      <td>134</td>\n",
       "      <td>18</td>\n",
       "      <td>23</td>\n",
       "      <td>...</td>\n",
       "      <td>0</td>\n",
       "      <td>1</td>\n",
       "      <td>0</td>\n",
       "      <td>0</td>\n",
       "      <td>0</td>\n",
       "      <td>0</td>\n",
       "      <td>1</td>\n",
       "      <td>0</td>\n",
       "      <td>0</td>\n",
       "      <td>0</td>\n",
       "    </tr>\n",
       "    <tr>\n",
       "      <th>203</th>\n",
       "      <td>109.1</td>\n",
       "      <td>188.8</td>\n",
       "      <td>68.9</td>\n",
       "      <td>55.5</td>\n",
       "      <td>3217</td>\n",
       "      <td>145</td>\n",
       "      <td>3.01</td>\n",
       "      <td>106</td>\n",
       "      <td>26</td>\n",
       "      <td>27</td>\n",
       "      <td>...</td>\n",
       "      <td>0</td>\n",
       "      <td>0</td>\n",
       "      <td>0</td>\n",
       "      <td>0</td>\n",
       "      <td>0</td>\n",
       "      <td>0</td>\n",
       "      <td>1</td>\n",
       "      <td>0</td>\n",
       "      <td>0</td>\n",
       "      <td>0</td>\n",
       "    </tr>\n",
       "    <tr>\n",
       "      <th>204</th>\n",
       "      <td>109.1</td>\n",
       "      <td>188.8</td>\n",
       "      <td>68.9</td>\n",
       "      <td>55.5</td>\n",
       "      <td>3062</td>\n",
       "      <td>141</td>\n",
       "      <td>3.78</td>\n",
       "      <td>114</td>\n",
       "      <td>19</td>\n",
       "      <td>25</td>\n",
       "      <td>...</td>\n",
       "      <td>0</td>\n",
       "      <td>0</td>\n",
       "      <td>0</td>\n",
       "      <td>0</td>\n",
       "      <td>0</td>\n",
       "      <td>1</td>\n",
       "      <td>0</td>\n",
       "      <td>0</td>\n",
       "      <td>0</td>\n",
       "      <td>0</td>\n",
       "    </tr>\n",
       "  </tbody>\n",
       "</table>\n",
       "<p>205 rows × 40 columns</p>\n",
       "</div>"
      ],
      "text/plain": [
       "     wheelbase  carlength  carwidth  carheight  curbweight  enginesize  \\\n",
       "0         88.6      168.8      64.1       48.8        2548         130   \n",
       "1         88.6      168.8      64.1       48.8        2548         130   \n",
       "2         94.5      171.2      65.5       52.4        2823         152   \n",
       "3         99.8      176.6      66.2       54.3        2337         109   \n",
       "4         99.4      176.6      66.4       54.3        2824         136   \n",
       "..         ...        ...       ...        ...         ...         ...   \n",
       "200      109.1      188.8      68.9       55.5        2952         141   \n",
       "201      109.1      188.8      68.8       55.5        3049         141   \n",
       "202      109.1      188.8      68.9       55.5        3012         173   \n",
       "203      109.1      188.8      68.9       55.5        3217         145   \n",
       "204      109.1      188.8      68.9       55.5        3062         141   \n",
       "\n",
       "     boreratio  horsepower  citympg  highwaympg  ...  enginetype_ohcf  \\\n",
       "0         3.47         111       21          27  ...                0   \n",
       "1         3.47         111       21          27  ...                0   \n",
       "2         2.68         154       19          26  ...                0   \n",
       "3         3.19         102       24          30  ...                0   \n",
       "4         3.19         115       18          22  ...                0   \n",
       "..         ...         ...      ...         ...  ...              ...   \n",
       "200       3.78         114       23          28  ...                0   \n",
       "201       3.78         160       19          25  ...                0   \n",
       "202       3.58         134       18          23  ...                0   \n",
       "203       3.01         106       26          27  ...                0   \n",
       "204       3.78         114       19          25  ...                0   \n",
       "\n",
       "     enginetype_ohcv  enginetype_rotor  cylindernumber_eight  \\\n",
       "0                  0                 0                     0   \n",
       "1                  0                 0                     0   \n",
       "2                  1                 0                     0   \n",
       "3                  0                 0                     0   \n",
       "4                  0                 0                     0   \n",
       "..               ...               ...                   ...   \n",
       "200                0                 0                     0   \n",
       "201                0                 0                     0   \n",
       "202                1                 0                     0   \n",
       "203                0                 0                     0   \n",
       "204                0                 0                     0   \n",
       "\n",
       "     cylindernumber_five  cylindernumber_four  cylindernumber_six  \\\n",
       "0                      0                    1                   0   \n",
       "1                      0                    1                   0   \n",
       "2                      0                    0                   1   \n",
       "3                      0                    1                   0   \n",
       "4                      1                    0                   0   \n",
       "..                   ...                  ...                 ...   \n",
       "200                    0                    1                   0   \n",
       "201                    0                    1                   0   \n",
       "202                    0                    0                   1   \n",
       "203                    0                    0                   1   \n",
       "204                    0                    1                   0   \n",
       "\n",
       "     cylindernumber_three  cylindernumber_twelve  cylindernumber_two  \n",
       "0                       0                      0                   0  \n",
       "1                       0                      0                   0  \n",
       "2                       0                      0                   0  \n",
       "3                       0                      0                   0  \n",
       "4                       0                      0                   0  \n",
       "..                    ...                    ...                 ...  \n",
       "200                     0                      0                   0  \n",
       "201                     0                      0                   0  \n",
       "202                     0                      0                   0  \n",
       "203                     0                      0                   0  \n",
       "204                     0                      0                   0  \n",
       "\n",
       "[205 rows x 40 columns]"
      ]
     },
     "execution_count": 69,
     "metadata": {},
     "output_type": "execute_result"
    }
   ],
   "source": [
    "X"
   ]
  },
  {
   "cell_type": "markdown",
   "id": "e3a884be",
   "metadata": {
    "papermill": {
     "duration": 0.050321,
     "end_time": "2022-12-13T10:49:42.206394",
     "exception": false,
     "start_time": "2022-12-13T10:49:42.156073",
     "status": "completed"
    },
    "tags": []
   },
   "source": [
    "**Dependent varibale=y**"
   ]
  },
  {
   "cell_type": "code",
   "execution_count": 70,
   "id": "9ecb8f53",
   "metadata": {
    "execution": {
     "iopub.execute_input": "2022-12-13T10:49:42.309717Z",
     "iopub.status.busy": "2022-12-13T10:49:42.308310Z",
     "iopub.status.idle": "2022-12-13T10:49:42.314159Z",
     "shell.execute_reply": "2022-12-13T10:49:42.313022Z"
    },
    "papermill": {
     "duration": 0.060508,
     "end_time": "2022-12-13T10:49:42.316627",
     "exception": false,
     "start_time": "2022-12-13T10:49:42.256119",
     "status": "completed"
    },
    "tags": []
   },
   "outputs": [],
   "source": [
    "y=df[\"price\"]"
   ]
  },
  {
   "cell_type": "code",
   "execution_count": 71,
   "id": "39b8cc8a",
   "metadata": {
    "execution": {
     "iopub.execute_input": "2022-12-13T10:49:42.422989Z",
     "iopub.status.busy": "2022-12-13T10:49:42.422096Z",
     "iopub.status.idle": "2022-12-13T10:49:42.431582Z",
     "shell.execute_reply": "2022-12-13T10:49:42.430597Z"
    },
    "papermill": {
     "duration": 0.065154,
     "end_time": "2022-12-13T10:49:42.433977",
     "exception": false,
     "start_time": "2022-12-13T10:49:42.368823",
     "status": "completed"
    },
    "tags": []
   },
   "outputs": [
    {
     "data": {
      "text/plain": [
       "0      13495.0\n",
       "1      16500.0\n",
       "2      16500.0\n",
       "3      13950.0\n",
       "4      17450.0\n",
       "        ...   \n",
       "200    16845.0\n",
       "201    19045.0\n",
       "202    21485.0\n",
       "203    22470.0\n",
       "204    22625.0\n",
       "Name: price, Length: 205, dtype: float64"
      ]
     },
     "execution_count": 71,
     "metadata": {},
     "output_type": "execute_result"
    }
   ],
   "source": [
    "y"
   ]
  },
  {
   "cell_type": "markdown",
   "id": "eeacff9c",
   "metadata": {
    "papermill": {
     "duration": 0.049137,
     "end_time": "2022-12-13T10:49:42.536255",
     "exception": false,
     "start_time": "2022-12-13T10:49:42.487118",
     "status": "completed"
    },
    "tags": []
   },
   "source": [
    "**Scaling the Independent data using StandardScaler() function**"
   ]
  },
  {
   "cell_type": "code",
   "execution_count": 72,
   "id": "e0acf25b",
   "metadata": {
    "execution": {
     "iopub.execute_input": "2022-12-13T10:49:42.637826Z",
     "iopub.status.busy": "2022-12-13T10:49:42.637390Z",
     "iopub.status.idle": "2022-12-13T10:49:42.642014Z",
     "shell.execute_reply": "2022-12-13T10:49:42.640946Z"
    },
    "papermill": {
     "duration": 0.058644,
     "end_time": "2022-12-13T10:49:42.644499",
     "exception": false,
     "start_time": "2022-12-13T10:49:42.585855",
     "status": "completed"
    },
    "tags": []
   },
   "outputs": [],
   "source": [
    "scaler=StandardScaler()"
   ]
  },
  {
   "cell_type": "code",
   "execution_count": 73,
   "id": "5711622a",
   "metadata": {
    "execution": {
     "iopub.execute_input": "2022-12-13T10:49:42.747467Z",
     "iopub.status.busy": "2022-12-13T10:49:42.746563Z",
     "iopub.status.idle": "2022-12-13T10:49:42.758338Z",
     "shell.execute_reply": "2022-12-13T10:49:42.757216Z"
    },
    "papermill": {
     "duration": 0.066211,
     "end_time": "2022-12-13T10:49:42.760980",
     "exception": false,
     "start_time": "2022-12-13T10:49:42.694769",
     "status": "completed"
    },
    "tags": []
   },
   "outputs": [],
   "source": [
    "X=scaler.fit_transform(X)"
   ]
  },
  {
   "cell_type": "code",
   "execution_count": 74,
   "id": "785c456c",
   "metadata": {
    "execution": {
     "iopub.execute_input": "2022-12-13T10:49:42.862198Z",
     "iopub.status.busy": "2022-12-13T10:49:42.861792Z",
     "iopub.status.idle": "2022-12-13T10:49:42.868967Z",
     "shell.execute_reply": "2022-12-13T10:49:42.868048Z"
    },
    "papermill": {
     "duration": 0.061246,
     "end_time": "2022-12-13T10:49:42.871276",
     "exception": false,
     "start_time": "2022-12-13T10:49:42.810030",
     "status": "completed"
    },
    "tags": []
   },
   "outputs": [
    {
     "data": {
      "text/plain": [
       "array([[-1.6907718 , -0.42652147, -0.84478235, ..., -0.070014  ,\n",
       "        -0.070014  , -0.14106912],\n",
       "       [-1.6907718 , -0.42652147, -0.84478235, ..., -0.070014  ,\n",
       "        -0.070014  , -0.14106912],\n",
       "       [-0.70859588, -0.23151305, -0.19056612, ..., -0.070014  ,\n",
       "        -0.070014  , -0.14106912],\n",
       "       ...,\n",
       "       [ 1.72187336,  1.19854871,  1.39824472, ..., -0.070014  ,\n",
       "        -0.070014  , -0.14106912],\n",
       "       [ 1.72187336,  1.19854871,  1.39824472, ..., -0.070014  ,\n",
       "        -0.070014  , -0.14106912],\n",
       "       [ 1.72187336,  1.19854871,  1.39824472, ..., -0.070014  ,\n",
       "        -0.070014  , -0.14106912]])"
      ]
     },
     "execution_count": 74,
     "metadata": {},
     "output_type": "execute_result"
    }
   ],
   "source": [
    "X"
   ]
  },
  {
   "cell_type": "markdown",
   "id": "8cc6250e",
   "metadata": {
    "papermill": {
     "duration": 0.049589,
     "end_time": "2022-12-13T10:49:42.974875",
     "exception": false,
     "start_time": "2022-12-13T10:49:42.925286",
     "status": "completed"
    },
    "tags": []
   },
   "source": [
    "<div style=\"color:black;\n",
    "           display:fill;\n",
    "           border-radius:5px;\n",
    "           background-color:yellow;\n",
    "           font-size:150%;\n",
    "           font-family:Verdana;\n",
    "           letter-spacing:0.5px\">\n",
    "\n",
    "<p >Prediction using Linear Regression Model</p>\n",
    "\n",
    "</div>\n"
   ]
  },
  {
   "cell_type": "code",
   "execution_count": 75,
   "id": "46b3ef81",
   "metadata": {
    "execution": {
     "iopub.execute_input": "2022-12-13T10:49:43.076583Z",
     "iopub.status.busy": "2022-12-13T10:49:43.075808Z",
     "iopub.status.idle": "2022-12-13T10:49:43.084390Z",
     "shell.execute_reply": "2022-12-13T10:49:43.083048Z"
    },
    "papermill": {
     "duration": 0.062857,
     "end_time": "2022-12-13T10:49:43.087213",
     "exception": false,
     "start_time": "2022-12-13T10:49:43.024356",
     "status": "completed"
    },
    "tags": []
   },
   "outputs": [],
   "source": [
    "X_train,X_test,y_train,y_test=train_test_split(X,y,test_size=0.25,random_state=42)"
   ]
  },
  {
   "cell_type": "code",
   "execution_count": 76,
   "id": "383bace3",
   "metadata": {
    "execution": {
     "iopub.execute_input": "2022-12-13T10:49:43.189451Z",
     "iopub.status.busy": "2022-12-13T10:49:43.188919Z",
     "iopub.status.idle": "2022-12-13T10:49:43.195916Z",
     "shell.execute_reply": "2022-12-13T10:49:43.194508Z"
    },
    "papermill": {
     "duration": 0.061817,
     "end_time": "2022-12-13T10:49:43.199634",
     "exception": false,
     "start_time": "2022-12-13T10:49:43.137817",
     "status": "completed"
    },
    "tags": []
   },
   "outputs": [
    {
     "name": "stdout",
     "output_type": "stream",
     "text": [
      "(153, 40)\n",
      "(52, 40)\n"
     ]
    }
   ],
   "source": [
    "print(X_train.shape)\n",
    "print(X_test.shape)"
   ]
  },
  {
   "cell_type": "code",
   "execution_count": 77,
   "id": "8f31fb76",
   "metadata": {
    "execution": {
     "iopub.execute_input": "2022-12-13T10:49:43.302038Z",
     "iopub.status.busy": "2022-12-13T10:49:43.301210Z",
     "iopub.status.idle": "2022-12-13T10:49:43.311104Z",
     "shell.execute_reply": "2022-12-13T10:49:43.309747Z"
    },
    "papermill": {
     "duration": 0.063337,
     "end_time": "2022-12-13T10:49:43.313623",
     "exception": false,
     "start_time": "2022-12-13T10:49:43.250286",
     "status": "completed"
    },
    "tags": []
   },
   "outputs": [
    {
     "data": {
      "text/plain": [
       "90      7099.0\n",
       "173     8948.0\n",
       "93      7349.0\n",
       "5      15250.0\n",
       "167     8449.0\n",
       "        ...   \n",
       "106    18399.0\n",
       "14     24565.0\n",
       "92      6849.0\n",
       "179    15998.0\n",
       "102    14399.0\n",
       "Name: price, Length: 153, dtype: float64"
      ]
     },
     "execution_count": 77,
     "metadata": {},
     "output_type": "execute_result"
    }
   ],
   "source": [
    "y_train"
   ]
  },
  {
   "cell_type": "code",
   "execution_count": 78,
   "id": "38f98edb",
   "metadata": {
    "execution": {
     "iopub.execute_input": "2022-12-13T10:49:43.416560Z",
     "iopub.status.busy": "2022-12-13T10:49:43.416138Z",
     "iopub.status.idle": "2022-12-13T10:49:43.421561Z",
     "shell.execute_reply": "2022-12-13T10:49:43.420343Z"
    },
    "papermill": {
     "duration": 0.06035,
     "end_time": "2022-12-13T10:49:43.424118",
     "exception": false,
     "start_time": "2022-12-13T10:49:43.363768",
     "status": "completed"
    },
    "tags": []
   },
   "outputs": [],
   "source": [
    "lr=LinearRegression()"
   ]
  },
  {
   "cell_type": "markdown",
   "id": "748dfb15",
   "metadata": {
    "papermill": {
     "duration": 0.04926,
     "end_time": "2022-12-13T10:49:43.523840",
     "exception": false,
     "start_time": "2022-12-13T10:49:43.474580",
     "status": "completed"
    },
    "tags": []
   },
   "source": [
    "**Fit the model**"
   ]
  },
  {
   "cell_type": "code",
   "execution_count": 79,
   "id": "0437ac0d",
   "metadata": {
    "execution": {
     "iopub.execute_input": "2022-12-13T10:49:43.625953Z",
     "iopub.status.busy": "2022-12-13T10:49:43.625496Z",
     "iopub.status.idle": "2022-12-13T10:49:43.651324Z",
     "shell.execute_reply": "2022-12-13T10:49:43.650005Z"
    },
    "papermill": {
     "duration": 0.079481,
     "end_time": "2022-12-13T10:49:43.653970",
     "exception": false,
     "start_time": "2022-12-13T10:49:43.574489",
     "status": "completed"
    },
    "tags": []
   },
   "outputs": [
    {
     "data": {
      "text/plain": [
       "LinearRegression()"
      ]
     },
     "execution_count": 79,
     "metadata": {},
     "output_type": "execute_result"
    }
   ],
   "source": [
    "lr.fit(X_train,y_train)"
   ]
  },
  {
   "cell_type": "markdown",
   "id": "2cab610f",
   "metadata": {
    "papermill": {
     "duration": 0.050738,
     "end_time": "2022-12-13T10:49:43.755639",
     "exception": false,
     "start_time": "2022-12-13T10:49:43.704901",
     "status": "completed"
    },
    "tags": []
   },
   "source": [
    "**Predicted values**"
   ]
  },
  {
   "cell_type": "code",
   "execution_count": 80,
   "id": "bd050337",
   "metadata": {
    "execution": {
     "iopub.execute_input": "2022-12-13T10:49:43.858892Z",
     "iopub.status.busy": "2022-12-13T10:49:43.858458Z",
     "iopub.status.idle": "2022-12-13T10:49:43.864233Z",
     "shell.execute_reply": "2022-12-13T10:49:43.862860Z"
    },
    "papermill": {
     "duration": 0.06023,
     "end_time": "2022-12-13T10:49:43.866789",
     "exception": false,
     "start_time": "2022-12-13T10:49:43.806559",
     "status": "completed"
    },
    "tags": []
   },
   "outputs": [],
   "source": [
    "y_predictions=lr.predict(X_test)"
   ]
  },
  {
   "cell_type": "code",
   "execution_count": 81,
   "id": "92b05f74",
   "metadata": {
    "execution": {
     "iopub.execute_input": "2022-12-13T10:49:43.970586Z",
     "iopub.status.busy": "2022-12-13T10:49:43.969729Z",
     "iopub.status.idle": "2022-12-13T10:49:43.977114Z",
     "shell.execute_reply": "2022-12-13T10:49:43.976095Z"
    },
    "papermill": {
     "duration": 0.0614,
     "end_time": "2022-12-13T10:49:43.979571",
     "exception": false,
     "start_time": "2022-12-13T10:49:43.918171",
     "status": "completed"
    },
    "tags": []
   },
   "outputs": [
    {
     "data": {
      "text/plain": [
       "(52,)"
      ]
     },
     "execution_count": 81,
     "metadata": {},
     "output_type": "execute_result"
    }
   ],
   "source": [
    "y_predictions.shape"
   ]
  },
  {
   "cell_type": "code",
   "execution_count": 82,
   "id": "de7ae7e3",
   "metadata": {
    "execution": {
     "iopub.execute_input": "2022-12-13T10:49:44.083569Z",
     "iopub.status.busy": "2022-12-13T10:49:44.083137Z",
     "iopub.status.idle": "2022-12-13T10:49:44.090412Z",
     "shell.execute_reply": "2022-12-13T10:49:44.089204Z"
    },
    "papermill": {
     "duration": 0.062825,
     "end_time": "2022-12-13T10:49:44.092700",
     "exception": false,
     "start_time": "2022-12-13T10:49:44.029875",
     "status": "completed"
    },
    "tags": []
   },
   "outputs": [
    {
     "data": {
      "text/plain": [
       "(52,)"
      ]
     },
     "execution_count": 82,
     "metadata": {},
     "output_type": "execute_result"
    }
   ],
   "source": [
    "y_test.shape"
   ]
  },
  {
   "cell_type": "markdown",
   "id": "0942ff07",
   "metadata": {
    "papermill": {
     "duration": 0.050662,
     "end_time": "2022-12-13T10:49:44.194204",
     "exception": false,
     "start_time": "2022-12-13T10:49:44.143542",
     "status": "completed"
    },
    "tags": []
   },
   "source": [
    "<div style=\"color:black;\n",
    "           display:fill;\n",
    "           border-radius:5px;\n",
    "           background-color:yellow;\n",
    "           font-size:150%;\n",
    "           font-family:Verdana;\n",
    "           letter-spacing:0.5px\">\n",
    "\n",
    "<p >Performance Check</p>\n",
    "\n",
    "</div>"
   ]
  },
  {
   "cell_type": "markdown",
   "id": "d7e9778f",
   "metadata": {
    "papermill": {
     "duration": 0.056351,
     "end_time": "2022-12-13T10:49:44.302663",
     "exception": false,
     "start_time": "2022-12-13T10:49:44.246312",
     "status": "completed"
    },
    "tags": []
   },
   "source": [
    "**Accuracy on train data**"
   ]
  },
  {
   "cell_type": "code",
   "execution_count": 83,
   "id": "5c187b1e",
   "metadata": {
    "execution": {
     "iopub.execute_input": "2022-12-13T10:49:44.486557Z",
     "iopub.status.busy": "2022-12-13T10:49:44.486166Z",
     "iopub.status.idle": "2022-12-13T10:49:44.492804Z",
     "shell.execute_reply": "2022-12-13T10:49:44.491079Z"
    },
    "papermill": {
     "duration": 0.06203,
     "end_time": "2022-12-13T10:49:44.495000",
     "exception": false,
     "start_time": "2022-12-13T10:49:44.432970",
     "status": "completed"
    },
    "tags": []
   },
   "outputs": [],
   "source": [
    "accuracy_traindata=lr.score(X_train,y_train)"
   ]
  },
  {
   "cell_type": "code",
   "execution_count": 84,
   "id": "08d6dc36",
   "metadata": {
    "execution": {
     "iopub.execute_input": "2022-12-13T10:49:44.600811Z",
     "iopub.status.busy": "2022-12-13T10:49:44.599952Z",
     "iopub.status.idle": "2022-12-13T10:49:44.606633Z",
     "shell.execute_reply": "2022-12-13T10:49:44.605692Z"
    },
    "papermill": {
     "duration": 0.063185,
     "end_time": "2022-12-13T10:49:44.609192",
     "exception": false,
     "start_time": "2022-12-13T10:49:44.546007",
     "status": "completed"
    },
    "tags": []
   },
   "outputs": [
    {
     "data": {
      "text/plain": [
       "0.9342150859307063"
      ]
     },
     "execution_count": 84,
     "metadata": {},
     "output_type": "execute_result"
    }
   ],
   "source": [
    "accuracy_traindata"
   ]
  },
  {
   "cell_type": "markdown",
   "id": "cd115871",
   "metadata": {
    "papermill": {
     "duration": 0.052535,
     "end_time": "2022-12-13T10:49:44.712472",
     "exception": false,
     "start_time": "2022-12-13T10:49:44.659937",
     "status": "completed"
    },
    "tags": []
   },
   "source": [
    "* **Accuaracy on train data is 93.4 %**"
   ]
  },
  {
   "cell_type": "markdown",
   "id": "83a3cc24",
   "metadata": {
    "papermill": {
     "duration": 0.051811,
     "end_time": "2022-12-13T10:49:44.814743",
     "exception": false,
     "start_time": "2022-12-13T10:49:44.762932",
     "status": "completed"
    },
    "tags": []
   },
   "source": [
    "**Accuracy on test data**"
   ]
  },
  {
   "cell_type": "code",
   "execution_count": 85,
   "id": "2eb20a66",
   "metadata": {
    "execution": {
     "iopub.execute_input": "2022-12-13T10:49:44.919309Z",
     "iopub.status.busy": "2022-12-13T10:49:44.918527Z",
     "iopub.status.idle": "2022-12-13T10:49:44.923999Z",
     "shell.execute_reply": "2022-12-13T10:49:44.923075Z"
    },
    "papermill": {
     "duration": 0.06083,
     "end_time": "2022-12-13T10:49:44.926480",
     "exception": false,
     "start_time": "2022-12-13T10:49:44.865650",
     "status": "completed"
    },
    "tags": []
   },
   "outputs": [],
   "source": [
    "accuracy_testdata=lr.score(X_test,y_test)"
   ]
  },
  {
   "cell_type": "code",
   "execution_count": 86,
   "id": "73aca594",
   "metadata": {
    "execution": {
     "iopub.execute_input": "2022-12-13T10:49:45.029746Z",
     "iopub.status.busy": "2022-12-13T10:49:45.029026Z",
     "iopub.status.idle": "2022-12-13T10:49:45.035018Z",
     "shell.execute_reply": "2022-12-13T10:49:45.033946Z"
    },
    "papermill": {
     "duration": 0.06043,
     "end_time": "2022-12-13T10:49:45.037114",
     "exception": false,
     "start_time": "2022-12-13T10:49:44.976684",
     "status": "completed"
    },
    "tags": []
   },
   "outputs": [
    {
     "data": {
      "text/plain": [
       "0.859244084667572"
      ]
     },
     "execution_count": 86,
     "metadata": {},
     "output_type": "execute_result"
    }
   ],
   "source": [
    "accuracy_testdata"
   ]
  },
  {
   "cell_type": "markdown",
   "id": "ff1b5575",
   "metadata": {
    "papermill": {
     "duration": 0.051224,
     "end_time": "2022-12-13T10:49:45.138702",
     "exception": false,
     "start_time": "2022-12-13T10:49:45.087478",
     "status": "completed"
    },
    "tags": []
   },
   "source": [
    "* **Accuaracy on test data is 85.9 %**"
   ]
  },
  {
   "cell_type": "markdown",
   "id": "5aaba66a",
   "metadata": {
    "papermill": {
     "duration": 0.050904,
     "end_time": "2022-12-13T10:49:45.240266",
     "exception": false,
     "start_time": "2022-12-13T10:49:45.189362",
     "status": "completed"
    },
    "tags": []
   },
   "source": [
    "**Mean Squared Error**"
   ]
  },
  {
   "cell_type": "code",
   "execution_count": 87,
   "id": "b544e7f6",
   "metadata": {
    "execution": {
     "iopub.execute_input": "2022-12-13T10:49:45.343379Z",
     "iopub.status.busy": "2022-12-13T10:49:45.342987Z",
     "iopub.status.idle": "2022-12-13T10:49:45.348943Z",
     "shell.execute_reply": "2022-12-13T10:49:45.347642Z"
    },
    "papermill": {
     "duration": 0.060415,
     "end_time": "2022-12-13T10:49:45.351628",
     "exception": false,
     "start_time": "2022-12-13T10:49:45.291213",
     "status": "completed"
    },
    "tags": []
   },
   "outputs": [],
   "source": [
    "MSE=mean_squared_error(y_test,y_predictions)"
   ]
  },
  {
   "cell_type": "markdown",
   "id": "26d1132a",
   "metadata": {
    "papermill": {
     "duration": 0.050849,
     "end_time": "2022-12-13T10:49:45.453590",
     "exception": false,
     "start_time": "2022-12-13T10:49:45.402741",
     "status": "completed"
    },
    "tags": []
   },
   "source": [
    "**Mean Absolute Error**"
   ]
  },
  {
   "cell_type": "code",
   "execution_count": 88,
   "id": "9699127a",
   "metadata": {
    "execution": {
     "iopub.execute_input": "2022-12-13T10:49:45.561177Z",
     "iopub.status.busy": "2022-12-13T10:49:45.559950Z",
     "iopub.status.idle": "2022-12-13T10:49:45.566268Z",
     "shell.execute_reply": "2022-12-13T10:49:45.565375Z"
    },
    "papermill": {
     "duration": 0.062172,
     "end_time": "2022-12-13T10:49:45.568873",
     "exception": false,
     "start_time": "2022-12-13T10:49:45.506701",
     "status": "completed"
    },
    "tags": []
   },
   "outputs": [],
   "source": [
    "MAE=mean_absolute_error(y_test,y_predictions)"
   ]
  },
  {
   "cell_type": "markdown",
   "id": "9bf3bb8c",
   "metadata": {
    "papermill": {
     "duration": 0.055353,
     "end_time": "2022-12-13T10:49:45.674717",
     "exception": false,
     "start_time": "2022-12-13T10:49:45.619364",
     "status": "completed"
    },
    "tags": []
   },
   "source": [
    "**R Squared**"
   ]
  },
  {
   "cell_type": "code",
   "execution_count": 89,
   "id": "c3efbee6",
   "metadata": {
    "execution": {
     "iopub.execute_input": "2022-12-13T10:49:45.781804Z",
     "iopub.status.busy": "2022-12-13T10:49:45.780944Z",
     "iopub.status.idle": "2022-12-13T10:49:45.786931Z",
     "shell.execute_reply": "2022-12-13T10:49:45.786100Z"
    },
    "papermill": {
     "duration": 0.062538,
     "end_time": "2022-12-13T10:49:45.789560",
     "exception": false,
     "start_time": "2022-12-13T10:49:45.727022",
     "status": "completed"
    },
    "tags": []
   },
   "outputs": [],
   "source": [
    "R_squared=metrics.r2_score(y_test,y_predictions)"
   ]
  },
  {
   "cell_type": "code",
   "execution_count": 90,
   "id": "91670dd3",
   "metadata": {
    "execution": {
     "iopub.execute_input": "2022-12-13T10:49:45.896316Z",
     "iopub.status.busy": "2022-12-13T10:49:45.895334Z",
     "iopub.status.idle": "2022-12-13T10:49:46.638943Z",
     "shell.execute_reply": "2022-12-13T10:49:46.637325Z"
    },
    "papermill": {
     "duration": 0.80185,
     "end_time": "2022-12-13T10:49:46.643806",
     "exception": false,
     "start_time": "2022-12-13T10:49:45.841956",
     "status": "completed"
    },
    "tags": []
   },
   "outputs": [],
   "source": [
    "import statsmodels.api as sm\n",
    "X = sm.add_constant(X)\n",
    "model = sm.OLS(y, X).fit()"
   ]
  },
  {
   "cell_type": "markdown",
   "id": "e3be0ef6",
   "metadata": {
    "papermill": {
     "duration": 0.052514,
     "end_time": "2022-12-13T10:49:46.818427",
     "exception": false,
     "start_time": "2022-12-13T10:49:46.765913",
     "status": "completed"
    },
    "tags": []
   },
   "source": [
    "**Adjusted R squared**"
   ]
  },
  {
   "cell_type": "code",
   "execution_count": 91,
   "id": "f8b75678",
   "metadata": {
    "execution": {
     "iopub.execute_input": "2022-12-13T10:49:46.922731Z",
     "iopub.status.busy": "2022-12-13T10:49:46.922287Z",
     "iopub.status.idle": "2022-12-13T10:49:46.928515Z",
     "shell.execute_reply": "2022-12-13T10:49:46.927029Z"
    },
    "papermill": {
     "duration": 0.061512,
     "end_time": "2022-12-13T10:49:46.931261",
     "exception": false,
     "start_time": "2022-12-13T10:49:46.869749",
     "status": "completed"
    },
    "tags": []
   },
   "outputs": [],
   "source": [
    "Adjusted_r_squared=model.rsquared_adj"
   ]
  },
  {
   "cell_type": "code",
   "execution_count": 92,
   "id": "9621f105",
   "metadata": {
    "execution": {
     "iopub.execute_input": "2022-12-13T10:49:47.037544Z",
     "iopub.status.busy": "2022-12-13T10:49:47.037125Z",
     "iopub.status.idle": "2022-12-13T10:49:47.044367Z",
     "shell.execute_reply": "2022-12-13T10:49:47.043132Z"
    },
    "papermill": {
     "duration": 0.063324,
     "end_time": "2022-12-13T10:49:47.046847",
     "exception": false,
     "start_time": "2022-12-13T10:49:46.983523",
     "status": "completed"
    },
    "tags": []
   },
   "outputs": [
    {
     "data": {
      "text/plain": [
       "9523480.044716489"
      ]
     },
     "execution_count": 92,
     "metadata": {},
     "output_type": "execute_result"
    }
   ],
   "source": [
    "MSE"
   ]
  },
  {
   "cell_type": "code",
   "execution_count": 93,
   "id": "ee9967ff",
   "metadata": {
    "execution": {
     "iopub.execute_input": "2022-12-13T10:49:47.150647Z",
     "iopub.status.busy": "2022-12-13T10:49:47.150208Z",
     "iopub.status.idle": "2022-12-13T10:49:47.157711Z",
     "shell.execute_reply": "2022-12-13T10:49:47.156525Z"
    },
    "papermill": {
     "duration": 0.062358,
     "end_time": "2022-12-13T10:49:47.160128",
     "exception": false,
     "start_time": "2022-12-13T10:49:47.097770",
     "status": "completed"
    },
    "tags": []
   },
   "outputs": [
    {
     "data": {
      "text/plain": [
       "2185.5677084820095"
      ]
     },
     "execution_count": 93,
     "metadata": {},
     "output_type": "execute_result"
    }
   ],
   "source": [
    "MAE"
   ]
  },
  {
   "cell_type": "code",
   "execution_count": 94,
   "id": "02f78f80",
   "metadata": {
    "execution": {
     "iopub.execute_input": "2022-12-13T10:49:47.265402Z",
     "iopub.status.busy": "2022-12-13T10:49:47.264711Z",
     "iopub.status.idle": "2022-12-13T10:49:47.271742Z",
     "shell.execute_reply": "2022-12-13T10:49:47.270619Z"
    },
    "papermill": {
     "duration": 0.062451,
     "end_time": "2022-12-13T10:49:47.274069",
     "exception": false,
     "start_time": "2022-12-13T10:49:47.211618",
     "status": "completed"
    },
    "tags": []
   },
   "outputs": [
    {
     "data": {
      "text/plain": [
       "0.859244084667572"
      ]
     },
     "execution_count": 94,
     "metadata": {},
     "output_type": "execute_result"
    }
   ],
   "source": [
    "R_squared"
   ]
  },
  {
   "cell_type": "markdown",
   "id": "717bede0",
   "metadata": {
    "papermill": {
     "duration": 0.050626,
     "end_time": "2022-12-13T10:49:47.375146",
     "exception": false,
     "start_time": "2022-12-13T10:49:47.324520",
     "status": "completed"
    },
    "tags": []
   },
   "source": [
    "* **R_squared with the value of 0.85 it indicates good model for predicting the target value.**"
   ]
  },
  {
   "cell_type": "code",
   "execution_count": 95,
   "id": "baa2adc1",
   "metadata": {
    "execution": {
     "iopub.execute_input": "2022-12-13T10:49:47.480430Z",
     "iopub.status.busy": "2022-12-13T10:49:47.479715Z",
     "iopub.status.idle": "2022-12-13T10:49:47.486986Z",
     "shell.execute_reply": "2022-12-13T10:49:47.485835Z"
    },
    "papermill": {
     "duration": 0.063458,
     "end_time": "2022-12-13T10:49:47.489537",
     "exception": false,
     "start_time": "2022-12-13T10:49:47.426079",
     "status": "completed"
    },
    "tags": []
   },
   "outputs": [
    {
     "data": {
      "text/plain": [
       "0.9086597427937704"
      ]
     },
     "execution_count": 95,
     "metadata": {},
     "output_type": "execute_result"
    }
   ],
   "source": [
    "Adjusted_r_squared"
   ]
  },
  {
   "cell_type": "markdown",
   "id": "b1d62fae",
   "metadata": {
    "papermill": {
     "duration": 0.050592,
     "end_time": "2022-12-13T10:49:47.591256",
     "exception": false,
     "start_time": "2022-12-13T10:49:47.540664",
     "status": "completed"
    },
    "tags": []
   },
   "source": [
    "* **Adjusted_r_squared close to 1, it indicates that model perfectly predicts the target values that is PRICE of the car.**"
   ]
  }
 ],
 "metadata": {
  "kernelspec": {
   "display_name": "Python 3",
   "language": "python",
   "name": "python3"
  },
  "language_info": {
   "codemirror_mode": {
    "name": "ipython",
    "version": 3
   },
   "file_extension": ".py",
   "mimetype": "text/x-python",
   "name": "python",
   "nbconvert_exporter": "python",
   "pygments_lexer": "ipython3",
   "version": "3.7.12"
  },
  "papermill": {
   "default_parameters": {},
   "duration": 34.378426,
   "end_time": "2022-12-13T10:49:48.564371",
   "environment_variables": {},
   "exception": null,
   "input_path": "__notebook__.ipynb",
   "output_path": "__notebook__.ipynb",
   "parameters": {},
   "start_time": "2022-12-13T10:49:14.185945",
   "version": "2.3.4"
  }
 },
 "nbformat": 4,
 "nbformat_minor": 5
}
